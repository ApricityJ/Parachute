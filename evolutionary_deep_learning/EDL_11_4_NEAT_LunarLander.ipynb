{
 "cells": [
  {
   "cell_type": "code",
   "execution_count": null,
   "metadata": {
    "colab": {
     "base_uri": "https://localhost:8080/"
    },
    "id": "OJIzMx03QU7p",
    "outputId": "c55aa649-c87a-4385-f4e9-cfcd9e5f056a"
   },
   "outputs": [
    {
     "name": "stdout",
     "output_type": "stream",
     "text": [
      "action space: Discrete(4)\n",
      "observation space: Box(-inf, inf, (8,), float32)\n"
     ]
    }
   ],
   "source": [
    "import gym.wrappers\n",
    "import matplotlib.pyplot as plt\n",
    "import numpy as np\n",
    "import random\n",
    "import mediapy\n",
    "import time\n",
    "import multiprocessing\n",
    "\n",
    "import neat\n",
    "\n",
    "NUM_CORES = 8\n",
    "\n",
    "env = gym.make('LunarLander-v2')\n",
    "\n",
    "print(\"action space: {0!r}\".format(env.action_space))\n",
    "print(\"observation space: {0!r}\".format(env.observation_space))\n"
   ]
  },
  {
   "cell_type": "code",
   "execution_count": null,
   "metadata": {
    "colab": {
     "base_uri": "https://localhost:8080/"
    },
    "id": "jpWForNjXesx",
    "outputId": "16da5d5b-75d3-488f-c272-cb36d6aba7d8"
   },
   "outputs": [
    {
     "data": {
      "text/plain": [
       "<Display cmd_param=['Xvfb', '-br', '-nolisten', 'tcp', '-screen', '0', '1400x900x24', ':1001'] cmd=['Xvfb', '-br', '-nolisten', 'tcp', '-screen', '0', '1400x900x24', ':1001'] oserror=None return_code=None stdout=\"None\" stderr=\"None\" timeout_happened=False>"
      ]
     },
     "execution_count": 5,
     "metadata": {},
     "output_type": "execute_result"
    }
   ],
   "source": [
    "from pyvirtualdisplay import Display\n",
    "display = Display(visible=0, size=(1400, 900))\n",
    "display.start()"
   ]
  },
  {
   "cell_type": "code",
   "execution_count": null,
   "metadata": {
    "colab": {
     "base_uri": "https://localhost:8080/",
     "height": 286
    },
    "id": "_Qzcx4MpWjtd",
    "outputId": "33f55701-3208-42e8-a3e0-b499c00c7e87"
   },
   "outputs": [
    {
     "data": {
      "text/plain": [
       "<matplotlib.image.AxesImage at 0x7f5dfcdad3d0>"
      ]
     },
     "execution_count": 6,
     "metadata": {},
     "output_type": "execute_result"
    },
    {
     "data": {
      "image/png": "[encoded data removed]",
      "text/plain": [
       "<Figure size 432x288 with 1 Axes>"
      ]
     },
     "metadata": {},
     "output_type": "display_data"
    }
   ],
   "source": [
    "import gym.wrappers\n",
    "import matplotlib.pyplot as plt\n",
    "\n",
    "env = gym.make('LunarLander-v2')\n",
    "state = env.reset()\n",
    "plt.imshow(env.render(mode='rgb_array'))"
   ]
  },
  {
   "cell_type": "code",
   "execution_count": null,
   "metadata": {
    "colab": {
     "base_uri": "https://localhost:8080/"
    },
    "id": "489233lARlQY",
    "outputId": "eddd623f-7d7f-44fd-8cd5-51b77841317c"
   },
   "outputs": [
    {
     "name": "stdout",
     "output_type": "stream",
     "text": [
      "Writing config\n"
     ]
    }
   ],
   "source": [
    "%%writefile config\n",
    "# neat-python configuration for the LunarLander-v2 environment on OpenAI Gym\n",
    "\n",
    "[NEAT]\n",
    "pop_size              = 150\n",
    "# Note: the fitness threshold will never be reached because\n",
    "# we are controlling the termination ourselves based on simulation performance.\n",
    "fitness_criterion     = max\n",
    "fitness_threshold     = 1000.0\n",
    "reset_on_extinction   = 0\n",
    "\n",
    "[LanderGenome]\n",
    "num_inputs              = 8\n",
    "num_hidden              = 8\n",
    "num_outputs             = 4\n",
    "initial_connection      = partial_direct 0.5\n",
    "feed_forward            = True\n",
    "compatibility_disjoint_coefficient = 1.0\n",
    "compatibility_weight_coefficient   = 1.0\n",
    "conn_add_prob           = 0.15\n",
    "conn_delete_prob        = 0.1\n",
    "node_add_prob           = 0.15\n",
    "node_delete_prob        = 0.1\n",
    "activation_default      = clamped\n",
    "activation_options      = clamped\n",
    "activation_mutate_rate  = 0.0\n",
    "aggregation_default     = sum\n",
    "aggregation_options     = sum\n",
    "aggregation_mutate_rate = 0.0\n",
    "bias_init_mean          = 0.0\n",
    "bias_init_stdev         = 1.0\n",
    "bias_replace_rate       = 0.02\n",
    "bias_mutate_rate        = 0.8\n",
    "bias_mutate_power       = 0.4\n",
    "bias_max_value          = 30.0\n",
    "bias_min_value          = -30.0\n",
    "response_init_mean      = 1.0\n",
    "response_init_stdev     = 0.0\n",
    "response_replace_rate   = 0.0\n",
    "response_mutate_rate    = 0.1\n",
    "response_mutate_power   = 0.01\n",
    "response_max_value      = 30.0\n",
    "response_min_value      = -30.0\n",
    "\n",
    "weight_max_value        = 30\n",
    "weight_min_value        = -30\n",
    "weight_init_mean        = 0.0\n",
    "weight_init_stdev       = 1.0\n",
    "weight_mutate_rate      = 0.8\n",
    "weight_replace_rate     = 0.02\n",
    "weight_mutate_power     = 0.4\n",
    "enabled_default         = True\n",
    "enabled_mutate_rate     = 0.01\n",
    "\n",
    "[DefaultSpeciesSet]\n",
    "compatibility_threshold = 3.0\n",
    "\n",
    "[DefaultStagnation]\n",
    "species_fitness_func = mean\n",
    "max_stagnation       = 15\n",
    "species_elitism      = 4\n",
    "\n",
    "[DefaultReproduction]\n",
    "elitism            = 2\n",
    "survival_threshold = 0.2"
   ]
  },
  {
   "cell_type": "code",
   "execution_count": null,
   "metadata": {
    "id": "3TEZuKmzJYIP"
   },
   "outputs": [],
   "source": [
    "class LanderGenome(neat.DefaultGenome):\n",
    "    def __init__(self, key):\n",
    "        super().__init__(key)\n",
    "        self.discount = None\n",
    "\n",
    "    def configure_new(self, config):\n",
    "        super().configure_new(config)\n",
    "        self.discount = 0.01 + 0.98 * random.random()\n",
    "\n",
    "    def configure_crossover(self, genome1, genome2, config):\n",
    "        super().configure_crossover(genome1, genome2, config)\n",
    "        self.discount = random.choice((genome1.discount, genome2.discount))\n",
    "\n",
    "    def mutate(self, config):\n",
    "        super().mutate(config)\n",
    "        self.discount += random.gauss(0.0, 0.05)\n",
    "        self.discount = max(0.01, min(0.99, self.discount))\n",
    "\n",
    "    def distance(self, other, config):\n",
    "        dist = super().distance(other, config)\n",
    "        disc_diff = abs(self.discount - other.discount)\n",
    "        return dist + disc_diff\n",
    "\n",
    "    def __str__(self):\n",
    "        return f\"Reward discount: {self.discount}\\n{super().__str__()}\""
   ]
  },
  {
   "cell_type": "code",
   "execution_count": null,
   "metadata": {
    "colab": {
     "base_uri": "https://localhost:8080/"
    },
    "id": "MvanqqViI2jy",
    "outputId": "8a172883-f679-41a7-dbd4-79cf99ecb186"
   },
   "outputs": [
    {
     "name": "stdout",
     "output_type": "stream",
     "text": [
      "<class '__main__.LanderGenome'> <neat.genome.DefaultGenomeConfig object at 0x7f5dfccc2f90> 150\n"
     ]
    }
   ],
   "source": [
    "config = neat.Config(LanderGenome, neat.DefaultReproduction,\n",
    "                     neat.DefaultSpeciesSet, neat.DefaultStagnation,\n",
    "                     'config')\n",
    "\n",
    "print(config.genome_type, config.genome_config,config.pop_size)"
   ]
  },
  {
   "cell_type": "code",
   "execution_count": null,
   "metadata": {
    "colab": {
     "base_uri": "https://localhost:8080/"
    },
    "id": "VOjE7HGNI803",
    "outputId": "71d16ce0-3c2b-467c-a898-af25c030085d"
   },
   "outputs": [
    {
     "name": "stdout",
     "output_type": "stream",
     "text": [
      "[-0.00212317  1.3998296  -0.21506032 -0.492907    0.00246693  0.04871431\n",
      "  0.          0.        ]\n"
     ]
    }
   ],
   "source": [
    "env = gym.make('LunarLander-v2')\n",
    "state = env.reset()\n",
    "print(state)"
   ]
  },
  {
   "cell_type": "code",
   "execution_count": null,
   "metadata": {
    "colab": {
     "base_uri": "https://localhost:8080/"
    },
    "id": "G5-dLTljJj3a",
    "outputId": "9c1d4ddd-ef9b-4793-c149-515ae4f3b994"
   },
   "outputs": [
    {
     "name": "stdout",
     "output_type": "stream",
     "text": [
      "[1.0, 1.0, 0.6975111370392931, 0.34042474145223606]\n",
      "[-0.00628681  1.4041693  -0.3179596  -0.16285734  0.0072127   0.07128145\n",
      "  0.          0.        ] -1.0459071007763612 False {}\n"
     ]
    }
   ],
   "source": [
    "key = \"fred\"\n",
    "fred = config.genome_type(key)\n",
    "fred.configure_new(config.genome_config)\n",
    "\n",
    "net = neat.nn.FeedForwardNetwork.create(fred, config)\n",
    "action = net.activate(state)\n",
    "print(action)\n",
    "\n",
    "env.reset()\n",
    "state, reward, done, info = env.step(np.argmax(action))\n",
    "print(state, reward, done, info)"
   ]
  },
  {
   "cell_type": "code",
   "execution_count": null,
   "metadata": {
    "colab": {
     "base_uri": "https://localhost:8080/",
     "height": 441
    },
    "id": "gzOMpGfOJ-zY",
    "outputId": "3a4174b6-12f4-4cf2-df23-2b37964297aa"
   },
   "outputs": [],
   "source": [
    "#@title Simulation Options { run: \"auto\" }\n",
    "SIMULATION_ITERATIONS = 60 #@param {type:\"slider\", min:10, max:100, step:1}\n",
    "SIMULATION_RUNS = 10 #@param {type:\"slider\", min:1, max:10, step:1}\n",
    "\n",
    "frames = []\n",
    "fitnesses = []\n",
    "for run in range(SIMULATION_RUNS):  \n",
    "  state = env.reset()\n",
    "  fitness = 0\n",
    "  for i in range(SIMULATION_ITERATIONS):\n",
    "    action = net.activate(state)\n",
    "    state, reward, done, info = env.step(np.argmax(action))  \n",
    "    frames.append(env.render(mode='rgb_array'))  \n",
    "    fitness += reward       \n",
    "    if done: \n",
    "      fitnesses.append(fitness) \n",
    "      break \n",
    "\n",
    "print(fitnesses)\n",
    "mediapy.show_video(frames, fps=30)"
   ]
  },
  {
   "cell_type": "code",
   "execution_count": null,
   "metadata": {
    "id": "_rKF7PYjdv3K"
   },
   "outputs": [],
   "source": [
    "def compute_fitness(genome, net, episodes, min_reward, max_reward):\n",
    "  m = int(round(np.log(0.01) / np.log(genome.discount)))\n",
    "  discount_function = [genome.discount ** (m - i) for i in range(m + 1)]\n",
    "\n",
    "  reward_error = []\n",
    "  for score, data in episodes:\n",
    "    # Compute normalized discounted reward.\n",
    "    dr = np.convolve(data[:, -1], discount_function)[m:]\n",
    "    dr = 2 * (dr - min_reward) / (max_reward - min_reward) - 1.0\n",
    "    dr = np.clip(dr, -1.0, 1.0)\n",
    "\n",
    "    for row, dr in zip(data, dr):\n",
    "      observation = row[:8]\n",
    "      action = int(row[8])\n",
    "      output = net.activate(observation)\n",
    "      reward_error.append(float((output[action] - dr) ** 2))\n",
    "\n",
    "  return reward_error"
   ]
  },
  {
   "cell_type": "code",
   "execution_count": null,
   "metadata": {
    "id": "lQdohQbgeqf6"
   },
   "outputs": [],
   "source": [
    "class PooledErrorCompute(object):\n",
    "    def __init__(self, num_workers):\n",
    "        self.num_workers = num_workers\n",
    "        self.test_episodes = []\n",
    "        self.generation = 0\n",
    "\n",
    "        self.min_reward = -200\n",
    "        self.max_reward = 200\n",
    "\n",
    "        self.episode_score = []\n",
    "        self.episode_length = []\n",
    "\n",
    "    def simulate(self, nets):\n",
    "        scores = []\n",
    "        for genome, net in nets:\n",
    "            observation = env.reset()\n",
    "            step = 0\n",
    "            data = []\n",
    "            while 1:\n",
    "                step += 1\n",
    "                if step < 200 and random.random() < 0.2:\n",
    "                    action = env.action_space.sample()\n",
    "                else:\n",
    "                    output = net.activate(observation)\n",
    "                    action = np.argmax(output)\n",
    "\n",
    "                observation, reward, done, info = env.step(action)\n",
    "                data.append(np.hstack((observation, action, reward)))\n",
    "\n",
    "                if done:\n",
    "                    break\n",
    "\n",
    "            data = np.array(data)\n",
    "            score = np.sum(data[:, -1])\n",
    "            self.episode_score.append(score)\n",
    "            scores.append(score)\n",
    "            self.episode_length.append(step)\n",
    "\n",
    "            self.test_episodes.append((score, data))\n",
    "\n",
    "        print(\"Score range [{:.3f}, {:.3f}]\".format(min(scores), max(scores)))\n",
    "\n",
    "    def evaluate_genomes(self, genomes, config):\n",
    "        self.generation += 1\n",
    "\n",
    "        t0 = time.time()\n",
    "        nets = []\n",
    "        for gid, g in genomes:\n",
    "            nets.append((g, neat.nn.FeedForwardNetwork.create(g, config)))\n",
    "\n",
    "        print(\"network creation time {0}\".format(time.time() - t0))\n",
    "        t0 = time.time()\n",
    "\n",
    "        # Periodically generate a new set of episodes for comparison.\n",
    "        if 1 == self.generation % 10:\n",
    "            self.test_episodes = self.test_episodes[-300:]\n",
    "            self.simulate(nets)\n",
    "            print(\"simulation run time {0}\".format(time.time() - t0))\n",
    "            t0 = time.time()\n",
    "\n",
    "        # Assign a composite fitness to each genome; genomes can make progress either\n",
    "        # by improving their total reward or by making more accurate reward estimates.\n",
    "        print(\"Evaluating {0} test episodes\".format(len(self.test_episodes)))\n",
    "        if self.num_workers < 2:\n",
    "            for genome, net in nets:\n",
    "                reward_error = compute_fitness(genome, net, self.test_episodes, self.min_reward, self.max_reward)\n",
    "                genome.fitness = -np.sum(reward_error) / len(self.test_episodes)\n",
    "        else:\n",
    "            with multiprocessing.Pool(self.num_workers) as pool:\n",
    "                jobs = []\n",
    "                for genome, net in nets:\n",
    "                    jobs.append(pool.apply_async(compute_fitness,\n",
    "                                                 (genome, net, self.test_episodes,\n",
    "                                                  self.min_reward, self.max_reward)))\n",
    "\n",
    "                for job, (genome_id, genome) in zip(jobs, genomes):\n",
    "                    reward_error = job.get(timeout=None)\n",
    "                    genome.fitness = -np.sum(reward_error) / len(self.test_episodes)\n",
    "\n",
    "        print(\"final fitness compute time {0}\\n\".format(time.time() - t0))"
   ]
  },
  {
   "cell_type": "code",
   "execution_count": null,
   "metadata": {
    "colab": {
     "background_save": true,
     "base_uri": "https://localhost:8080/"
    },
    "id": "ctb_amU2etg0",
    "outputId": "3b5a28de-9df3-4142-cc4b-1880d1cc15b2"
   },
   "outputs": [],
   "source": [
    "pop = neat.Population(config)\n",
    "stats = neat.StatisticsReporter()\n",
    "pop.add_reporter(stats)\n",
    "pop.add_reporter(neat.StdOutReporter(True))\n",
    "# Checkpoint every 25 generations or 900 seconds.\n",
    "pop.add_reporter(neat.Checkpointer(25, 900))\n",
    "\n",
    "# Run until the winner from a generation is able to solve the environment\n",
    "# or the user interrupts the process.\n",
    "ec = PooledErrorCompute(NUM_CORES)\n",
    "while 1:\n",
    "  try:\n",
    "    gen_best = pop.run(ec.evaluate_genomes, 5)\n",
    "\n",
    "    # print(gen_best)\n",
    "\n",
    "    #visualize.plot_stats(stats, ylog=False, view=False, filename=\"fitness.svg\")\n",
    "\n",
    "    plt.plot(ec.episode_score, 'g-', label='score')\n",
    "    plt.plot(ec.episode_length, 'b-', label='length')\n",
    "    plt.grid()\n",
    "    plt.legend(loc='best')\n",
    "    plt.savefig(\"scores.svg\")\n",
    "    plt.close()\n",
    "\n",
    "    mfs = sum(stats.get_fitness_mean()[-5:]) / 5.0\n",
    "    print(\"Average mean fitness over last 5 generations: {0}\".format(mfs))\n",
    "\n",
    "    mfs = sum(stats.get_fitness_stat(min)[-5:]) / 5.0\n",
    "    print(\"Average min fitness over last 5 generations: {0}\".format(mfs))\n",
    "\n",
    "    # Use the best genomes seen so far as an ensemble-ish control system.\n",
    "    best_genomes = stats.best_unique_genomes(3)\n",
    "    best_networks = []\n",
    "    for g in best_genomes:\n",
    "        best_networks.append(neat.nn.FeedForwardNetwork.create(g, config))\n",
    "\n",
    "    solved = True\n",
    "    best_scores = []\n",
    "    for k in range(100):\n",
    "        observation = env.reset()\n",
    "        score = 0\n",
    "        step = 0\n",
    "        while 1:\n",
    "            step += 1\n",
    "            # Use the total reward estimates from all five networks to\n",
    "            # determine the best action given the current state.\n",
    "            votes = np.zeros((4,))\n",
    "            for n in best_networks:\n",
    "                output = n.activate(observation)\n",
    "                votes[np.argmax(output)] += 1\n",
    "\n",
    "            best_action = np.argmax(votes)\n",
    "            observation, reward, done, info = env.step(best_action)\n",
    "            score += reward\n",
    "            env.render()\n",
    "            if done:\n",
    "                break\n",
    "\n",
    "        ec.episode_score.append(score)\n",
    "        ec.episode_length.append(step)\n",
    "\n",
    "        best_scores.append(score)\n",
    "        avg_score = sum(best_scores) / len(best_scores)\n",
    "        print(k, score, avg_score)\n",
    "        if avg_score < 200:\n",
    "            solved = False\n",
    "            break\n",
    "\n",
    "    if solved:\n",
    "        print(\"Solved.\")\n",
    "\n",
    "        # Save the winners.\n",
    "        for n, g in enumerate(best_genomes):\n",
    "            name = 'winner-{0}'.format(n)\n",
    "            with open(name + '.pickle', 'wb') as f:\n",
    "                pickle.dump(g, f)\n",
    "\n",
    "            #visualize.draw_net(config, g, view=False, filename=name + \"-net.gv\")\n",
    "            #visualize.draw_net(config, g, view=False, filename=name + \"-net-pruned.gv\", prune_unused=True)\n",
    "\n",
    "        break\n",
    "  except KeyboardInterrupt:\n",
    "      print(\"User break.\")\n",
    "      break\n",
    "\n",
    "env.close()"
   ]
  }
 ],
 "metadata": {
  "colab": {
   "collapsed_sections": [],
   "name": "EDL_11_4_NEAT_LunarLander.ipynb",
   "provenance": [],
   "authorship_tag": "ABX9TyMOVE9GwZCBKQNcvdqhesY8",
   "include_colab_link": true
  },
  "kernelspec": {
   "display_name": "Python 3",
   "name": "python3"
  },
  "language_info": {
   "name": "python"
  }
 },
 "nbformat": 4,
 "nbformat_minor": 0
}
