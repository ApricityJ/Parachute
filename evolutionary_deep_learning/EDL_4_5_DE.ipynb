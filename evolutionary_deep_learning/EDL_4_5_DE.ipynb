{
 "cells": [
  {
   "cell_type": "code",
   "execution_count": 1,
   "metadata": {
    "collapsed": true,
    "ExecuteTime": {
     "start_time": "2024-02-02T15:16:03.233328Z",
     "end_time": "2024-02-02T15:16:03.550577Z"
    }
   },
   "outputs": [],
   "source": [
    "import random\n",
    "import array\n",
    "import time\n",
    "\n",
    "import numpy as np\n",
    "\n",
    "from deap import base\n",
    "from deap import benchmarks\n",
    "from deap import creator\n",
    "from deap import tools\n",
    "\n",
    "%matplotlib inline\n",
    "import matplotlib.pyplot as plt\n",
    "from IPython.display import clear_output"
   ]
  },
  {
   "cell_type": "code",
   "execution_count": 2,
   "outputs": [],
   "source": [
    "#@title Hyperparameters\n",
    "NDIM = 6\n",
    "CR = 0.25\n",
    "F = 1\n",
    "MU = 300\n",
    "NGEN = 1000\n",
    "GEN_OUTPUT = 25\n",
    "MAX_TIME = 5"
   ],
   "metadata": {
    "collapsed": false,
    "ExecuteTime": {
     "start_time": "2024-02-02T15:16:14.055615Z",
     "end_time": "2024-02-02T15:16:14.060585Z"
    }
   }
  },
  {
   "cell_type": "code",
   "execution_count": 3,
   "outputs": [],
   "source": [
    "#@title Setup Fitness Criteria\n",
    "creator.create(\"FitnessMin\", base.Fitness, weights=(-1.0,))\n",
    "creator.create(\"Individual\", array.array, typecode='d', fitness=creator.FitnessMin)"
   ],
   "metadata": {
    "collapsed": false,
    "ExecuteTime": {
     "start_time": "2024-02-02T15:16:27.729870Z",
     "end_time": "2024-02-02T15:16:27.735877Z"
    }
   }
  },
  {
   "cell_type": "code",
   "execution_count": 4,
   "outputs": [],
   "source": [
    "#@title Add Genetic Operators to Toolbox\n",
    "toolbox = base.Toolbox()\n",
    "toolbox.register(\"attr_float\", random.uniform, -3, 3)\n",
    "toolbox.register(\"individual\", tools.initRepeat, creator.Individual, toolbox.attr_float, NDIM)\n",
    "toolbox.register(\"population\", tools.initRepeat, list, toolbox.individual)\n",
    "toolbox.register(\"select\", tools.selRandom, k=3)"
   ],
   "metadata": {
    "collapsed": false,
    "ExecuteTime": {
     "start_time": "2024-02-02T15:16:38.508624Z",
     "end_time": "2024-02-02T15:16:38.513112Z"
    }
   }
  },
  {
   "cell_type": "code",
   "execution_count": 6,
   "outputs": [
    {
     "data": {
      "text/plain": "<matplotlib.collections.PathCollection at 0x117133160>"
     },
     "execution_count": 6,
     "metadata": {},
     "output_type": "execute_result"
    },
    {
     "data": {
      "text/plain": "<Figure size 432x288 with 1 Axes>",
      "image/png": "[encoded data removed]"
     },
     "metadata": {
      "needs_background": "light"
     },
     "output_type": "display_data"
    }
   ],
   "source": [
    "#@title Generate regression data\n",
    "equation_form = \"polynomial\" #@param [\"polynomial\", \"abs\", \"step\"]\n",
    "\n",
    "X_START = -5\n",
    "X_END = 5\n",
    "X_STEP = 0.5\n",
    "\n",
    "def equation(x):\n",
    "  if equation_form == \"polynomial\":\n",
    "    return (2*x + 3*x**2 + 4*x**3 + 5*x**4 + 6*x**5 + 10)\n",
    "  elif equation_form == \"abs\":\n",
    "    return abs(x)\n",
    "  else:\n",
    "    return np.where(x>1, 1, 0)\n",
    "\n",
    "X = np.array([x for x in np.arange(X_START, X_END, X_STEP)])\n",
    "Y = equation(X)\n",
    "data = list(zip(X, Y))\n",
    "\n",
    "plt.scatter(X,Y)"
   ],
   "metadata": {
    "collapsed": false,
    "ExecuteTime": {
     "start_time": "2024-02-02T15:17:08.830301Z",
     "end_time": "2024-02-02T15:17:08.922562Z"
    }
   }
  },
  {
   "cell_type": "code",
   "execution_count": 7,
   "outputs": [],
   "source": [
    "#@title Evaluation of fitness\n",
    "def pred(ind, x):\n",
    "  y_ = 0.0\n",
    "  for i in range(1,NDIM):\n",
    "    y_ += ind[i-1]*x**i\n",
    "  y_ += ind[NDIM-1]\n",
    "  return y_\n",
    "\n",
    "def fitness(ind, data):\n",
    "  mse = 0.0\n",
    "  for x, y in data:\n",
    "    y_ = pred(ind, x)\n",
    "    mse += (y - y_)**2\n",
    "  return mse/len(data),\n",
    "\n",
    "# fitness eval\n",
    "toolbox.register(\"evaluate\", fitness, data=data)"
   ],
   "metadata": {
    "collapsed": false,
    "ExecuteTime": {
     "start_time": "2024-02-02T15:18:54.982098Z",
     "end_time": "2024-02-02T15:18:54.985030Z"
    }
   }
  },
  {
   "cell_type": "code",
   "execution_count": 8,
   "outputs": [],
   "source": [
    "#@title Plot Fitness\n",
    "def plot_fitness(g, best, pop, logbook):\n",
    "  Y_ = np.array([pred(best, x) for x in X])\n",
    "  clear_output()\n",
    "  print(f\"Generation {g}, Best {best}\")\n",
    "  print(logbook.stream)\n",
    "  fits = [f.fitness.values[0] for f in pop]\n",
    "  plt.hist(fits)\n",
    "  plt.show()\n",
    "  plt.scatter(X,Y)\n",
    "  plt.plot(X,Y_, 'r')\n",
    "  plt.show()"
   ],
   "metadata": {
    "collapsed": false,
    "ExecuteTime": {
     "start_time": "2024-02-02T15:19:04.959216Z",
     "end_time": "2024-02-02T15:19:04.964525Z"
    }
   }
  },
  {
   "cell_type": "code",
   "execution_count": 9,
   "outputs": [
    {
     "name": "stdout",
     "output_type": "stream",
     "text": [
      "Generation 274, Best Individual('d', [-3.5128642214250547, 10.24113291608553, 5.3163747546334115, 4.66888517457846, 5.947969415866613, -18.960755374519422])\n",
      "250\t300  \t7080.82    \t310.61     \t7986.74    \t58487.7    \n",
      "251\t300  \t7027.93    \t310.61     \t7901.73    \t58487.7    \n",
      "252\t300  \t7027.64    \t310.61     \t7894.64    \t58487.7    \n",
      "253\t300  \t7034.64    \t310.61     \t7870.81    \t58487.7    \n",
      "254\t300  \t7032.49    \t310.61     \t7823.94    \t58487.7    \n",
      "255\t300  \t7032.1     \t310.61     \t7741.28    \t58487.7    \n",
      "256\t300  \t6896.84    \t310.61     \t7674.72    \t56018.9    \n",
      "257\t300  \t6902.5     \t310.61     \t7661.49    \t56018.9    \n",
      "258\t300  \t6904.93    \t310.61     \t7624.86    \t56018.9    \n",
      "259\t300  \t6916.25    \t310.61     \t7594.74    \t56018.9    \n",
      "260\t300  \t6900.86    \t310.61     \t7563.2     \t56018.9    \n",
      "261\t300  \t6902.61    \t310.61     \t7477.93    \t56018.9    \n",
      "262\t300  \t6842.61    \t310.61     \t7410.04    \t56018.9    \n",
      "263\t300  \t6553.63    \t310.61     \t7293.57    \t56018.9    \n",
      "264\t300  \t6547.21    \t310.61     \t7272.37    \t56018.9    \n",
      "265\t300  \t6498.88    \t310.61     \t7164.53    \t56018.9    \n",
      "266\t300  \t6496.75    \t310.61     \t7131.3     \t56018.9    \n",
      "267\t300  \t6462.88    \t310.61     \t7087.44    \t56018.9    \n",
      "268\t300  \t6450.64    \t310.61     \t7049.65    \t56018.9    \n",
      "269\t300  \t6444.97    \t310.61     \t6957.64    \t56018.9    \n",
      "270\t300  \t6400.21    \t310.61     \t6886.6     \t56018.9    \n",
      "271\t300  \t6357.66    \t310.61     \t6826.82    \t56018.9    \n",
      "272\t300  \t6311.73    \t310.61     \t6790.77    \t56018.9    \n",
      "273\t300  \t6308.27    \t310.61     \t6776.58    \t56018.9    \n",
      "274\t300  \t6313.98    \t310.61     \t6701.58    \t56018.9    \n"
     ]
    },
    {
     "data": {
      "text/plain": "<Figure size 432x288 with 1 Axes>",
      "image/png": "[encoded data removed]"
     },
     "metadata": {
      "needs_background": "light"
     },
     "output_type": "display_data"
    },
    {
     "data": {
      "text/plain": "<Figure size 432x288 with 1 Axes>",
      "image/png": "[encoded data removed]"
     },
     "metadata": {
      "needs_background": "light"
     },
     "output_type": "display_data"
    },
    {
     "name": "stdout",
     "output_type": "stream",
     "text": [
      "Best individual is  Individual('d', [-3.5128642214250547, 10.24113291608553, 5.3163747546334115, 4.66888517457846, 5.947969415866613, -18.960755374519422]) 310.6099532907916\n"
     ]
    }
   ],
   "source": [
    "\n",
    "pop = toolbox.population(n=MU);\n",
    "hof = tools.HallOfFame(1)\n",
    "stats = tools.Statistics(lambda ind: ind.fitness.values)\n",
    "stats.register(\"avg\", np.mean)\n",
    "stats.register(\"std\", np.std)\n",
    "stats.register(\"min\", np.min)\n",
    "stats.register(\"max\", np.max)\n",
    "\n",
    "logbook = tools.Logbook()\n",
    "logbook.header = \"gen\", \"evals\", \"std\", \"min\", \"avg\", \"max\"\n",
    "\n",
    "# Evaluate the individuals\n",
    "fitnesses = toolbox.map(toolbox.evaluate, pop)\n",
    "for ind, fit in zip(pop, fitnesses):\n",
    "    ind.fitness.values = fit\n",
    "\n",
    "record = stats.compile(pop)\n",
    "logbook.record(gen=0, evals=len(pop), **record)\n",
    "print(logbook.stream)\n",
    "start = time.time()\n",
    "for g in range(1, NGEN):\n",
    "  for k, agent in enumerate(pop):\n",
    "    a,b,c = toolbox.select(pop)\n",
    "    y = toolbox.clone(agent)\n",
    "    index = random.randrange(NDIM)\n",
    "    for i, value in enumerate(agent):\n",
    "      if i == index or random.random() < CR:\n",
    "        y[i] = a[i] + F*(b[i]-c[i])\n",
    "    y.fitness.values = toolbox.evaluate(y)\n",
    "    if y.fitness > agent.fitness:\n",
    "      pop[k] = y\n",
    "  hof.update(pop)\n",
    "  record = stats.compile(pop)\n",
    "  logbook.record(gen=g, evals=len(pop), **record)\n",
    "  if (g+1) % GEN_OUTPUT == 0:\n",
    "    plot_fitness(g, hof[0], pop, logbook)\n",
    "    end = time.time()\n",
    "    if end-start > MAX_TIME:\n",
    "      break\n",
    "\n",
    "print(\"Best individual is \", hof[0], hof[0].fitness.values[0])"
   ],
   "metadata": {
    "collapsed": false,
    "ExecuteTime": {
     "start_time": "2024-02-02T15:19:20.730658Z",
     "end_time": "2024-02-02T15:19:26.060777Z"
    }
   }
  },
  {
   "cell_type": "code",
   "execution_count": null,
   "outputs": [],
   "source": [],
   "metadata": {
    "collapsed": false
   }
  }
 ],
 "metadata": {
  "kernelspec": {
   "display_name": "Python 3",
   "language": "python",
   "name": "python3"
  },
  "language_info": {
   "codemirror_mode": {
    "name": "ipython",
    "version": 2
   },
   "file_extension": ".py",
   "mimetype": "text/x-python",
   "name": "python",
   "nbconvert_exporter": "python",
   "pygments_lexer": "ipython2",
   "version": "2.7.6"
  }
 },
 "nbformat": 4,
 "nbformat_minor": 0
}
