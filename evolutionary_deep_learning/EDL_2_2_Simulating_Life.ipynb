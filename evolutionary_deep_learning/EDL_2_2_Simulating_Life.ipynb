{
 "cells": [
  {
   "cell_type": "code",
   "execution_count": 1,
   "outputs": [],
   "source": [
    "import random\n",
    "import time\n",
    "import matplotlib.pyplot as plt\n",
    "from IPython.display import clear_output"
   ],
   "metadata": {
    "collapsed": false,
    "ExecuteTime": {
     "start_time": "2024-01-08T18:03:37.978339Z",
     "end_time": "2024-01-08T18:03:38.356169Z"
    }
   }
  },
  {
   "cell_type": "code",
   "execution_count": 2,
   "outputs": [
    {
     "name": "stdout",
     "output_type": "stream",
     "text": [
      "[{'health': 26}, {'health': 100}, {'health': 65}, {'health': 48}, {'health': 65}, {'health': 98}, {'health': 9}, {'health': 70}, {'health': 86}, {'health': 7}]\n"
     ]
    }
   ],
   "source": [
    "def create_cell():\n",
    "  return dict(health = random.randint(1, 100))\n",
    "\n",
    "def birth(offspring):\n",
    "  return [create_cell() for i in range(offspring)]\n",
    "\n",
    "cells = birth(10)\n",
    "print(cells)"
   ],
   "metadata": {
    "collapsed": false,
    "ExecuteTime": {
     "start_time": "2024-01-08T18:03:50.382630Z",
     "end_time": "2024-01-08T18:03:50.392158Z"
    }
   }
  },
  {
   "cell_type": "code",
   "execution_count": 3,
   "outputs": [],
   "source": [
    "RPRD_RATE = 25\n",
    "DEATH_RATE = 25\n",
    "\n",
    "def reproduce(cells):\n",
    "  return [create_cell() for cell in cells if random.randint(1, 100) < RPRD_RATE]\n",
    "\n",
    "def death(cells):\n",
    "  return [cell for cell in cells if random.randint(1, 100) > DEATH_RATE ]\n",
    "\n",
    "def run_generation(cells):\n",
    "  cells.extend(reproduce(cells))\n",
    "  return death(cells)\n"
   ],
   "metadata": {
    "collapsed": false,
    "ExecuteTime": {
     "start_time": "2024-01-08T18:04:02.195349Z",
     "end_time": "2024-01-08T18:04:02.201787Z"
    }
   }
  },
  {
   "cell_type": "code",
   "execution_count": 13,
   "outputs": [
    {
     "data": {
      "text/plain": "<Figure size 432x288 with 1 Axes>",
      "image/png": "[encoded data removed]"
     },
     "metadata": {
      "needs_background": "light"
     },
     "output_type": "display_data"
    }
   ],
   "source": [
    "#@title Simulate the Cells Population Growth\n",
    "generations = 10 #@param {type:\"slider\", min:1, max:25, step:1}\n",
    "initial_offspring = 1000 #@param {type:\"slider\", min:10, max:1000, step:1}\n",
    "reproduction_rate = 50 #@param {type:\"slider\", min:1, max:100, step:1}\n",
    "death_rate = 50 #@param {type:\"slider\", min:1, max:100, step:1}\n",
    "\n",
    "RPRD_RATE = reproduction_rate\n",
    "DEATH_RATE = death_rate\n",
    "cells = birth(initial_offspring)\n",
    "\n",
    "history = []\n",
    "for i in range(generations):\n",
    "  cells = run_generation(cells)\n",
    "  history.append(len(cells))\n",
    "  clear_output()\n",
    "  plt.plot(history)\n",
    "  plt.show()\n",
    "  time.sleep(1)"
   ],
   "metadata": {
    "collapsed": false,
    "ExecuteTime": {
     "start_time": "2024-01-08T18:18:37.305400Z",
     "end_time": "2024-01-08T18:18:48.321372Z"
    }
   }
  }
 ],
 "metadata": {
  "kernelspec": {
   "display_name": "Python 3",
   "language": "python",
   "name": "python3"
  },
  "language_info": {
   "codemirror_mode": {
    "name": "ipython",
    "version": 2
   },
   "file_extension": ".py",
   "mimetype": "text/x-python",
   "name": "python",
   "nbconvert_exporter": "python",
   "pygments_lexer": "ipython2",
   "version": "2.7.6"
  }
 },
 "nbformat": 4,
 "nbformat_minor": 0
}
