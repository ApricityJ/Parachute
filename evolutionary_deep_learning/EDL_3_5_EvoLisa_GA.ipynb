{
 "cells": [
  {
   "cell_type": "code",
   "execution_count": 5,
   "metadata": {
    "collapsed": true,
    "ExecuteTime": {
     "start_time": "2024-01-17T16:36:29.633325Z",
     "end_time": "2024-01-17T16:36:29.635524Z"
    }
   },
   "outputs": [],
   "source": [
    "#@title Imports\n",
    "import random\n",
    "import numpy as np\n",
    "\n",
    "from deap import algorithms\n",
    "from deap import base\n",
    "from deap import creator\n",
    "from deap import tools\n",
    "\n",
    "import os\n",
    "import ssl\n",
    "import cv2\n",
    "import urllib.request\n",
    "import matplotlib.pyplot as plt\n",
    "from IPython.display import clear_output"
   ]
  },
  {
   "cell_type": "code",
   "execution_count": 6,
   "outputs": [],
   "source": [
    "#@title Image Helpers\n",
    "ssl._create_default_https_context = ssl._create_unverified_context\n",
    "def load_target_image(image_url, color=True, size=None):\n",
    "  image_path = \"target_image\"\n",
    "  urllib.request.urlretrieve(image_url,image_path)\n",
    "  if color:\n",
    "      target = cv2.imread(image_path, cv2.IMREAD_COLOR)\n",
    "      # Switch from bgr to rgb\n",
    "      target = cv2.cvtColor(target, cv2.COLOR_BGR2RGB)\n",
    "  else:\n",
    "      target = cv2.imread(image_path, cv2.IMREAD_GRAYSCALE)\n",
    "\n",
    "  if size:\n",
    "      # Only resizes image if it is needed!\n",
    "      target = cv2.resize(src=target, dsize=size, interpolation=cv2.INTER_AREA)\n",
    "  return target\n",
    "\n",
    "def show_image(img_arr):\n",
    "    plt.figure(figsize=(10,10))\n",
    "    plt.axis(\"off\")\n",
    "    plt.imshow(img_arr/255)\n",
    "    plt.show()"
   ],
   "metadata": {
    "collapsed": false,
    "ExecuteTime": {
     "start_time": "2024-01-17T16:36:30.696551Z",
     "end_time": "2024-01-17T16:36:30.718591Z"
    }
   }
  },
  {
   "cell_type": "code",
   "execution_count": 7,
   "outputs": [
    {
     "data": {
      "text/plain": "<Figure size 720x720 with 1 Axes>",
      "image/png": "[encoded data removed]"
     },
     "metadata": {
      "needs_background": "light"
     },
     "output_type": "display_data"
    },
    {
     "name": "stdout",
     "output_type": "stream",
     "text": [
      "(40, 40, 3)\n"
     ]
    }
   ],
   "source": [
    "#@title Default title text { run: \"auto\" }\n",
    "polygons = 128 #@param {type:\"slider\", min:10, max:1000, step:1}\n",
    "size = 40 #@param {type:\"slider\", min:25, max:1000, step:5}\n",
    "target_image = \"Mona Lisa\" #@param [\"Mona Lisa\", \"Stop Sign\", \"Landscape\", \"Celebrity\", \"Art\", \"Abstract\"]\n",
    "\n",
    "\n",
    "POLYGONS = polygons\n",
    "SIZE = (size, size)\n",
    "\n",
    "target_urls = { \"Mona Lisa\" : 'https://upload.wikimedia.org/wikipedia/commons/b/b7/Mona_Lisa_face_800x800px.jpg',\n",
    "               \"Stop Sign\" : 'https://images.uline.com/is/image//content/dam/images/H/H2500/H-2381.jpg',\n",
    "               \"Landscape\" : 'https://www.adorama.com/alc/wp-content/uploads/2018/11/landscape-photography-tips-yosemite-valley-feature.jpg',\n",
    "               \"Celebrity\" : 'https://s.abcnews.com/images/Entertainment/WireAP_91d6741d1954459f9993bd7a2f62b6bb_16x9_992.jpg',\n",
    "               \"Art\" : \"http://www.indianruminations.com/wp-content/uploads/what-is-modern-art-definition-2.jpg\",\n",
    "               \"Abstract\" : \"https://scx2.b-cdn.net/gfx/news/2020/abstractart.jpg\"\n",
    "               }\n",
    "\n",
    "target_image_url = target_urls[target_image]\n",
    "target = load_target_image(target_image_url, size=SIZE)\n",
    "show_image(target)\n",
    "print(target.shape)"
   ],
   "metadata": {
    "collapsed": false,
    "ExecuteTime": {
     "start_time": "2024-01-17T16:36:31.824260Z",
     "end_time": "2024-01-17T16:36:32.868418Z"
    }
   }
  },
  {
   "cell_type": "code",
   "execution_count": 8,
   "outputs": [
    {
     "name": "stdout",
     "output_type": "stream",
     "text": [
      "[0.32835348 0.03943193 0.2351134  ... 0.97576072 0.47195608 0.44242999]\n"
     ]
    }
   ],
   "source": [
    "#@title Setup Polylines\n",
    "\n",
    "#polygon genes\n",
    "GENE_LENGTH = 10\n",
    "NUM_GENES = POLYGONS * GENE_LENGTH\n",
    "\n",
    "#create a sample invidiual\n",
    "individual = np.random.uniform(0,1,NUM_GENES)\n",
    "print(individual)"
   ],
   "metadata": {
    "collapsed": false,
    "ExecuteTime": {
     "start_time": "2024-01-17T16:37:35.847934Z",
     "end_time": "2024-01-17T16:37:35.896578Z"
    }
   }
  },
  {
   "cell_type": "code",
   "execution_count": 9,
   "outputs": [
    {
     "data": {
      "text/plain": "<Figure size 720x720 with 1 Axes>",
      "image/png": "[encoded data removed]"
     },
     "metadata": {
      "needs_background": "light"
     },
     "output_type": "display_data"
    }
   ],
   "source": [
    "#@title Render an Individual\n",
    "def extract_genes(genes, length):\n",
    "    for i in range(0, len(genes), length):\n",
    "        yield genes[i:i + length]\n",
    "\n",
    "def render_individual(individual):\n",
    "  if isinstance(individual,list):\n",
    "    individual = np.array(individual)\n",
    "  canvas = np.zeros(SIZE+(3,))\n",
    "  radius_avg = (SIZE[0] + SIZE[1]) / 2 / 6\n",
    "  genes = extract_genes(individual, GENE_LENGTH)\n",
    "  for gene in genes:\n",
    "    try:\n",
    "      overlay = canvas.copy()\n",
    "      # alternative drawing methods circle or rectangle\n",
    "      # circle brush uses a GENE_LENGTH of 7\n",
    "      # center = (0, 1) [2]\n",
    "      # radius = (2) [3]\n",
    "      # color = (3,4,5) [6]\n",
    "      # alpha = (6) [7]\n",
    "      #cv2.circle(\n",
    "      #    overlay,\n",
    "      #    center=(int(gene[1] * SIZE[1]), int(gene[0] * SIZE[0])),\n",
    "      #    radius=int(gene[2] * radius_avg),\n",
    "      #    color=color,\n",
    "      #    thickness=-1,\n",
    "      #)\n",
    "\n",
    "      # rectangle brush uses GENE_LENGTH = 8\n",
    "      # top left = (0, 1) [2]\n",
    "      # btm right = (2, 3) [4]\n",
    "      # color = (4, 5, 6) [7]\n",
    "      # alpha = (7) [8]\n",
    "      #cv2.rectangle(overlay, (x1, y1), (x2, y2), color, -1)\n",
    "\n",
    "      # polyline brush uses GENE_LENGTH = 10\n",
    "      # pts = (0, 1), (2, 3), (4, 5) [6]\n",
    "      # color = (6, 7, 8) [9]\n",
    "      # alpha = (9) [10]\n",
    "      x1 = int(gene[0] * SIZE[0])\n",
    "      x2 = int(gene[2] * SIZE[0])\n",
    "      x3 = int(gene[4] * SIZE[0])\n",
    "      y1 = int(gene[1] * SIZE[1])\n",
    "      y2 = int(gene[3] * SIZE[1])\n",
    "      y3 = int(gene[5] * SIZE[1])\n",
    "      color = (gene[6:-1] * 255).astype(int).tolist()\n",
    "      pts = np.array([[x1,y1],[x2,y2],[x3,y3]], np.int32)\n",
    "      pts = pts.reshape((-1, 1, 2))\n",
    "      pts = np.array([[x1,y1],[x2,y2],[x3,y3]])\n",
    "\n",
    "      cv2.fillPoly(overlay, [pts], color)\n",
    "      alpha = gene[-1]\n",
    "      canvas = cv2.addWeighted(overlay, alpha, canvas, 1 - alpha, 0)\n",
    "    except:\n",
    "      pass\n",
    "  return canvas\n",
    "\n",
    "render = render_individual(individual)\n",
    "show_image(render)"
   ],
   "metadata": {
    "collapsed": false,
    "ExecuteTime": {
     "start_time": "2024-01-17T16:38:05.183670Z",
     "end_time": "2024-01-17T16:38:05.250998Z"
    }
   }
  },
  {
   "cell_type": "code",
   "execution_count": 10,
   "outputs": [
    {
     "name": "stdout",
     "output_type": "stream",
     "text": [
      "11336.808039177991\n"
     ]
    }
   ],
   "source": [
    "from skimage.metrics import structural_similarity as ss\n",
    "#@title Fitness Function\n",
    "def fitness_mse(render):\n",
    "  \"\"\"Calculates Mean Square Error Fitness for a render\"\"\"\n",
    "  error = (np.square(render - target)).mean(axis=None)\n",
    "  return error\n",
    "\n",
    "def fitness_ss(render):\n",
    "  \"\"\"Calculated Structural Similiarity Fitness\"\"\"\n",
    "  index = ss(render, target, multichannel=True)\n",
    "  return 1-index\n",
    "\n",
    "print(fitness_mse(render))"
   ],
   "metadata": {
    "collapsed": false,
    "ExecuteTime": {
     "start_time": "2024-01-17T16:39:21.735730Z",
     "end_time": "2024-01-17T16:39:24.283734Z"
    }
   }
  },
  {
   "cell_type": "code",
   "execution_count": 11,
   "outputs": [],
   "source": [
    "#@title Setting up the Creator\n",
    "creator.create(\"FitnessMax\", base.Fitness, weights=(-1.0,))\n",
    "creator.create(\"Individual\", list, fitness=creator.FitnessMax)"
   ],
   "metadata": {
    "collapsed": false,
    "ExecuteTime": {
     "start_time": "2024-01-17T16:39:37.093248Z",
     "end_time": "2024-01-17T16:39:37.110299Z"
    }
   }
  },
  {
   "cell_type": "code",
   "execution_count": 12,
   "outputs": [],
   "source": [
    "def uniform(low, up, size=None):\n",
    "  try:\n",
    "    return [random.uniform(a, b) for a, b in zip(low, up)]\n",
    "  except TypeError:\n",
    "    return [random.uniform(a, b) for a, b in zip([low] * size, [up] * size)]\n",
    "\n",
    "toolbox = base.Toolbox()\n",
    "toolbox.register(\"attr_float\", uniform, 0, 1, NUM_GENES)\n",
    "toolbox.register(\"individual\", tools.initIterate, creator.Individual, toolbox.attr_float)\n",
    "toolbox.register(\"population\", tools.initRepeat, list, toolbox.individual)"
   ],
   "metadata": {
    "collapsed": false,
    "ExecuteTime": {
     "start_time": "2024-01-17T16:39:59.544917Z",
     "end_time": "2024-01-17T16:39:59.569777Z"
    }
   }
  },
  {
   "cell_type": "code",
   "execution_count": 13,
   "outputs": [],
   "source": [
    "def evaluate(individual):\n",
    "  render = render_individual(individual)\n",
    "  print('.', end='')\n",
    "  return fitness_mse(render),  #using MSE for fitness"
   ],
   "metadata": {
    "collapsed": false,
    "ExecuteTime": {
     "start_time": "2024-01-17T16:40:17.915802Z",
     "end_time": "2024-01-17T16:40:17.930289Z"
    }
   }
  },
  {
   "cell_type": "code",
   "execution_count": 14,
   "outputs": [],
   "source": [
    "#@title Register the Choices\n",
    "def register_selection(choice):\n",
    "  choices = [\"Tournament\", \"Roulette\", \"Random\", \"Best\", \"Worst\", \"NSGA2\", \"SPEA2\"]\n",
    "  if choice == choices[0]:\n",
    "    toolbox.register(\"select\", tools.selTournament, tournsize=3)\n",
    "  elif choice == choices[1]:\n",
    "    toolbox.register(\"select\", tools.selRoulette)\n",
    "  elif choice == choices[2]:\n",
    "    toolbox.register(\"select\", tools.selRandom)\n",
    "  elif choice == choices[3]:\n",
    "    toolbox.register(\"select\", tools.selBest)\n",
    "  elif choice == choices[4]:\n",
    "    toolbox.register(\"select\", tools.selWorst)\n",
    "  elif choice == choices[5]:\n",
    "    toolbox.register(\"select\", tools.selNSGA2)\n",
    "  elif choice == choices[6]:\n",
    "    toolbox.register(\"select\", tools.selSPEA2)\n",
    "\n",
    "def register_mating(choice):\n",
    "  choices = [\"Partially Matched\", \"One Point\", \"Two Point\", \"Ordered\", \"ES Two Point\", \"Uniform\", \"Uniform Partially Matched\"]\n",
    "  if choice == choices[0]:\n",
    "    toolbox.register(\"mate\", tools.cxPartialyMatched)\n",
    "  elif choice == choices[1]:\n",
    "    toolbox.register(\"mate\", tools.cxOnePoint)\n",
    "  elif choice == choices[2]:\n",
    "    toolbox.register(\"mate\", tools.cxTwoPoint)\n",
    "  elif choice == choices[3]:\n",
    "    toolbox.register(\"mate\", tools.cxOrdered)\n",
    "  elif choice == choices[4]:\n",
    "    toolbox.register(\"mate\", tools.cxESTwoPoint)\n",
    "  elif choice == choices[5]:\n",
    "    toolbox.register(\"mate\", tools.cxUniform, indpb=.5)\n",
    "  elif choice == choices[6]:\n",
    "    toolbox.register(\"mate\", tools.cxUniformPartialyMatched, indpb=.5)"
   ],
   "metadata": {
    "collapsed": false,
    "ExecuteTime": {
     "start_time": "2024-01-17T16:40:30.919265Z",
     "end_time": "2024-01-17T16:40:30.932722Z"
    }
   }
  },
  {
   "cell_type": "code",
   "execution_count": 15,
   "outputs": [],
   "source": [
    "#@title Selecting the Genetic Operators { run: \"auto\" }\n",
    "selection = \"Tournament\" #@param [\"Tournament\", \"Random\", \"Best\", \"Worst\", \"NSGA2\", \"SPEA2\"]\n",
    "mating = \"One Point\" #@param [\"Partially Matched\", \"One Point\", \"Two Point\", \"Ordered\", \"Uniform\", \"Uniform Partially Matched\"]\n",
    "\n",
    "register_mating(mating)\n",
    "register_selection(selection)"
   ],
   "metadata": {
    "collapsed": false,
    "ExecuteTime": {
     "start_time": "2024-01-17T16:40:41.961747Z",
     "end_time": "2024-01-17T16:40:41.983838Z"
    }
   }
  },
  {
   "cell_type": "code",
   "execution_count": 16,
   "outputs": [],
   "source": [
    "#@title Mutation and Evaluation\n",
    "toolbox.register(\"mutate\", tools.mutGaussian, mu=0.0, sigma=1, indpb=.05)\n",
    "toolbox.register(\"evaluate\", evaluate)"
   ],
   "metadata": {
    "collapsed": false,
    "ExecuteTime": {
     "start_time": "2024-01-17T16:40:58.052877Z",
     "end_time": "2024-01-17T16:40:58.072909Z"
    }
   }
  },
  {
   "cell_type": "code",
   "execution_count": 17,
   "outputs": [],
   "source": [
    "random.seed(64)\n",
    "\n",
    "NGEN = 100000\n",
    "CXPB = .6\n",
    "MUTPB = .3\n",
    "MU = 2500\n",
    "pop = toolbox.population(n=MU)\n",
    "hof = tools.HallOfFame(1)\n",
    "stats = tools.Statistics(lambda ind: ind.fitness.values)\n",
    "stats.register(\"avg\", np.mean)\n",
    "stats.register(\"std\", np.std)\n",
    "stats.register(\"min\", np.min)\n",
    "stats.register(\"max\", np.max)"
   ],
   "metadata": {
    "collapsed": false,
    "ExecuteTime": {
     "start_time": "2024-01-17T16:41:09.835233Z",
     "end_time": "2024-01-17T16:41:10.637384Z"
    }
   }
  },
  {
   "cell_type": "code",
   "execution_count": 18,
   "outputs": [
    {
     "data": {
      "text/plain": "<Figure size 720x720 with 1 Axes>",
      "image/png": "[encoded data removed]"
     },
     "metadata": {
      "needs_background": "light"
     },
     "output_type": "display_data"
    },
    {
     "name": "stdout",
     "output_type": "stream",
     "text": [
      "Gen (371) : fitness = 2144.9182920884864\n",
      ".........................................................................................................................................................................................................................................................................................................................................................................................................................................................................................................................................................................................................................................................................................................................................................................................................................................................................................................................................................................................................................................................................................................................................................................................................................................................................................................................................................................................................................................................................................................................."
     ]
    },
    {
     "ename": "KeyboardInterrupt",
     "evalue": "",
     "output_type": "error",
     "traceback": [
      "\u001B[0;31m---------------------------------------------------------------------------\u001B[0m",
      "\u001B[0;31mKeyboardInterrupt\u001B[0m                         Traceback (most recent call last)",
      "\u001B[0;32m/var/folders/15/v4m8ny29795fzy6379yrfgz40000gn/T/ipykernel_76450/1482419832.py\u001B[0m in \u001B[0;36m<module>\u001B[0;34m\u001B[0m\n\u001B[1;32m      2\u001B[0m \u001B[0;34m\u001B[0m\u001B[0m\n\u001B[1;32m      3\u001B[0m \u001B[0;32mfor\u001B[0m \u001B[0mg\u001B[0m \u001B[0;32min\u001B[0m \u001B[0mrange\u001B[0m\u001B[0;34m(\u001B[0m\u001B[0mNGEN\u001B[0m\u001B[0;34m)\u001B[0m\u001B[0;34m:\u001B[0m\u001B[0;34m\u001B[0m\u001B[0;34m\u001B[0m\u001B[0m\n\u001B[0;32m----> 4\u001B[0;31m   pop, logbook = algorithms.eaSimple(pop, toolbox, \n\u001B[0m\u001B[1;32m      5\u001B[0m             cxpb=CXPB, mutpb=MUTPB, ngen=1, stats=stats, halloffame=hof, verbose=False)\n\u001B[1;32m      6\u001B[0m   \u001B[0mbest\u001B[0m \u001B[0;34m=\u001B[0m \u001B[0mhof\u001B[0m\u001B[0;34m[\u001B[0m\u001B[0;36m0\u001B[0m\u001B[0;34m]\u001B[0m\u001B[0;34m\u001B[0m\u001B[0;34m\u001B[0m\u001B[0m\n",
      "\u001B[0;32m/Library/Frameworks/Python.framework/Versions/3.8/lib/python3.8/site-packages/deap/algorithms.py\u001B[0m in \u001B[0;36meaSimple\u001B[0;34m(population, toolbox, cxpb, mutpb, ngen, stats, halloffame, verbose)\u001B[0m\n\u001B[1;32m    171\u001B[0m         \u001B[0minvalid_ind\u001B[0m \u001B[0;34m=\u001B[0m \u001B[0;34m[\u001B[0m\u001B[0mind\u001B[0m \u001B[0;32mfor\u001B[0m \u001B[0mind\u001B[0m \u001B[0;32min\u001B[0m \u001B[0moffspring\u001B[0m \u001B[0;32mif\u001B[0m \u001B[0;32mnot\u001B[0m \u001B[0mind\u001B[0m\u001B[0;34m.\u001B[0m\u001B[0mfitness\u001B[0m\u001B[0;34m.\u001B[0m\u001B[0mvalid\u001B[0m\u001B[0;34m]\u001B[0m\u001B[0;34m\u001B[0m\u001B[0;34m\u001B[0m\u001B[0m\n\u001B[1;32m    172\u001B[0m         \u001B[0mfitnesses\u001B[0m \u001B[0;34m=\u001B[0m \u001B[0mtoolbox\u001B[0m\u001B[0;34m.\u001B[0m\u001B[0mmap\u001B[0m\u001B[0;34m(\u001B[0m\u001B[0mtoolbox\u001B[0m\u001B[0;34m.\u001B[0m\u001B[0mevaluate\u001B[0m\u001B[0;34m,\u001B[0m \u001B[0minvalid_ind\u001B[0m\u001B[0;34m)\u001B[0m\u001B[0;34m\u001B[0m\u001B[0;34m\u001B[0m\u001B[0m\n\u001B[0;32m--> 173\u001B[0;31m         \u001B[0;32mfor\u001B[0m \u001B[0mind\u001B[0m\u001B[0;34m,\u001B[0m \u001B[0mfit\u001B[0m \u001B[0;32min\u001B[0m \u001B[0mzip\u001B[0m\u001B[0;34m(\u001B[0m\u001B[0minvalid_ind\u001B[0m\u001B[0;34m,\u001B[0m \u001B[0mfitnesses\u001B[0m\u001B[0;34m)\u001B[0m\u001B[0;34m:\u001B[0m\u001B[0;34m\u001B[0m\u001B[0;34m\u001B[0m\u001B[0m\n\u001B[0m\u001B[1;32m    174\u001B[0m             \u001B[0mind\u001B[0m\u001B[0;34m.\u001B[0m\u001B[0mfitness\u001B[0m\u001B[0;34m.\u001B[0m\u001B[0mvalues\u001B[0m \u001B[0;34m=\u001B[0m \u001B[0mfit\u001B[0m\u001B[0;34m\u001B[0m\u001B[0;34m\u001B[0m\u001B[0m\n\u001B[1;32m    175\u001B[0m \u001B[0;34m\u001B[0m\u001B[0m\n",
      "\u001B[0;32m/var/folders/15/v4m8ny29795fzy6379yrfgz40000gn/T/ipykernel_76450/144448406.py\u001B[0m in \u001B[0;36mevaluate\u001B[0;34m(individual)\u001B[0m\n\u001B[1;32m      2\u001B[0m   \u001B[0mrender\u001B[0m \u001B[0;34m=\u001B[0m \u001B[0mrender_individual\u001B[0m\u001B[0;34m(\u001B[0m\u001B[0mindividual\u001B[0m\u001B[0;34m)\u001B[0m\u001B[0;34m\u001B[0m\u001B[0;34m\u001B[0m\u001B[0m\n\u001B[1;32m      3\u001B[0m   \u001B[0mprint\u001B[0m\u001B[0;34m(\u001B[0m\u001B[0;34m'.'\u001B[0m\u001B[0;34m,\u001B[0m \u001B[0mend\u001B[0m\u001B[0;34m=\u001B[0m\u001B[0;34m''\u001B[0m\u001B[0;34m)\u001B[0m\u001B[0;34m\u001B[0m\u001B[0;34m\u001B[0m\u001B[0m\n\u001B[0;32m----> 4\u001B[0;31m   \u001B[0;32mreturn\u001B[0m \u001B[0mfitness_mse\u001B[0m\u001B[0;34m(\u001B[0m\u001B[0mrender\u001B[0m\u001B[0;34m)\u001B[0m\u001B[0;34m,\u001B[0m  \u001B[0;31m#using MSE for fitness\u001B[0m\u001B[0;34m\u001B[0m\u001B[0;34m\u001B[0m\u001B[0m\n\u001B[0m",
      "\u001B[0;32m/var/folders/15/v4m8ny29795fzy6379yrfgz40000gn/T/ipykernel_76450/2292760806.py\u001B[0m in \u001B[0;36mfitness_mse\u001B[0;34m(render)\u001B[0m\n\u001B[1;32m      3\u001B[0m \u001B[0;32mdef\u001B[0m \u001B[0mfitness_mse\u001B[0m\u001B[0;34m(\u001B[0m\u001B[0mrender\u001B[0m\u001B[0;34m)\u001B[0m\u001B[0;34m:\u001B[0m\u001B[0;34m\u001B[0m\u001B[0;34m\u001B[0m\u001B[0m\n\u001B[1;32m      4\u001B[0m   \u001B[0;34m\"\"\"Calculates Mean Square Error Fitness for a render\"\"\"\u001B[0m\u001B[0;34m\u001B[0m\u001B[0;34m\u001B[0m\u001B[0m\n\u001B[0;32m----> 5\u001B[0;31m   \u001B[0merror\u001B[0m \u001B[0;34m=\u001B[0m \u001B[0;34m(\u001B[0m\u001B[0mnp\u001B[0m\u001B[0;34m.\u001B[0m\u001B[0msquare\u001B[0m\u001B[0;34m(\u001B[0m\u001B[0mrender\u001B[0m \u001B[0;34m-\u001B[0m \u001B[0mtarget\u001B[0m\u001B[0;34m)\u001B[0m\u001B[0;34m)\u001B[0m\u001B[0;34m.\u001B[0m\u001B[0mmean\u001B[0m\u001B[0;34m(\u001B[0m\u001B[0maxis\u001B[0m\u001B[0;34m=\u001B[0m\u001B[0;32mNone\u001B[0m\u001B[0;34m)\u001B[0m\u001B[0;34m\u001B[0m\u001B[0;34m\u001B[0m\u001B[0m\n\u001B[0m\u001B[1;32m      6\u001B[0m   \u001B[0;32mreturn\u001B[0m \u001B[0merror\u001B[0m\u001B[0;34m\u001B[0m\u001B[0;34m\u001B[0m\u001B[0m\n\u001B[1;32m      7\u001B[0m \u001B[0;34m\u001B[0m\u001B[0m\n",
      "\u001B[0;31mKeyboardInterrupt\u001B[0m: "
     ]
    }
   ],
   "source": [
    "best = None\n",
    "\n",
    "for g in range(NGEN):\n",
    "  pop, logbook = algorithms.eaSimple(pop, toolbox,\n",
    "            cxpb=CXPB, mutpb=MUTPB, ngen=1, stats=stats, halloffame=hof, verbose=False)\n",
    "  best = hof[0]\n",
    "  clear_output()\n",
    "  render = render_individual(best)\n",
    "  show_image(render)\n",
    "  print(f\"Gen ({g}) : fitness = {fitness_mse(render)}\")"
   ],
   "metadata": {
    "collapsed": false
   }
  }
 ],
 "metadata": {
  "kernelspec": {
   "display_name": "Python 3",
   "language": "python",
   "name": "python3"
  },
  "language_info": {
   "codemirror_mode": {
    "name": "ipython",
    "version": 2
   },
   "file_extension": ".py",
   "mimetype": "text/x-python",
   "name": "python",
   "nbconvert_exporter": "python",
   "pygments_lexer": "ipython2",
   "version": "2.7.6"
  }
 },
 "nbformat": 4,
 "nbformat_minor": 0
}
