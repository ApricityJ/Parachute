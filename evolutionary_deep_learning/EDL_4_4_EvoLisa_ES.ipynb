{
 "cells": [
  {
   "cell_type": "code",
   "execution_count": 1,
   "metadata": {
    "collapsed": true,
    "ExecuteTime": {
     "start_time": "2024-02-02T15:01:54.542241Z",
     "end_time": "2024-02-02T15:01:57.834977Z"
    }
   },
   "outputs": [],
   "source": [
    "import random\n",
    "import numpy as np\n",
    "\n",
    "from deap import algorithms\n",
    "from deap import base\n",
    "from deap import creator\n",
    "from deap import tools\n",
    "\n",
    "import os\n",
    "import cv2\n",
    "import urllib.request\n",
    "import matplotlib.pyplot as plt\n",
    "from IPython.display import clear_output"
   ]
  },
  {
   "cell_type": "code",
   "execution_count": 2,
   "outputs": [],
   "source": [
    "#@title Image Helpers\n",
    "def load_target_image(image_url, color=True, size=None):\n",
    "  image_path = \"target_image\"\n",
    "  urllib.request.urlretrieve(image_url,image_path)\n",
    "  if color:\n",
    "      target = cv2.imread(image_path, cv2.IMREAD_COLOR)\n",
    "      # Switch from bgr to rgb\n",
    "      target = cv2.cvtColor(target, cv2.COLOR_BGR2RGB)\n",
    "  else:\n",
    "      target = cv2.imread(image_path, cv2.IMREAD_GRAYSCALE)\n",
    "\n",
    "  if size:\n",
    "      # Only resizes image if it is needed!\n",
    "      target = cv2.resize(src=target, dsize=size, interpolation=cv2.INTER_AREA)\n",
    "  return target\n",
    "\n",
    "def show_image(img_arr):\n",
    "  plt.figure(figsize=(10,10))\n",
    "  plt.axis(\"off\")\n",
    "  plt.imshow(img_arr/255)\n",
    "  plt.show()\n",
    "\n",
    "def show_results(history, img_arr, org):\n",
    "  plt.figure(figsize=(10,10))\n",
    "  plt.tight_layout()\n",
    "\n",
    "  plt.subplot(221)\n",
    "  plt.axis(\"off\")\n",
    "  plt.imshow(img_arr/255)\n",
    "  plt.title('best of generation')\n",
    "\n",
    "  plt.subplot(222)\n",
    "  plt.axis(\"off\")\n",
    "  plt.imshow(org/255)\n",
    "  plt.title('target image')\n",
    "\n",
    "  plt.subplot(212)\n",
    "  lh = len(history)\n",
    "  plt.xlim([lh-50, lh])\n",
    "  plt.plot(history)\n",
    "  plt.title('min fitness by generation')\n",
    "  plt.show()"
   ],
   "metadata": {
    "collapsed": false,
    "ExecuteTime": {
     "start_time": "2024-02-02T15:02:22.487487Z",
     "end_time": "2024-02-02T15:02:22.499647Z"
    }
   }
  },
  {
   "cell_type": "code",
   "execution_count": 3,
   "outputs": [
    {
     "data": {
      "text/plain": "<Figure size 720x720 with 1 Axes>",
      "image/png": "[encoded data removed]"
     },
     "metadata": {
      "needs_background": "light"
     },
     "output_type": "display_data"
    },
    {
     "name": "stdout",
     "output_type": "stream",
     "text": [
      "(32, 32, 3)\n"
     ]
    }
   ],
   "source": [
    "#@title Default title text { run: \"auto\" }\n",
    "polygons = 255 #@param {type:\"slider\", min:10, max:1000, step:1}\n",
    "size = 32 #@param {type:\"slider\", min:16, max:1000, step:2}\n",
    "target_image = \"Mona Lisa\" #@param [\"Mona Lisa\", \"Stop Sign\", \"Landscape\", \"Celebrity\", \"Art\", \"Abstract\"]\n",
    "report_every_gen = 10 #@param {type:\"slider\", min:1, max:100, step:1}\n",
    "number_generations = 10000 #@param {type:\"slider\", min:100, max:10000, step:10}\n",
    "\n",
    "\n",
    "POLYGONS = polygons\n",
    "SIZE = (size, size)\n",
    "\n",
    "target_urls = { \"Mona Lisa\" : 'data:image/jpeg;base64,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',\n",
    "               \"Stop Sign\" : 'https://images.uline.com/is/image//content/dam/images/H/H2500/H-2381.jpg',\n",
    "               \"Landscape\" : 'https://www.adorama.com/alc/wp-content/uploads/2018/11/landscape-photography-tips-yosemite-valley-feature.jpg',\n",
    "               \"Celebrity\" : 'https://s.abcnews.com/images/Entertainment/WireAP_91d6741d1954459f9993bd7a2f62b6bb_16x9_992.jpg',\n",
    "               \"Art\" : \"http://www.indianruminations.com/wp-content/uploads/what-is-modern-art-definition-2.jpg\",\n",
    "               \"Abstract\" : \"https://scx2.b-cdn.net/gfx/news/2020/abstractart.jpg\"\n",
    "               }\n",
    "\n",
    "target_image_url = target_urls[target_image]\n",
    "target = load_target_image(target_image_url, size=SIZE)\n",
    "show_image(target)\n",
    "print(target.shape)"
   ],
   "metadata": {
    "collapsed": false,
    "ExecuteTime": {
     "start_time": "2024-02-02T15:02:55.501268Z",
     "end_time": "2024-02-02T15:02:55.660585Z"
    }
   }
  },
  {
   "cell_type": "code",
   "execution_count": 4,
   "outputs": [
    {
     "name": "stdout",
     "output_type": "stream",
     "text": [
      "[0.0180893  0.29699753 0.28312934 ... 0.67129351 0.25363235 0.47671407]\n"
     ]
    }
   ],
   "source": [
    "#@title Setup Polylines\n",
    "\n",
    "#polygon genes\n",
    "GENE_LENGTH = 10\n",
    "NUM_GENES = POLYGONS * GENE_LENGTH\n",
    "\n",
    "#create a sample invidiual\n",
    "individual = np.random.uniform(0,1,NUM_GENES)\n",
    "print(individual)"
   ],
   "metadata": {
    "collapsed": false,
    "ExecuteTime": {
     "start_time": "2024-02-02T15:03:26.135051Z",
     "end_time": "2024-02-02T15:03:26.153289Z"
    }
   }
  },
  {
   "cell_type": "code",
   "execution_count": 5,
   "outputs": [
    {
     "data": {
      "text/plain": "<Figure size 720x720 with 1 Axes>",
      "image/png": "[encoded data removed]"
     },
     "metadata": {
      "needs_background": "light"
     },
     "output_type": "display_data"
    }
   ],
   "source": [
    "\n",
    "#@title Render an Individual\n",
    "def extract_genes(genes, length):\n",
    "    for i in range(0, len(genes), length):\n",
    "        yield genes[i:i + length]\n",
    "\n",
    "def render_individual(individual):\n",
    "  if isinstance(individual,list):\n",
    "    individual = np.array(individual)\n",
    "  canvas = np.zeros(SIZE+(3,))\n",
    "  radius_avg = (SIZE[0] + SIZE[1]) / 2 / 6\n",
    "  genes = extract_genes(individual, GENE_LENGTH)\n",
    "  for gene in genes:\n",
    "    try:\n",
    "      overlay = canvas.copy()\n",
    "      # alternative drawing methods circle or rectangle\n",
    "      # circle brush uses a GENE_LENGTH of 7\n",
    "      # center = (0, 1) [2]\n",
    "      # radius = (2) [3]\n",
    "      # color = (3,4,5) [6]\n",
    "      # alpha = (6) [7]\n",
    "      #cv2.circle(\n",
    "      #    overlay,\n",
    "      #    center=(int(gene[1] * SIZE[1]), int(gene[0] * SIZE[0])),\n",
    "      #    radius=int(gene[2] * radius_avg),\n",
    "      #    color=color,\n",
    "      #    thickness=-1,\n",
    "      #)\n",
    "\n",
    "      # rectangle brush uses GENE_LENGTH = 8\n",
    "      # top left = (0, 1) [2]\n",
    "      # btm right = (2, 3) [4]\n",
    "      # color = (4, 5, 6) [7]\n",
    "      # alpha = (7) [8]\n",
    "      #cv2.rectangle(overlay, (x1, y1), (x2, y2), color, -1)\n",
    "\n",
    "      # polyline brush uses GENE_LENGTH = 10\n",
    "      # pts = (0, 1), (2, 3), (4, 5) [6]\n",
    "      # color = (6, 7, 8) [9]\n",
    "      # alpha = (9) [10]\n",
    "      x1 = int(gene[0] * SIZE[0])\n",
    "      x2 = int(gene[2] * SIZE[0])\n",
    "      x3 = int(gene[4] * SIZE[0])\n",
    "      y1 = int(gene[1] * SIZE[1])\n",
    "      y2 = int(gene[3] * SIZE[1])\n",
    "      y3 = int(gene[5] * SIZE[1])\n",
    "      color = (gene[6:-1] * 255).astype(int).tolist()\n",
    "      pts = np.array([[x1,y1],[x2,y2],[x3,y3]], np.int32)\n",
    "      pts = pts.reshape((-1, 1, 2))\n",
    "      pts = np.array([[x1,y1],[x2,y2],[x3,y3]])\n",
    "\n",
    "      cv2.fillPoly(overlay, [pts], color)\n",
    "      alpha = gene[-1]\n",
    "      canvas = cv2.addWeighted(overlay, alpha, canvas, 1 - alpha, 0)\n",
    "    except:\n",
    "      pass\n",
    "  return canvas\n",
    "\n",
    "render = render_individual(individual)\n",
    "show_image(render)"
   ],
   "metadata": {
    "collapsed": false,
    "ExecuteTime": {
     "start_time": "2024-02-02T15:03:56.335638Z",
     "end_time": "2024-02-02T15:03:56.403992Z"
    }
   }
  },
  {
   "cell_type": "code",
   "execution_count": 6,
   "outputs": [
    {
     "name": "stdout",
     "output_type": "stream",
     "text": [
      "7634.213252684681\n"
     ]
    }
   ],
   "source": [
    "from skimage.metrics import structural_similarity as ss\n",
    "#@title Fitness Function\n",
    "def fitness_mse(render):\n",
    "  \"\"\"Calculates Mean Square Error Fitness for a render\"\"\"\n",
    "  error = (np.square(render - target)).mean(axis=None)\n",
    "  return error\n",
    "\n",
    "def fitness_ss(render):\n",
    "  \"\"\"Calculated Structural Similiarity Fitness\"\"\"\n",
    "  index = ss(render, target, multichannel=True)\n",
    "  return 1-index\n",
    "\n",
    "print(fitness_mse(render))"
   ],
   "metadata": {
    "collapsed": false,
    "ExecuteTime": {
     "start_time": "2024-02-02T15:04:10.867890Z",
     "end_time": "2024-02-02T15:04:13.415741Z"
    }
   }
  },
  {
   "cell_type": "code",
   "execution_count": 7,
   "outputs": [],
   "source": [
    "#@title ES Bounding Hyperparameters\n",
    "IND_SIZE = NUM_GENES\n",
    "MIN_VALUE = -1\n",
    "MAX_VALUE = 1\n",
    "MIN_STRATEGY = 0.5\n",
    "MAX_STRATEGY = 5\n",
    "\n",
    "CXPB = .6\n",
    "MUTPB = .3"
   ],
   "metadata": {
    "collapsed": false,
    "ExecuteTime": {
     "start_time": "2024-02-02T15:04:24.093681Z",
     "end_time": "2024-02-02T15:04:24.113377Z"
    }
   }
  },
  {
   "cell_type": "code",
   "execution_count": 8,
   "outputs": [],
   "source": [
    "#@title Setting up the Creator\n",
    "#creator.create(\"FitnessMax\", base.Fitness, weights=(-1.0,))\n",
    "#creator.create(\"Individual\", list, fitness=creator.FitnessMax)\n",
    "\n",
    "creator.create(\"FitnessMin\", base.Fitness, weights=(-1.0,))\n",
    "creator.create(\"Individual\", list, typecode=\"d\", fitness=creator.FitnessMin, strategy=None)\n",
    "creator.create(\"Strategy\", list, typecode=\"d\")"
   ],
   "metadata": {
    "collapsed": false,
    "ExecuteTime": {
     "start_time": "2024-02-02T15:04:35.641339Z",
     "end_time": "2024-02-02T15:04:35.662040Z"
    }
   }
  },
  {
   "cell_type": "code",
   "execution_count": 9,
   "outputs": [],
   "source": [
    "#@title Individual generator and decorate functions\n",
    "def generateES(icls, scls, size, imin, imax, smin, smax):\n",
    "  ind = icls(random.uniform(imin, imax) for _ in range(size))\n",
    "  ind.strategy = scls(random.uniform(smin, smax) for _ in range(size))\n",
    "  return ind\n",
    "\n",
    "def checkStrategy(minstrategy):\n",
    "  def decorator(func):\n",
    "    def wrappper(*args, **kargs):\n",
    "      children = func(*args, **kargs)\n",
    "      for child in children:\n",
    "        for i, s in enumerate(child.strategy):\n",
    "          if s < minstrategy:\n",
    "            child.strategy[i] = minstrategy\n",
    "      return children\n",
    "    return wrappper\n",
    "  return decorator"
   ],
   "metadata": {
    "collapsed": false,
    "ExecuteTime": {
     "start_time": "2024-02-02T15:04:49.219965Z",
     "end_time": "2024-02-02T15:04:49.237950Z"
    }
   }
  },
  {
   "cell_type": "code",
   "execution_count": 10,
   "outputs": [],
   "source": [
    "def uniform(low, up, size=None):\n",
    "  try:\n",
    "    return [random.uniform(a, b) for a, b in zip(low, up)]\n",
    "  except TypeError:\n",
    "    return [random.uniform(a, b) for a, b in zip([low] * size, [up] * size)]\n",
    "\n",
    "#toolbox = base.Toolbox()\n",
    "#toolbox.register(\"attr_float\", uniform, 0, 1, NUM_GENES)\n",
    "#toolbox.register(\"individual\", tools.initIterate, creator.Individual, toolbox.attr_float)\n",
    "#toolbox.register(\"population\", tools.initRepeat, list, toolbox.individual)"
   ],
   "metadata": {
    "collapsed": false,
    "ExecuteTime": {
     "start_time": "2024-02-02T15:05:03.852503Z",
     "end_time": "2024-02-02T15:05:03.874155Z"
    }
   }
  },
  {
   "cell_type": "code",
   "execution_count": 11,
   "outputs": [],
   "source": [
    "def clamp(low, up, n):\n",
    "  return max(low, min(n, up))\n",
    "\n",
    "def custom_blend(ind1, ind2, alpha):\n",
    "    for i, (x1, s1, x2, s2) in enumerate(zip(ind1, ind1.strategy,\n",
    "                                             ind2, ind2.strategy)):\n",
    "        # Blend the values\n",
    "        gamma = (1. + 2. * alpha) * random.random() - alpha\n",
    "        ind1[i] = clamp(0.0, 1.0, (1. - gamma) * x1 + gamma * x2)\n",
    "        ind2[i] = clamp(0.0, 1.0, gamma * x1 + (1. - gamma) * x2)\n",
    "        # Blend the strategies\n",
    "        gamma = (1. + 2. * alpha) * random.random() - alpha\n",
    "        ind1.strategy[i] = (1. - gamma) * s1 + gamma * s2\n",
    "        ind2.strategy[i] = gamma * s1 + (1. - gamma) * s2\n",
    "\n",
    "\n",
    "    return ind1, ind2"
   ],
   "metadata": {
    "collapsed": false,
    "ExecuteTime": {
     "start_time": "2024-02-02T15:05:16.975947Z",
     "end_time": "2024-02-02T15:05:16.993674Z"
    }
   }
  },
  {
   "cell_type": "code",
   "execution_count": 12,
   "outputs": [],
   "source": [
    "#@title Setup the Toolbox\n",
    "toolbox = base.Toolbox()\n",
    "toolbox.register(\"individual\", generateES, creator.Individual, creator.Strategy,\n",
    "    IND_SIZE, MIN_VALUE, MAX_VALUE, MIN_STRATEGY, MAX_STRATEGY)\n",
    "toolbox.register(\"population\", tools.initRepeat, list, toolbox.individual)\n",
    "toolbox.register(\"mate\", custom_blend, alpha=0.5)\n",
    "toolbox.register(\"mutate\", tools.mutESLogNormal, c=1.0, indpb=0.06)\n",
    "toolbox.register(\"select\", tools.selTournament, tournsize=5)\n",
    "\n",
    "toolbox.decorate(\"mate\", checkStrategy(MIN_STRATEGY))\n",
    "toolbox.decorate(\"mutate\", checkStrategy(MIN_STRATEGY))"
   ],
   "metadata": {
    "collapsed": false,
    "ExecuteTime": {
     "start_time": "2024-02-02T15:05:29.291117Z",
     "end_time": "2024-02-02T15:05:29.304958Z"
    }
   }
  },
  {
   "cell_type": "code",
   "execution_count": 13,
   "outputs": [],
   "source": [
    "def evaluate(individual):\n",
    "  render = render_individual(individual)\n",
    "  print('.', end='')\n",
    "  return fitness_mse(render),  #using MSE for fitness"
   ],
   "metadata": {
    "collapsed": false,
    "ExecuteTime": {
     "start_time": "2024-02-02T15:05:39.129271Z",
     "end_time": "2024-02-02T15:05:39.157719Z"
    }
   }
  },
  {
   "cell_type": "code",
   "execution_count": 14,
   "outputs": [],
   "source": [
    "#@title Mutation and Evaluation\n",
    "#toolbox.register(\"mutate\", tools.mutGaussian, mu=0.0, sigma=.1, indpb=.25)\n",
    "toolbox.register(\"evaluate\", evaluate)"
   ],
   "metadata": {
    "collapsed": false,
    "ExecuteTime": {
     "start_time": "2024-02-02T15:05:49.129600Z",
     "end_time": "2024-02-02T15:05:49.153349Z"
    }
   }
  },
  {
   "cell_type": "code",
   "execution_count": 15,
   "outputs": [],
   "source": [
    "random.seed(64)\n",
    "\n",
    "NGEN = number_generations\n",
    "RGEN = report_every_gen\n",
    "CXPB = .6\n",
    "MUTPB = .3\n",
    "MU, LAMBDA = 100, 250\n",
    "pop = toolbox.population(n=MU)\n",
    "hof = tools.HallOfFame(1)\n",
    "stats = tools.Statistics(lambda ind: ind.fitness.values)\n",
    "stats.register(\"avg\", np.mean)\n",
    "stats.register(\"std\", np.std)\n",
    "stats.register(\"min\", np.min)\n",
    "stats.register(\"max\", np.max)"
   ],
   "metadata": {
    "collapsed": false,
    "ExecuteTime": {
     "start_time": "2024-02-02T15:06:02.552097Z",
     "end_time": "2024-02-02T15:06:02.593704Z"
    }
   }
  },
  {
   "cell_type": "code",
   "execution_count": 16,
   "outputs": [
    {
     "data": {
      "text/plain": "<Figure size 720x720 with 3 Axes>",
      "image/png": "[encoded data removed]"
     },
     "metadata": {
      "needs_background": "light"
     },
     "output_type": "display_data"
    },
    {
     "name": "stdout",
     "output_type": "stream",
     "text": [
      "Gen (300) : best fitness = 450.72099156212636\n",
      "....................................................................................................................................................................................................................................................................................................................................................................................................................................................................."
     ]
    },
    {
     "ename": "KeyboardInterrupt",
     "evalue": "",
     "output_type": "error",
     "traceback": [
      "\u001B[0;31m---------------------------------------------------------------------------\u001B[0m",
      "\u001B[0;31mKeyboardInterrupt\u001B[0m                         Traceback (most recent call last)",
      "\u001B[0;32m/var/folders/15/v4m8ny29795fzy6379yrfgz40000gn/T/ipykernel_20302/4227714094.py\u001B[0m in \u001B[0;36m<module>\u001B[0;34m\u001B[0m\n\u001B[1;32m      3\u001B[0m \u001B[0;34m\u001B[0m\u001B[0m\n\u001B[1;32m      4\u001B[0m \u001B[0;32mfor\u001B[0m \u001B[0mg\u001B[0m \u001B[0;32min\u001B[0m \u001B[0mrange\u001B[0m\u001B[0;34m(\u001B[0m\u001B[0mNGEN\u001B[0m\u001B[0;34m)\u001B[0m\u001B[0;34m:\u001B[0m\u001B[0;34m\u001B[0m\u001B[0;34m\u001B[0m\u001B[0m\n\u001B[0;32m----> 5\u001B[0;31m   pop, logbook = algorithms.eaMuCommaLambda(pop, toolbox, mu=MU, lambda_=LAMBDA, \n\u001B[0m\u001B[1;32m      6\u001B[0m             cxpb=CXPB, mutpb=MUTPB, ngen=RGEN, stats=stats, halloffame=hof, verbose=False)\n\u001B[1;32m      7\u001B[0m \u001B[0;34m\u001B[0m\u001B[0m\n",
      "\u001B[0;32m/Library/Frameworks/Python.framework/Versions/3.8/lib/python3.8/site-packages/deap/algorithms.py\u001B[0m in \u001B[0;36meaMuCommaLambda\u001B[0;34m(population, toolbox, mu, lambda_, cxpb, mutpb, ngen, stats, halloffame, verbose)\u001B[0m\n\u001B[1;32m    415\u001B[0m     \u001B[0;32mfor\u001B[0m \u001B[0mgen\u001B[0m \u001B[0;32min\u001B[0m \u001B[0mrange\u001B[0m\u001B[0;34m(\u001B[0m\u001B[0;36m1\u001B[0m\u001B[0;34m,\u001B[0m \u001B[0mngen\u001B[0m \u001B[0;34m+\u001B[0m \u001B[0;36m1\u001B[0m\u001B[0;34m)\u001B[0m\u001B[0;34m:\u001B[0m\u001B[0;34m\u001B[0m\u001B[0;34m\u001B[0m\u001B[0m\n\u001B[1;32m    416\u001B[0m         \u001B[0;31m# Vary the population\u001B[0m\u001B[0;34m\u001B[0m\u001B[0;34m\u001B[0m\u001B[0;34m\u001B[0m\u001B[0m\n\u001B[0;32m--> 417\u001B[0;31m         \u001B[0moffspring\u001B[0m \u001B[0;34m=\u001B[0m \u001B[0mvarOr\u001B[0m\u001B[0;34m(\u001B[0m\u001B[0mpopulation\u001B[0m\u001B[0;34m,\u001B[0m \u001B[0mtoolbox\u001B[0m\u001B[0;34m,\u001B[0m \u001B[0mlambda_\u001B[0m\u001B[0;34m,\u001B[0m \u001B[0mcxpb\u001B[0m\u001B[0;34m,\u001B[0m \u001B[0mmutpb\u001B[0m\u001B[0;34m)\u001B[0m\u001B[0;34m\u001B[0m\u001B[0;34m\u001B[0m\u001B[0m\n\u001B[0m\u001B[1;32m    418\u001B[0m \u001B[0;34m\u001B[0m\u001B[0m\n\u001B[1;32m    419\u001B[0m         \u001B[0;31m# Evaluate the individuals with an invalid fitness\u001B[0m\u001B[0;34m\u001B[0m\u001B[0;34m\u001B[0m\u001B[0;34m\u001B[0m\u001B[0m\n",
      "\u001B[0;32m/Library/Frameworks/Python.framework/Versions/3.8/lib/python3.8/site-packages/deap/algorithms.py\u001B[0m in \u001B[0;36mvarOr\u001B[0;34m(population, toolbox, lambda_, cxpb, mutpb)\u001B[0m\n\u001B[1;32m    236\u001B[0m             \u001B[0moffspring\u001B[0m\u001B[0;34m.\u001B[0m\u001B[0mappend\u001B[0m\u001B[0;34m(\u001B[0m\u001B[0mind1\u001B[0m\u001B[0;34m)\u001B[0m\u001B[0;34m\u001B[0m\u001B[0;34m\u001B[0m\u001B[0m\n\u001B[1;32m    237\u001B[0m         \u001B[0;32melif\u001B[0m \u001B[0mop_choice\u001B[0m \u001B[0;34m<\u001B[0m \u001B[0mcxpb\u001B[0m \u001B[0;34m+\u001B[0m \u001B[0mmutpb\u001B[0m\u001B[0;34m:\u001B[0m  \u001B[0;31m# Apply mutation\u001B[0m\u001B[0;34m\u001B[0m\u001B[0;34m\u001B[0m\u001B[0m\n\u001B[0;32m--> 238\u001B[0;31m             \u001B[0mind\u001B[0m \u001B[0;34m=\u001B[0m \u001B[0mtoolbox\u001B[0m\u001B[0;34m.\u001B[0m\u001B[0mclone\u001B[0m\u001B[0;34m(\u001B[0m\u001B[0mrandom\u001B[0m\u001B[0;34m.\u001B[0m\u001B[0mchoice\u001B[0m\u001B[0;34m(\u001B[0m\u001B[0mpopulation\u001B[0m\u001B[0;34m)\u001B[0m\u001B[0;34m)\u001B[0m\u001B[0;34m\u001B[0m\u001B[0;34m\u001B[0m\u001B[0m\n\u001B[0m\u001B[1;32m    239\u001B[0m             \u001B[0mind\u001B[0m\u001B[0;34m,\u001B[0m \u001B[0;34m=\u001B[0m \u001B[0mtoolbox\u001B[0m\u001B[0;34m.\u001B[0m\u001B[0mmutate\u001B[0m\u001B[0;34m(\u001B[0m\u001B[0mind\u001B[0m\u001B[0;34m)\u001B[0m\u001B[0;34m\u001B[0m\u001B[0;34m\u001B[0m\u001B[0m\n\u001B[1;32m    240\u001B[0m             \u001B[0;32mdel\u001B[0m \u001B[0mind\u001B[0m\u001B[0;34m.\u001B[0m\u001B[0mfitness\u001B[0m\u001B[0;34m.\u001B[0m\u001B[0mvalues\u001B[0m\u001B[0;34m\u001B[0m\u001B[0;34m\u001B[0m\u001B[0m\n",
      "\u001B[0;32m/Library/Frameworks/Python.framework/Versions/3.8/lib/python3.8/copy.py\u001B[0m in \u001B[0;36mdeepcopy\u001B[0;34m(x, memo, _nil)\u001B[0m\n\u001B[1;32m    170\u001B[0m                     \u001B[0my\u001B[0m \u001B[0;34m=\u001B[0m \u001B[0mx\u001B[0m\u001B[0;34m\u001B[0m\u001B[0;34m\u001B[0m\u001B[0m\n\u001B[1;32m    171\u001B[0m                 \u001B[0;32melse\u001B[0m\u001B[0;34m:\u001B[0m\u001B[0;34m\u001B[0m\u001B[0;34m\u001B[0m\u001B[0m\n\u001B[0;32m--> 172\u001B[0;31m                     \u001B[0my\u001B[0m \u001B[0;34m=\u001B[0m \u001B[0m_reconstruct\u001B[0m\u001B[0;34m(\u001B[0m\u001B[0mx\u001B[0m\u001B[0;34m,\u001B[0m \u001B[0mmemo\u001B[0m\u001B[0;34m,\u001B[0m \u001B[0;34m*\u001B[0m\u001B[0mrv\u001B[0m\u001B[0;34m)\u001B[0m\u001B[0;34m\u001B[0m\u001B[0;34m\u001B[0m\u001B[0m\n\u001B[0m\u001B[1;32m    173\u001B[0m \u001B[0;34m\u001B[0m\u001B[0m\n\u001B[1;32m    174\u001B[0m     \u001B[0;31m# If is its own copy, don't memoize.\u001B[0m\u001B[0;34m\u001B[0m\u001B[0;34m\u001B[0m\u001B[0;34m\u001B[0m\u001B[0m\n",
      "\u001B[0;32m/Library/Frameworks/Python.framework/Versions/3.8/lib/python3.8/copy.py\u001B[0m in \u001B[0;36m_reconstruct\u001B[0;34m(x, memo, func, args, state, listiter, dictiter, deepcopy)\u001B[0m\n\u001B[1;32m    285\u001B[0m         \u001B[0;32mif\u001B[0m \u001B[0mdeep\u001B[0m\u001B[0;34m:\u001B[0m\u001B[0;34m\u001B[0m\u001B[0;34m\u001B[0m\u001B[0m\n\u001B[1;32m    286\u001B[0m             \u001B[0;32mfor\u001B[0m \u001B[0mitem\u001B[0m \u001B[0;32min\u001B[0m \u001B[0mlistiter\u001B[0m\u001B[0;34m:\u001B[0m\u001B[0;34m\u001B[0m\u001B[0;34m\u001B[0m\u001B[0m\n\u001B[0;32m--> 287\u001B[0;31m                 \u001B[0mitem\u001B[0m \u001B[0;34m=\u001B[0m \u001B[0mdeepcopy\u001B[0m\u001B[0;34m(\u001B[0m\u001B[0mitem\u001B[0m\u001B[0;34m,\u001B[0m \u001B[0mmemo\u001B[0m\u001B[0;34m)\u001B[0m\u001B[0;34m\u001B[0m\u001B[0;34m\u001B[0m\u001B[0m\n\u001B[0m\u001B[1;32m    288\u001B[0m                 \u001B[0my\u001B[0m\u001B[0;34m.\u001B[0m\u001B[0mappend\u001B[0m\u001B[0;34m(\u001B[0m\u001B[0mitem\u001B[0m\u001B[0;34m)\u001B[0m\u001B[0;34m\u001B[0m\u001B[0;34m\u001B[0m\u001B[0m\n\u001B[1;32m    289\u001B[0m         \u001B[0;32melse\u001B[0m\u001B[0;34m:\u001B[0m\u001B[0;34m\u001B[0m\u001B[0;34m\u001B[0m\u001B[0m\n",
      "\u001B[0;32m/Library/Frameworks/Python.framework/Versions/3.8/lib/python3.8/copy.py\u001B[0m in \u001B[0;36mdeepcopy\u001B[0;34m(x, memo, _nil)\u001B[0m\n\u001B[1;32m    143\u001B[0m \u001B[0;34m\u001B[0m\u001B[0m\n\u001B[1;32m    144\u001B[0m     \u001B[0mcopier\u001B[0m \u001B[0;34m=\u001B[0m \u001B[0m_deepcopy_dispatch\u001B[0m\u001B[0;34m.\u001B[0m\u001B[0mget\u001B[0m\u001B[0;34m(\u001B[0m\u001B[0mcls\u001B[0m\u001B[0;34m)\u001B[0m\u001B[0;34m\u001B[0m\u001B[0;34m\u001B[0m\u001B[0m\n\u001B[0;32m--> 145\u001B[0;31m     \u001B[0;32mif\u001B[0m \u001B[0mcopier\u001B[0m \u001B[0;32mis\u001B[0m \u001B[0;32mnot\u001B[0m \u001B[0;32mNone\u001B[0m\u001B[0;34m:\u001B[0m\u001B[0;34m\u001B[0m\u001B[0;34m\u001B[0m\u001B[0m\n\u001B[0m\u001B[1;32m    146\u001B[0m         \u001B[0my\u001B[0m \u001B[0;34m=\u001B[0m \u001B[0mcopier\u001B[0m\u001B[0;34m(\u001B[0m\u001B[0mx\u001B[0m\u001B[0;34m,\u001B[0m \u001B[0mmemo\u001B[0m\u001B[0;34m)\u001B[0m\u001B[0;34m\u001B[0m\u001B[0;34m\u001B[0m\u001B[0m\n\u001B[1;32m    147\u001B[0m     \u001B[0;32melse\u001B[0m\u001B[0;34m:\u001B[0m\u001B[0;34m\u001B[0m\u001B[0;34m\u001B[0m\u001B[0m\n",
      "\u001B[0;31mKeyboardInterrupt\u001B[0m: "
     ]
    }
   ],
   "source": [
    "best = None\n",
    "history = []\n",
    "\n",
    "for g in range(NGEN):\n",
    "  pop, logbook = algorithms.eaMuCommaLambda(pop, toolbox, mu=MU, lambda_=LAMBDA,\n",
    "            cxpb=CXPB, mutpb=MUTPB, ngen=RGEN, stats=stats, halloffame=hof, verbose=False)\n",
    "\n",
    "  best = hof[0]\n",
    "  #pop, logbook = algorithms.eaSimple(pop, toolbox,\n",
    "  #         cxpb=CXPB, mutpb=MUTPB, ngen=100, stats=stats, halloffame=hof, verbose=False)\n",
    "  #best = hof[0]\n",
    "  clear_output()\n",
    "  render = render_individual(best)\n",
    "  history.extend([clamp(0.0, 5000.0, l[\"min\"]) for l in logbook])\n",
    "  show_results(history, render, target)\n",
    "  print(f\"Gen ({(g+1)*RGEN}) : best fitness = {fitness_mse(render)}\")"
   ],
   "metadata": {
    "collapsed": false
   }
  },
  {
   "cell_type": "code",
   "execution_count": null,
   "outputs": [],
   "source": [],
   "metadata": {
    "collapsed": false
   }
  }
 ],
 "metadata": {
  "kernelspec": {
   "display_name": "Python 3",
   "language": "python",
   "name": "python3"
  },
  "language_info": {
   "codemirror_mode": {
    "name": "ipython",
    "version": 2
   },
   "file_extension": ".py",
   "mimetype": "text/x-python",
   "name": "python",
   "nbconvert_exporter": "python",
   "pygments_lexer": "ipython2",
   "version": "2.7.6"
  }
 },
 "nbformat": 4,
 "nbformat_minor": 0
}
