{
 "cells": [
  {
   "cell_type": "code",
   "execution_count": null,
   "metadata": {
    "colab": {
     "base_uri": "https://localhost:8080/"
    },
    "id": "638e4Vps_AS9",
    "outputId": "37878cf7-0b65-4648-d536-4217bf3a0b73"
   },
   "outputs": [
    {
     "output_type": "execute_result",
     "data": {
      "text/plain": [
       "<Display cmd_param=['Xvfb', '-br', '-nolisten', 'tcp', '-screen', '0', '1400x900x24', ':1001'] cmd=['Xvfb', '-br', '-nolisten', 'tcp', '-screen', '0', '1400x900x24', ':1001'] oserror=None return_code=None stdout=\"None\" stderr=\"None\" timeout_happened=False>"
      ]
     },
     "metadata": {},
     "execution_count": 4
    }
   ],
   "source": [
    "from pyvirtualdisplay import Display\n",
    "display = Display(visible=0, size=(1400, 900))\n",
    "display.start()"
   ]
  },
  {
   "cell_type": "code",
   "execution_count": null,
   "metadata": {
    "id": "PFEXb-Nb-j4l"
   },
   "outputs": [],
   "source": [
    "import geppy as gep\n",
    "from deap import creator, base, tools\n",
    "import numpy as np\n",
    "import random\n",
    "\n",
    "import gym.wrappers\n",
    "import os\n",
    "import mediapy \n",
    "import matplotlib.pyplot as plt\n",
    "from IPython.display import clear_output\n",
    "\n",
    "import gym\n",
    "import cv2\n",
    "\n",
    "# for reproduction\n",
    "s = 0\n",
    "random.seed(s)\n",
    "np.random.seed(s)"
   ]
  },
  {
   "cell_type": "code",
   "execution_count": null,
   "metadata": {
    "colab": {
     "base_uri": "https://localhost:8080/",
     "height": 304
    },
    "id": "SmGiH6qAZdxB",
    "outputId": "1cafd927-8c7d-4479-c64c-804c420f9698"
   },
   "outputs": [
    {
     "output_type": "stream",
     "name": "stdout",
     "text": [
      "action space: Box(-1.0, 1.0, (1,), float32)\n",
      "observation space: Box(-1.2000000476837158, 0.6000000238418579, (2,), float32)\n"
     ]
    },
    {
     "output_type": "display_data",
     "data": {
      "text/plain": [
       "<Figure size 432x288 with 1 Axes>"
      ],
      "image/png": "[encoded data removed]"
     },
     "metadata": {
      "needs_background": "light"
     }
    }
   ],
   "source": [
    "#@title Siumlate Environment Run { run: \"auto\" }\n",
    "ENVIRONMENT = \"MountainCarContinuous-v0\" #@param ['Pendulum-v0', 'MountainCarContinuous-v0']\n",
    "\n",
    "env = gym.make(ENVIRONMENT)\n",
    "\n",
    "env.reset()\n",
    "plt.imshow(env.render(mode='rgb_array'))\n",
    "\n",
    "print(\"action space: {0!r}\".format(env.action_space))\n",
    "print(\"observation space: {0!r}\".format(env.observation_space))"
   ]
  },
  {
   "cell_type": "code",
   "execution_count": null,
   "metadata": {
    "id": "U5fMx_pA-9L8"
   },
   "outputs": [],
   "source": [
    "import operator \n",
    "\n",
    "def protected_div(x1, x2):\n",
    "    if abs(x2) < 1e-6:\n",
    "        return 1\n",
    "    return x1 / x2\n",
    "\n",
    "def instinct1(x1, x2):\n",
    "  return protected_div((-x1 - 23*x2 + 1),x2)\n",
    "\n",
    "def instinct2(x1, x2, x3):\n",
    "  return protected_div(x1**2 - (x3 + x2)*(9*x1 + 56)/8,x1)\n",
    "\n",
    "pset = gep.PrimitiveSet('Main', input_names=['e', 'x', 'y', 'velocity'])\n",
    "pset.add_function(operator.add, 2)\n",
    "pset.add_function(operator.sub, 2)\n",
    "pset.add_function(operator.mul, 2)\n",
    "pset.add_function(protected_div, 2)\n",
    "#pset.add_function(instinct1, 2)\n",
    "#pset.add_function(instinct2, 3)\n",
    "pset.add_ephemeral_terminal(name='enc', gen=lambda: random.randint(-10, 10)) # each ENC is a random integer within [-10, 10]"
   ]
  },
  {
   "cell_type": "code",
   "execution_count": null,
   "metadata": {
    "id": "fqCYCd8T_CNk"
   },
   "outputs": [],
   "source": [
    "from deap import creator, base, tools\n",
    "\n",
    "creator.create(\"FitnessMax\", base.Fitness, weights=(1,))  # to minimize the objective (fitness)\n",
    "creator.create(\"Individual\", gep.Chromosome, fitness=creator.FitnessMax)"
   ]
  },
  {
   "cell_type": "code",
   "execution_count": null,
   "metadata": {
    "id": "RutDOOsL_E3s"
   },
   "outputs": [],
   "source": [
    "h = 7 # head length\n",
    "n_genes = 2   # number of genes in a chromosome"
   ]
  },
  {
   "cell_type": "code",
   "execution_count": null,
   "metadata": {
    "id": "Ya1PRxkx_HtE"
   },
   "outputs": [],
   "source": [
    "toolbox = gep.Toolbox()\n",
    "toolbox.register('gene_gen', gep.Gene, pset=pset, head_length=h)\n",
    "toolbox.register('individual', creator.Individual, gene_gen=toolbox.gene_gen, n_genes=n_genes, linker=operator.add)\n",
    "toolbox.register(\"population\", tools.initRepeat, list, toolbox.individual)\n",
    "\n",
    "# compile utility: which translates an individual into an executable function (Lambda)\n",
    "toolbox.register('compile', gep.compile_, pset=pset)"
   ]
  },
  {
   "cell_type": "code",
   "execution_count": null,
   "metadata": {
    "id": "k41Ua4tZadOx"
   },
   "outputs": [],
   "source": [
    "#@title Simulation Options { run: \"auto\" }\n",
    "SIMULATION_STEPS = 99\n",
    "SIMULATION_RUNS = 10 #@param {type:\"slider\", min:1, max:10, step:1}"
   ]
  },
  {
   "cell_type": "code",
   "execution_count": null,
   "metadata": {
    "colab": {
     "base_uri": "https://localhost:8080/"
    },
    "id": "HrXi_929oXGq",
    "outputId": "8ea49931-edc6-4fac-e381-52260dea5f9c"
   },
   "outputs": [
    {
     "output_type": "stream",
     "name": "stdout",
     "text": [
      "[-1.]\n"
     ]
    }
   ],
   "source": [
    "print(env.action_space.low)"
   ]
  },
  {
   "cell_type": "code",
   "execution_count": null,
   "metadata": {
    "colab": {
     "base_uri": "https://localhost:8080/"
    },
    "id": "Ff3KOWCkisPI",
    "outputId": "3adbcda9-935a-4de5-fc46-06959ef9ae13"
   },
   "outputs": [
    {
     "output_type": "stream",
     "name": "stdout",
     "text": [
      "<TimeLimit<PendulumEnv<Pendulum-v0>>>\n"
     ]
    }
   ],
   "source": [
    "environments = [gym.make(\"MountainCarContinuous-v0\"), gym.make(\"Pendulum-v0\")]\n",
    "print(str(environments[1]))"
   ]
  },
  {
   "cell_type": "code",
   "execution_count": null,
   "metadata": {
    "colab": {
     "base_uri": "https://localhost:8080/",
     "height": 441
    },
    "id": "ZgFtzmKndN8N",
    "outputId": "653cc2f0-e7c4-4b0b-a840-00045b64d322"
   },
   "outputs": [],
   "source": [
    "def func(e, x, y, velocity):\n",
    "  return x * y + velocity * e\n",
    "\n",
    "def clamp(minv, maxv, val):\n",
    "  return min(max(minv, val), maxv)\n",
    "\n",
    "def convert_to_action(act, env):\n",
    "  #convert act space to within environment action space     \n",
    "  return clamp(env.action_space.low, env.action_space.high, act)\n",
    "\n",
    "frames = []\n",
    "fitness = 0\n",
    "  \n",
    "for env in environments:\n",
    "  state = env.reset()  \n",
    "  e = environments.index(env)\n",
    "  for i in range(SIMULATION_STEPS):\n",
    "    if len(state) < 3:    \n",
    "      state = np.append(state, 0)\n",
    "    state = np.insert(state, 0, e)\n",
    "    action = convert_to_action(func(*state), env) \n",
    "    state, reward, done, info = env.step([action])     \n",
    "    fitness += reward # reward for each step \n",
    "    #frames.append(env.render(mode='rgb_array')) \n",
    "    frame = env.render(mode='rgb_array')\n",
    "    frame = cv2.resize(frame, dsize=(600, 400), interpolation=cv2.INTER_CUBIC)   \n",
    "    frames.append(frame) \n",
    "    if done:       \n",
    "      break \n",
    "\n",
    "print(fitness)\n",
    "mediapy.show_video(frames, fps=30)"
   ]
  },
  {
   "cell_type": "code",
   "execution_count": null,
   "metadata": {
    "id": "44x6LiQg_K10"
   },
   "outputs": [],
   "source": [
    "def evaluate(individual):\n",
    "    \"\"\"Evalute the fitness of an individual\"\"\"    \n",
    "    func = toolbox.compile(individual)\n",
    "    #loop over environments\n",
    "    total_fitness = 0    \n",
    "    for env in environments:  \n",
    "      fitness = [] \n",
    "      e = environments.index(env)\n",
    "      for run in range(SIMULATION_RUNS):  \n",
    "        state = env.reset()   \n",
    "        actions=[]   \n",
    "        for i in range(SIMULATION_STEPS):\n",
    "          if len(state) < 3:    \n",
    "            state = np.append(state, 0)\n",
    "          state = np.insert(state, 0, e)\n",
    "          action = convert_to_action(func(*state), env)\n",
    "          state, reward, done, info = env.step([action])             \n",
    "          fitness.append(reward)      \n",
    "          if done:                              \n",
    "            break      \n",
    "      total_fitness += sum(fitness)/len(fitness)\n",
    "    return total_fitness/2, \n",
    "\n",
    "toolbox.register('evaluate', evaluate)"
   ]
  },
  {
   "cell_type": "code",
   "execution_count": null,
   "metadata": {
    "id": "q3asJCb7_mi9"
   },
   "outputs": [],
   "source": [
    "toolbox.register('select', tools.selTournament, tournsize=3)\n",
    "# 1. general operators\n",
    "toolbox.register('mut_uniform', gep.mutate_uniform, pset=pset, ind_pb=0.05, pb=1)\n",
    "toolbox.register('mut_invert', gep.invert, pb=0.1)\n",
    "toolbox.register('mut_is_transpose', gep.is_transpose, pb=0.1)\n",
    "toolbox.register('mut_ris_transpose', gep.ris_transpose, pb=0.1)\n",
    "toolbox.register('mut_gene_transpose', gep.gene_transpose, pb=0.1)\n",
    "toolbox.register('cx_1p', gep.crossover_one_point, pb=0.4)\n",
    "toolbox.register('cx_2p', gep.crossover_two_point, pb=0.2)\n",
    "toolbox.register('cx_gene', gep.crossover_gene, pb=0.1)\n",
    "toolbox.register('mut_ephemeral', gep.mutate_uniform_ephemeral, ind_pb='1p')  # 1p: expected one point mutation in an individual\n",
    "toolbox.pbs['mut_ephemeral'] = 1  # we can also give the probability via the pbs property"
   ]
  },
  {
   "cell_type": "code",
   "execution_count": null,
   "metadata": {
    "id": "ztOYvQHk_qiN"
   },
   "outputs": [],
   "source": [
    "stats = tools.Statistics(key=lambda ind: ind.fitness.values[0])\n",
    "stats.register(\"avg\", np.mean)\n",
    "stats.register(\"std\", np.std)\n",
    "stats.register(\"min\", np.min)\n",
    "stats.register(\"max\", np.max)"
   ]
  },
  {
   "cell_type": "code",
   "execution_count": null,
   "metadata": {
    "id": "rTDmVZdyRRGu"
   },
   "outputs": [],
   "source": [
    "rename_labels = {'add': '+',\n",
    "                 'sub': '-',\n",
    "                 'mul': '*',\n",
    "                 'protected_div': '/',\n",
    "                 'instinct1': 'I1',\n",
    "                 'instinct2': 'I2'}\n",
    "                 \n",
    "def show_best(best):  \n",
    "  func = toolbox.compile(best)\n",
    "  frames = []\n",
    "  fitness = 0\n",
    "  for env in environments:\n",
    "    e = environments.index(env)\n",
    "    state = env.reset()\n",
    "    for i in range(SIMULATION_STEPS):\n",
    "      if len(state) < 3:    \n",
    "        state = np.append(state, 0)\n",
    "      state = np.insert(state, 0, e)\n",
    "      action = convert_to_action(func(*state), env)             \n",
    "      state, reward, done, info = env.step([action]) \n",
    "      frame = env.render(mode='rgb_array')\n",
    "      frame = cv2.resize(frame, dsize=(600, 400), \n",
    "                         interpolation=cv2.INTER_CUBIC)   \n",
    "      frames.append(frame) \n",
    "      fitness += reward\n",
    "      if done:       \n",
    "        break \n",
    "  \n",
    "  mediapy.show_video(frames, fps=30)     \n",
    "  gep.export_expression_tree(best, rename_labels, 'data/numerical_expression_tree.png') \n",
    "  "
   ]
  },
  {
   "cell_type": "code",
   "execution_count": null,
   "metadata": {
    "colab": {
     "base_uri": "https://localhost:8080/",
     "height": 441
    },
    "id": "QCqOB-v5_vXd",
    "outputId": "0bd45a42-d610-4de4-aa48-92ebb28d9620"
   },
   "outputs": [],
   "source": [
    "#@title Evolve the Equation\n",
    "# size of population and number of generations\n",
    "POPULATION = 1000 #@param {type:\"slider\", min:10, max:1000, step:5}\n",
    "GENERATIONS = 250 #@param {type:\"slider\", min:10, max:250, step:1}\n",
    "\n",
    "pop = toolbox.population(n=POPULATION)\n",
    "hof = tools.HallOfFame(3)   # only record the best three individuals ever found in all generations\n",
    "\n",
    "# start evolution\n",
    "for gen in range(GENERATIONS):\n",
    "  pop, log = gep.gep_simple(pop, toolbox, n_generations=1, n_elites=1,\n",
    "                            stats=stats, hall_of_fame=hof, verbose=True)  \n",
    "  clear_output()\n",
    "  print(f\"GENERATION: {gen}\")\n",
    "  best = hof[0]\n",
    "  show_best(best)  "
   ]
  },
  {
   "cell_type": "code",
   "execution_count": null,
   "metadata": {
    "id": "DwwTBLlfALMd",
    "colab": {
     "base_uri": "https://localhost:8080/",
     "height": 460
    },
    "outputId": "59af496f-90a4-46bc-a283-c158616ca814"
   },
   "outputs": [],
   "source": [
    "# we want use symbol labels instead of words in the tree graph\n",
    "best = hof[0]\n",
    "gep.export_expression_tree(best, rename_labels, 'data/numerical_expression_tree.png')\n",
    "\n",
    "# show the above image here for convenience\n",
    "from IPython.display import Image\n",
    "Image(filename='data/numerical_expression_tree.png')"
   ]
  }
 ],
 "metadata": {
  "colab": {
   "collapsed_sections": [],
   "name": "EDL_12_3_GEPPY_Generalize.ipynb",
   "provenance": [],
   "authorship_tag": "ABX9TyO6sAAf5NJupXssosR5/PLY",
   "include_colab_link": true
  },
  "kernelspec": {
   "display_name": "Python 3",
   "name": "python3"
  }
 },
 "nbformat": 4,
 "nbformat_minor": 0
}
