{
 "nbformat": 4,
 "nbformat_minor": 0,
 "metadata": {
  "colab": {
   "name": "EDL_10_1_NEAT_XOR.ipynb",
   "provenance": [],
   "collapsed_sections": [],
   "authorship_tag": "ABX9TyPmFqZNR62/RqCv/blI54GY",
   "include_colab_link": true
  },
  "kernelspec": {
   "name": "python3",
   "display_name": "Python 3"
  },
  "language_info": {
   "name": "python"
  }
 },
 "cells": [
  {
   "cell_type": "code",
   "source": [
    "# 2-input XOR inputs and expected outputs.\n",
    "xor_inputs = [(0.0, 0.0), (0.0, 1.0), (1.0, 0.0), (1.0, 1.0)]\n",
    "xor_outputs = [   (0.0,),     (1.0,),     (1.0,),     (0.0,)]"
   ],
   "metadata": {
    "id": "6S1csdi_Xdhb"
   },
   "execution_count": null,
   "outputs": []
  },
  {
   "cell_type": "code",
   "source": [
    "#@title Create the Evaluation Function\n",
    "def eval_genomes(genomes, config):\n",
    "  for genome_id, genome in genomes:\n",
    "    genome.fitness = 4.0\n",
    "    net = neat.nn.FeedForwardNetwork.create(genome, config)\n",
    "    for xi, xo in zip(xor_inputs, xor_outputs):\n",
    "      output = net.activate(xi)            \n",
    "      genome.fitness -= (output[0] - xo[0]) ** 2"
   ],
   "metadata": {
    "id": "rOMbfJLAXhKK"
   },
   "execution_count": null,
   "outputs": []
  },
  {
   "cell_type": "code",
   "source": [
    "%%writefile config\n",
    "#--- parameters for the XOR-2 experiment ---#\n",
    "\n",
    "[NEAT]\n",
    "fitness_criterion     = max\n",
    "fitness_threshold     = 3.99\n",
    "pop_size              = 150\n",
    "reset_on_extinction   = False\n",
    "\n",
    "[DefaultGenome]\n",
    "# node activation options\n",
    "activation_default      = sigmoid\n",
    "activation_mutate_rate  = 0.0\n",
    "activation_options      = sigmoid\n",
    "\n",
    "# node aggregation options\n",
    "aggregation_default     = sum\n",
    "aggregation_mutate_rate = 0.0\n",
    "aggregation_options     = sum\n",
    "\n",
    "# node bias options\n",
    "bias_init_mean          = 0.0\n",
    "bias_init_stdev         = 1.0\n",
    "bias_max_value          = 30.0\n",
    "bias_min_value          = -30.0\n",
    "bias_mutate_power       = 0.5\n",
    "bias_mutate_rate        = 0.7\n",
    "bias_replace_rate       = 0.1\n",
    "\n",
    "# genome compatibility options\n",
    "compatibility_disjoint_coefficient = 1.0\n",
    "compatibility_weight_coefficient   = 0.5\n",
    "\n",
    "# connection add/remove rates\n",
    "conn_add_prob           = 0.5\n",
    "conn_delete_prob        = 0.5\n",
    "\n",
    "# connection enable options\n",
    "enabled_default         = True\n",
    "enabled_mutate_rate     = 0.01\n",
    "\n",
    "feed_forward            = True\n",
    "initial_connection      = full\n",
    "\n",
    "# node add/remove rates\n",
    "node_add_prob           = 0.2\n",
    "node_delete_prob        = 0.2\n",
    "\n",
    "# network parameters\n",
    "num_hidden              = 0\n",
    "num_inputs              = 2\n",
    "num_outputs             = 1\n",
    "\n",
    "# node response options\n",
    "response_init_mean      = 1.0\n",
    "response_init_stdev     = 0.0\n",
    "response_max_value      = 30.0\n",
    "response_min_value      = -30.0\n",
    "response_mutate_power   = 0.0\n",
    "response_mutate_rate    = 0.0\n",
    "response_replace_rate   = 0.0\n",
    "\n",
    "# connection weight options\n",
    "weight_init_mean        = 0.0\n",
    "weight_init_stdev       = 1.0\n",
    "weight_max_value        = 30\n",
    "weight_min_value        = -30\n",
    "weight_mutate_power     = 0.5\n",
    "weight_mutate_rate      = 0.8\n",
    "weight_replace_rate     = 0.1\n",
    "\n",
    "[DefaultSpeciesSet]\n",
    "compatibility_threshold = 3.0\n",
    "\n",
    "[DefaultStagnation]\n",
    "species_fitness_func = max\n",
    "max_stagnation       = 20\n",
    "species_elitism      = 2\n",
    "\n",
    "[DefaultReproduction]\n",
    "elitism            = 2\n",
    "survival_threshold = 0.2"
   ],
   "metadata": {
    "id": "hd9WgGFyX5aZ",
    "colab": {
     "base_uri": "https://localhost:8080/"
    },
    "outputId": "cef15329-6438-4c6e-97fc-8c72eb16a690"
   },
   "execution_count": null,
   "outputs": [
    {
     "output_type": "stream",
     "name": "stdout",
     "text": [
      "Writing config\n"
     ]
    }
   ]
  },
  {
   "cell_type": "code",
   "source": [
    "# Load configuration.\n",
    "config = neat.Config(neat.DefaultGenome, neat.DefaultReproduction,\n",
    "                     neat.DefaultSpeciesSet, neat.DefaultStagnation,\n",
    "                     'config')\n",
    "\n",
    "# Create the population, which is the top-level object for a NEAT run.\n",
    "p = neat.Population(config)\n",
    "\n",
    "# Add a stdout reporter to show progress in the terminal.\n",
    "p.add_reporter(neat.StdOutReporter(False))\n",
    "\n",
    "# Run until a solution is found.\n",
    "winner = p.run(eval_genomes)\n",
    "\n",
    "# Display the winning genome.\n",
    "print('\\nBest genome:\\n{!s}'.format(winner))\n",
    "\n",
    "# Show output of the most fit genome against training data.\n",
    "print('\\nOutput:')\n",
    "winner_net = neat.nn.FeedForwardNetwork.create(winner, config)\n",
    "for xi, xo in zip(xor_inputs, xor_outputs):\n",
    "    output = winner_net.activate(xi)\n",
    "    print(\"  input {!r}, expected output {!r}, got {!r}\".format(xi, xo, output))"
   ],
   "metadata": {
    "colab": {
     "base_uri": "https://localhost:8080/"
    },
    "id": "pYYZ4cXVX1Gu",
    "outputId": "97505884-2f0e-435a-e214-5330f4036857"
   },
   "execution_count": null,
   "outputs": []
  }
 ]
}
