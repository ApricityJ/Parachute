{
 "nbformat": 4,
 "nbformat_minor": 0,
 "metadata": {
  "colab": {
   "name": "EDL_6_4_Keras_GA.ipynb",
   "provenance": [],
   "collapsed_sections": [],
   "authorship_tag": "ABX9TyN1+YYJUk/xYkRKCKrXjBkV",
   "include_colab_link": true
  },
  "kernelspec": {
   "name": "python3",
   "language": "python",
   "display_name": "Python 3 (ipykernel)"
  },
  "language_info": {
   "name": "python"
  },
  "accelerator": "GPU"
 },
 "cells": [
  {
   "cell_type": "code",
   "metadata": {
    "id": "5XA9kA0OWra-",
    "ExecuteTime": {
     "start_time": "2024-02-20T11:10:03.783436Z",
     "end_time": "2024-02-20T11:10:18.510254Z"
    }
   },
   "source": [
    "#@title Imports\n",
    "import tensorflow as tf\n",
    "import numpy as np\n",
    "import sklearn\n",
    "import sklearn.datasets\n",
    "import sklearn.linear_model\n",
    "import matplotlib.pyplot as plt\n",
    "from IPython.display import clear_output\n",
    "from livelossplot import PlotLossesKeras\n",
    "\n",
    "#DEAP\n",
    "from deap import algorithms\n",
    "from deap import base\n",
    "from deap import benchmarks\n",
    "from deap import creator\n",
    "from deap import tools\n",
    "\n",
    "import random"
   ],
   "execution_count": 1,
   "outputs": []
  },
  {
   "cell_type": "code",
   "metadata": {
    "colab": {
     "base_uri": "https://localhost:8080/",
     "height": 282
    },
    "id": "Ka0P2qXFWx9F",
    "outputId": "e1aa405c-e7df-47f5-bb34-48577a2002cf",
    "cellView": "form",
    "ExecuteTime": {
     "start_time": "2024-02-20T11:10:28.903278Z",
     "end_time": "2024-02-20T11:10:29.041513Z"
    }
   },
   "source": [
    "#@title Dataset Parameters  { run: \"auto\" }\n",
    "number_samples = 400 #@param {type:\"slider\", min:100, max:1000, step:25}\n",
    "difficulty = 1 #@param {type:\"slider\", min:1, max:5, step:1}\n",
    "problem = \"moons\" #@param [\"classification\", \"blobs\", \"gaussian quantiles\", \"moons\", \"circles\"]\n",
    "number_features = 2\n",
    "number_classes = 2 \n",
    "middle_layer = 25 #@param {type:\"slider\", min:5, max:25, step:1}\n",
    "epochs = 50 #@param {type:\"slider\", min:5, max:50, step:1}\n",
    "\n",
    "def load_data(problem):  \n",
    "  if problem == \"classification\":\n",
    "    clusters = 1 if difficulty < 3 else 2\n",
    "    informs = 1 if difficulty < 4 else 2\n",
    "    data = sklearn.datasets.make_classification(\n",
    "        n_samples = number_samples,\n",
    "        n_features=number_features, \n",
    "        n_redundant=0, \n",
    "        class_sep=1/difficulty,\n",
    "        n_informative=informs, \n",
    "        n_clusters_per_class=clusters)\n",
    "    \n",
    "  if problem == \"blobs\":\n",
    "    data = sklearn.datasets.make_blobs(\n",
    "        n_samples = number_samples,\n",
    "        n_features=number_features, \n",
    "        centers=number_classes,\n",
    "        cluster_std = difficulty)\n",
    "  \n",
    "  if problem == \"gaussian quantiles\":\n",
    "    data = sklearn.datasets.make_gaussian_quantiles(mean=None, \n",
    "                                                  cov=difficulty,\n",
    "                                                  n_samples=number_samples,\n",
    "                                                  n_features=number_features,\n",
    "                                                  n_classes=number_classes,\n",
    "                                                  shuffle=True,\n",
    "                                                  random_state=None)\n",
    "    \n",
    "  if problem == \"moons\":\n",
    "    data = sklearn.datasets.make_moons(\n",
    "        n_samples = number_samples)\n",
    "    \n",
    "  if problem == \"circles\":\n",
    "    data = sklearn.datasets.make_circles(\n",
    "        n_samples = number_samples)\n",
    "    \n",
    "  return data\n",
    "\n",
    "data = load_data(problem)\n",
    "X, Y = data\n",
    "\n",
    "# Input Data\n",
    "plt.figure(\"Input Data\")\n",
    "plt.scatter(X[:, 0], X[:, 1], c=Y, s=40, cmap=plt.cm.Spectral)\n"
   ],
   "execution_count": 2,
   "outputs": [
    {
     "data": {
      "text/plain": "<matplotlib.collections.PathCollection at 0x2a7a31430>"
     },
     "execution_count": 2,
     "metadata": {},
     "output_type": "execute_result"
    },
    {
     "data": {
      "text/plain": "<Figure size 432x288 with 1 Axes>",
      "image/png": "[encoded data removed]"
     },
     "metadata": {
      "needs_background": "light"
     },
     "output_type": "display_data"
    }
   ]
  },
  {
   "cell_type": "code",
   "metadata": {
    "id": "-4RBTHp7a4oK",
    "ExecuteTime": {
     "start_time": "2024-02-20T11:10:33.064086Z",
     "end_time": "2024-02-20T11:10:33.066936Z"
    }
   },
   "source": [
    "#@title Helper function to show prediction results\n",
    "def show_predictions(model, X, Y, name=\"\"):\n",
    "    \"\"\" display the labeled data X and a surface of prediction of model \"\"\"\n",
    "    x_min, x_max = X[:, 0].min() - 1, X[:, 0].max() + 1\n",
    "    y_min, y_max = X[:, 1].min() - 1, X[:, 1].max() + 1\n",
    "    xx, yy = np.meshgrid(np.arange(x_min, x_max, 0.1), np.arange(y_min, y_max, 0.1))\n",
    "    X_temp = np.c_[xx.flatten(), yy.flatten()]\n",
    "    Z = model.predict(X_temp)\n",
    "    plt.figure(\"Predictions \" + name)\n",
    "    plt.contourf(xx, yy, Z.reshape(xx.shape), cmap=plt.cm.Spectral)\n",
    "    plt.ylabel('x2')\n",
    "    plt.xlabel('x1')\n",
    "    plt.scatter(X[:, 0], X[:, 1],c=Y, s=40, cmap=plt.cm.Spectral)    "
   ],
   "execution_count": 3,
   "outputs": []
  },
  {
   "cell_type": "code",
   "metadata": {
    "colab": {
     "base_uri": "https://localhost:8080/",
     "height": 296
    },
    "id": "AaX6tAWmZpzJ",
    "outputId": "f3486e52-ce81-4fa7-d5fb-d087076382c4",
    "ExecuteTime": {
     "start_time": "2024-02-20T11:10:35.536197Z",
     "end_time": "2024-02-20T11:10:35.684129Z"
    }
   },
   "source": [
    "#@title Logisitc Regression with SKLearn\n",
    "clf = sklearn.linear_model.LogisticRegressionCV()\n",
    "clf.fit(X, Y)\n",
    "\n",
    "show_predictions(clf, X, Y, \"Logistic regression\")\n",
    "    \n",
    "LR_predictions = clf.predict(X)\n",
    "print(\"Logistic Regression accuracy : \", np.sum(LR_predictions == Y) / Y.shape[0])"
   ],
   "execution_count": 4,
   "outputs": [
    {
     "name": "stdout",
     "output_type": "stream",
     "text": [
      "Logistic Regression accuracy :  0.89\n"
     ]
    },
    {
     "data": {
      "text/plain": "<Figure size 432x288 with 1 Axes>",
      "image/png": "[encoded data removed]"
     },
     "metadata": {
      "needs_background": "light"
     },
     "output_type": "display_data"
    }
   ]
  },
  {
   "cell_type": "code",
   "source": [
    "#@title Setup Keras Model\n",
    "model = tf.keras.models.Sequential([\n",
    "  tf.keras.layers.Dense(16, activation='relu', input_shape=(X.shape[1],)),  \n",
    "  tf.keras.layers.Dense(32, activation='relu'),  \n",
    "  tf.keras.layers.Dense(1, activation='sigmoid')\n",
    "])\n",
    "\n",
    "optimizer = tf.keras.optimizers.Adam(learning_rate=.001)\n",
    "\n",
    "model.compile(optimizer=optimizer,\n",
    "              loss='binary_crossentropy', \n",
    "              metrics=['accuracy'])\n",
    "\n",
    "model.summary()\n",
    "trainableParams = np.sum([np.prod(v.get_shape()) for v in model.trainable_weights])\n",
    "print(f\"Trainable parameters: {trainableParams}\")"
   ],
   "metadata": {
    "colab": {
     "base_uri": "https://localhost:8080/"
    },
    "id": "lR1Pt5X5Nj2n",
    "outputId": "a81c6daa-66ed-4531-91ed-b332a35f5774",
    "ExecuteTime": {
     "start_time": "2024-02-20T11:10:40.973738Z",
     "end_time": "2024-02-20T11:10:41.062679Z"
    }
   },
   "execution_count": 5,
   "outputs": [
    {
     "name": "stderr",
     "output_type": "stream",
     "text": [
      "WARNING:absl:At this time, the v2.11+ optimizer `tf.keras.optimizers.Adam` runs slowly on M1/M2 Macs, please use the legacy Keras optimizer instead, located at `tf.keras.optimizers.legacy.Adam`.\n",
      "WARNING:absl:There is a known slowdown when using v2.11+ Keras optimizers on M1/M2 Macs. Falling back to the legacy Keras optimizer, i.e., `tf.keras.optimizers.legacy.Adam`.\n"
     ]
    },
    {
     "name": "stdout",
     "output_type": "stream",
     "text": [
      "Model: \"sequential\"\n",
      "_________________________________________________________________\n",
      " Layer (type)                Output Shape              Param #   \n",
      "=================================================================\n",
      " dense (Dense)               (None, 16)                48        \n",
      "                                                                 \n",
      " dense_1 (Dense)             (None, 32)                544       \n",
      "                                                                 \n",
      " dense_2 (Dense)             (None, 1)                 33        \n",
      "                                                                 \n",
      "=================================================================\n",
      "Total params: 625 (2.44 KB)\n",
      "Trainable params: 625 (2.44 KB)\n",
      "Non-trainable params: 0 (0.00 Byte)\n",
      "_________________________________________________________________\n",
      "Trainable parameters: 625\n"
     ]
    }
   ]
  },
  {
   "cell_type": "code",
   "source": [
    "model.fit(X, Y, epochs=epochs,\n",
    "          callbacks=[PlotLossesKeras()],\n",
    "          verbose=0)"
   ],
   "metadata": {
    "colab": {
     "base_uri": "https://localhost:8080/",
     "height": 672
    },
    "id": "QLXLyqMuNu0b",
    "outputId": "2f9641a3-062f-4ca2-96a5-0782c5e38651",
    "ExecuteTime": {
     "start_time": "2024-02-20T11:10:48.237009Z",
     "end_time": "2024-02-20T11:10:58.789304Z"
    }
   },
   "execution_count": 6,
   "outputs": [
    {
     "data": {
      "text/plain": "<Figure size 864x576 with 2 Axes>",
      "image/png": "[encoded data removed]"
     },
     "metadata": {
      "needs_background": "light"
     },
     "output_type": "display_data"
    },
    {
     "name": "stdout",
     "output_type": "stream",
     "text": [
      "accuracy\n",
      "\taccuracy         \t (min:    0.795, max:    0.933, cur:    0.933)\n",
      "Loss\n",
      "\tloss             \t (min:    0.159, max:    0.612, cur:    0.159)\n"
     ]
    },
    {
     "data": {
      "text/plain": "<keras.src.callbacks.History at 0x2a886c1c0>"
     },
     "execution_count": 6,
     "metadata": {},
     "output_type": "execute_result"
    }
   ]
  },
  {
   "cell_type": "code",
   "source": [
    "model.evaluate(X,Y)"
   ],
   "metadata": {
    "colab": {
     "base_uri": "https://localhost:8080/"
    },
    "id": "xq8733-NVly0",
    "outputId": "353f9b39-ec3c-44a0-ef0e-0c55e14161bf",
    "ExecuteTime": {
     "start_time": "2024-02-20T11:11:15.863414Z",
     "end_time": "2024-02-20T11:11:15.967711Z"
    }
   },
   "execution_count": 7,
   "outputs": [
    {
     "name": "stdout",
     "output_type": "stream",
     "text": [
      "13/13 [==============================] - 0s 652us/step - loss: 0.1560 - accuracy: 0.9325\n"
     ]
    },
    {
     "data": {
      "text/plain": "[0.156038299202919, 0.9325000047683716]"
     },
     "execution_count": 7,
     "metadata": {},
     "output_type": "execute_result"
    }
   ]
  },
  {
   "cell_type": "code",
   "source": [
    "show_predictions(model, X, Y, \"Keras with Adam\")\n",
    "print(\"Neural Network accuracy : \", model.evaluate(X,Y)[1])"
   ],
   "metadata": {
    "colab": {
     "base_uri": "https://localhost:8080/",
     "height": 314
    },
    "id": "D4tuQuHQRzOa",
    "outputId": "cedfd784-f7fc-4c8e-f835-e40b9036950d",
    "ExecuteTime": {
     "start_time": "2024-02-20T11:11:24.299547Z",
     "end_time": "2024-02-20T11:11:24.534121Z"
    }
   },
   "execution_count": 8,
   "outputs": [
    {
     "name": "stdout",
     "output_type": "stream",
     "text": [
      "55/55 [==============================] - 0s 437us/step\n",
      "13/13 [==============================] - 0s 1ms/step - loss: 0.1560 - accuracy: 0.9325\n",
      "Neural Network accuracy :  0.9325000047683716\n"
     ]
    },
    {
     "data": {
      "text/plain": "<Figure size 432x288 with 1 Axes>",
      "image/png": "[encoded data removed]"
     },
     "metadata": {
      "needs_background": "light"
     },
     "output_type": "display_data"
    }
   ]
  },
  {
   "cell_type": "code",
   "source": [
    "def print_parameters():\n",
    "  for layer in model.layers:\n",
    "    for na in layer.get_weights():\n",
    "      print(na)\n",
    "\n",
    "def set_parameters(individual):\n",
    "  idx = 0\n",
    "  tensors=[]\n",
    "  for layer in model.layers:\n",
    "    for na in layer.get_weights():\n",
    "      size = na.size\n",
    "      sh = na.shape\n",
    "      t = individual[idx:idx+size]\n",
    "      t = np.array(t)\n",
    "      t = np.reshape(t, sh)      \n",
    "      idx += size\n",
    "      tensors.append(t)\n",
    "  model.set_weights(tensors)"
   ],
   "metadata": {
    "id": "gU2abasVT2G2",
    "ExecuteTime": {
     "start_time": "2024-02-20T11:11:35.309659Z",
     "end_time": "2024-02-20T11:11:35.316208Z"
    }
   },
   "execution_count": 9,
   "outputs": []
  },
  {
   "cell_type": "code",
   "metadata": {
    "colab": {
     "base_uri": "https://localhost:8080/"
    },
    "id": "p2dkNxdkebbi",
    "outputId": "0b906df6-23be-4927-fb9b-83310f6e6722",
    "ExecuteTime": {
     "start_time": "2024-02-20T11:11:42.965395Z",
     "end_time": "2024-02-20T11:11:43.026396Z"
    }
   },
   "source": [
    "number_of_genes = trainableParams\n",
    "print(number_of_genes)\n",
    "\n",
    "individual = np.ones(number_of_genes)\n",
    "set_parameters(individual)\n",
    "\n",
    "print(\"Neural Network accuracy : \", model.evaluate(X,Y)[1])\n",
    "print_parameters()"
   ],
   "execution_count": 10,
   "outputs": [
    {
     "name": "stdout",
     "output_type": "stream",
     "text": [
      "625\n",
      "13/13 [==============================] - 0s 610us/step - loss: 434.6564 - accuracy: 0.5000\n",
      "Neural Network accuracy :  0.5\n",
      "[[1. 1. 1. 1. 1. 1. 1. 1. 1. 1. 1. 1. 1. 1. 1. 1.]\n",
      " [1. 1. 1. 1. 1. 1. 1. 1. 1. 1. 1. 1. 1. 1. 1. 1.]]\n",
      "[1. 1. 1. 1. 1. 1. 1. 1. 1. 1. 1. 1. 1. 1. 1. 1.]\n",
      "[[1. 1. 1. 1. 1. 1. 1. 1. 1. 1. 1. 1. 1. 1. 1. 1. 1. 1. 1. 1. 1. 1. 1. 1.\n",
      "  1. 1. 1. 1. 1. 1. 1. 1.]\n",
      " [1. 1. 1. 1. 1. 1. 1. 1. 1. 1. 1. 1. 1. 1. 1. 1. 1. 1. 1. 1. 1. 1. 1. 1.\n",
      "  1. 1. 1. 1. 1. 1. 1. 1.]\n",
      " [1. 1. 1. 1. 1. 1. 1. 1. 1. 1. 1. 1. 1. 1. 1. 1. 1. 1. 1. 1. 1. 1. 1. 1.\n",
      "  1. 1. 1. 1. 1. 1. 1. 1.]\n",
      " [1. 1. 1. 1. 1. 1. 1. 1. 1. 1. 1. 1. 1. 1. 1. 1. 1. 1. 1. 1. 1. 1. 1. 1.\n",
      "  1. 1. 1. 1. 1. 1. 1. 1.]\n",
      " [1. 1. 1. 1. 1. 1. 1. 1. 1. 1. 1. 1. 1. 1. 1. 1. 1. 1. 1. 1. 1. 1. 1. 1.\n",
      "  1. 1. 1. 1. 1. 1. 1. 1.]\n",
      " [1. 1. 1. 1. 1. 1. 1. 1. 1. 1. 1. 1. 1. 1. 1. 1. 1. 1. 1. 1. 1. 1. 1. 1.\n",
      "  1. 1. 1. 1. 1. 1. 1. 1.]\n",
      " [1. 1. 1. 1. 1. 1. 1. 1. 1. 1. 1. 1. 1. 1. 1. 1. 1. 1. 1. 1. 1. 1. 1. 1.\n",
      "  1. 1. 1. 1. 1. 1. 1. 1.]\n",
      " [1. 1. 1. 1. 1. 1. 1. 1. 1. 1. 1. 1. 1. 1. 1. 1. 1. 1. 1. 1. 1. 1. 1. 1.\n",
      "  1. 1. 1. 1. 1. 1. 1. 1.]\n",
      " [1. 1. 1. 1. 1. 1. 1. 1. 1. 1. 1. 1. 1. 1. 1. 1. 1. 1. 1. 1. 1. 1. 1. 1.\n",
      "  1. 1. 1. 1. 1. 1. 1. 1.]\n",
      " [1. 1. 1. 1. 1. 1. 1. 1. 1. 1. 1. 1. 1. 1. 1. 1. 1. 1. 1. 1. 1. 1. 1. 1.\n",
      "  1. 1. 1. 1. 1. 1. 1. 1.]\n",
      " [1. 1. 1. 1. 1. 1. 1. 1. 1. 1. 1. 1. 1. 1. 1. 1. 1. 1. 1. 1. 1. 1. 1. 1.\n",
      "  1. 1. 1. 1. 1. 1. 1. 1.]\n",
      " [1. 1. 1. 1. 1. 1. 1. 1. 1. 1. 1. 1. 1. 1. 1. 1. 1. 1. 1. 1. 1. 1. 1. 1.\n",
      "  1. 1. 1. 1. 1. 1. 1. 1.]\n",
      " [1. 1. 1. 1. 1. 1. 1. 1. 1. 1. 1. 1. 1. 1. 1. 1. 1. 1. 1. 1. 1. 1. 1. 1.\n",
      "  1. 1. 1. 1. 1. 1. 1. 1.]\n",
      " [1. 1. 1. 1. 1. 1. 1. 1. 1. 1. 1. 1. 1. 1. 1. 1. 1. 1. 1. 1. 1. 1. 1. 1.\n",
      "  1. 1. 1. 1. 1. 1. 1. 1.]\n",
      " [1. 1. 1. 1. 1. 1. 1. 1. 1. 1. 1. 1. 1. 1. 1. 1. 1. 1. 1. 1. 1. 1. 1. 1.\n",
      "  1. 1. 1. 1. 1. 1. 1. 1.]\n",
      " [1. 1. 1. 1. 1. 1. 1. 1. 1. 1. 1. 1. 1. 1. 1. 1. 1. 1. 1. 1. 1. 1. 1. 1.\n",
      "  1. 1. 1. 1. 1. 1. 1. 1.]]\n",
      "[1. 1. 1. 1. 1. 1. 1. 1. 1. 1. 1. 1. 1. 1. 1. 1. 1. 1. 1. 1. 1. 1. 1. 1.\n",
      " 1. 1. 1. 1. 1. 1. 1. 1.]\n",
      "[[1.]\n",
      " [1.]\n",
      " [1.]\n",
      " [1.]\n",
      " [1.]\n",
      " [1.]\n",
      " [1.]\n",
      " [1.]\n",
      " [1.]\n",
      " [1.]\n",
      " [1.]\n",
      " [1.]\n",
      " [1.]\n",
      " [1.]\n",
      " [1.]\n",
      " [1.]\n",
      " [1.]\n",
      " [1.]\n",
      " [1.]\n",
      " [1.]\n",
      " [1.]\n",
      " [1.]\n",
      " [1.]\n",
      " [1.]\n",
      " [1.]\n",
      " [1.]\n",
      " [1.]\n",
      " [1.]\n",
      " [1.]\n",
      " [1.]\n",
      " [1.]\n",
      " [1.]]\n",
      "[1.]\n"
     ]
    }
   ]
  },
  {
   "cell_type": "code",
   "metadata": {
    "colab": {
     "base_uri": "https://localhost:8080/",
     "height": 314
    },
    "id": "fXdmS2uNU8Rp",
    "outputId": "84eca77e-9ef3-4691-9763-e0c945d8055c",
    "ExecuteTime": {
     "start_time": "2024-02-20T11:11:47.136228Z",
     "end_time": "2024-02-20T11:11:47.310101Z"
    }
   },
   "source": [
    "show_predictions(model, X, Y, \"Neural Network\")\n",
    "print(\"Neural Network accuracy : \", model.evaluate(X,Y)[1])"
   ],
   "execution_count": 11,
   "outputs": [
    {
     "name": "stdout",
     "output_type": "stream",
     "text": [
      "55/55 [==============================] - 0s 355us/step\n",
      "13/13 [==============================] - 0s 533us/step - loss: 434.6564 - accuracy: 0.5000\n",
      "Neural Network accuracy :  0.5\n"
     ]
    },
    {
     "data": {
      "text/plain": "<Figure size 432x288 with 1 Axes>",
      "image/png": "[encoded data removed]"
     },
     "metadata": {
      "needs_background": "light"
     },
     "output_type": "display_data"
    }
   ]
  },
  {
   "cell_type": "code",
   "metadata": {
    "id": "di5W37p6c-Pl",
    "ExecuteTime": {
     "start_time": "2024-02-20T11:11:50.744179Z",
     "end_time": "2024-02-20T11:11:50.752367Z"
    }
   },
   "source": [
    "#@title Setting up the Creator\n",
    "creator.create(\"FitnessMax\", base.Fitness, weights=(-1.0,))\n",
    "creator.create(\"Individual\", list, fitness=creator.FitnessMax)"
   ],
   "execution_count": 12,
   "outputs": []
  },
  {
   "cell_type": "code",
   "metadata": {
    "id": "qpoZXhoLdJun",
    "ExecuteTime": {
     "start_time": "2024-02-20T11:11:56.405166Z",
     "end_time": "2024-02-20T11:11:56.409124Z"
    }
   },
   "source": [
    "#@title Create Individual and Population\n",
    "def uniform(low, up, size=None):\n",
    "  try:\n",
    "    return [random.uniform(a, b) for a, b in zip(low, up)]\n",
    "  except TypeError:\n",
    "    return [random.uniform(a, b) for a, b in zip([low] * size, [up] * size)]\n",
    "\n",
    "toolbox = base.Toolbox()\n",
    "toolbox.register(\"attr_float\", uniform, -1, 1, number_of_genes)\n",
    "toolbox.register(\"individual\", tools.initIterate, creator.Individual, toolbox.attr_float)\n",
    "toolbox.register(\"population\", tools.initRepeat, list, toolbox.individual)\n",
    "\n",
    "toolbox.register(\"select\", tools.selTournament, tournsize=5)"
   ],
   "execution_count": 13,
   "outputs": []
  },
  {
   "cell_type": "code",
   "metadata": {
    "id": "hbGk4AvWd0UJ",
    "ExecuteTime": {
     "start_time": "2024-02-20T11:11:57.372459Z",
     "end_time": "2024-02-20T11:11:57.377414Z"
    }
   },
   "source": [
    "toolbox.register(\"mate\", tools.cxBlend, alpha=.5)\n",
    "toolbox.register(\"mutate\", tools.mutGaussian, mu=0.0, sigma=.1, indpb=.25)"
   ],
   "execution_count": 14,
   "outputs": []
  },
  {
   "cell_type": "code",
   "metadata": {
    "id": "I6eGOtxCjjey",
    "ExecuteTime": {
     "start_time": "2024-02-20T11:12:01.443936Z",
     "end_time": "2024-02-20T11:12:01.449224Z"
    }
   },
   "source": [
    "def clamp(num, min_value, max_value):\n",
    "   return max(min(num, max_value), min_value)\n",
    "\n",
    "def evaluate(individual):  \n",
    "  set_parameters(individual)\n",
    "  print('.', end='')\n",
    "  return 1/clamp(model.evaluate(X,Y, verbose=0)[1], .00001, 1), \n",
    "\n",
    "toolbox.register(\"evaluate\", evaluate)   "
   ],
   "execution_count": 15,
   "outputs": []
  },
  {
   "cell_type": "code",
   "metadata": {
    "id": "TIMumyi2kNqr",
    "ExecuteTime": {
     "start_time": "2024-02-20T11:12:06.625636Z",
     "end_time": "2024-02-20T11:12:06.628178Z"
    }
   },
   "source": [
    "#@title Optimize the Weights { run: \"auto\" }\n",
    "MU = 35 #@param {type:\"slider\", min:5, max:1000, step:5}\n",
    "NGEN = 100 #@param {type:\"slider\", min:100, max:1000, step:10}\n",
    "RGEN = 1 #@param {type:\"slider\", min:1, max:100, step:1}\n",
    "CXPB = .6\n",
    "MUTPB = .3\n",
    "\n",
    "random.seed(64)\n",
    "\n",
    "pop = toolbox.population(n=MU)\n",
    "hof = tools.HallOfFame(1)\n",
    "stats = tools.Statistics(lambda ind: ind.fitness.values)\n",
    "stats.register(\"avg\", np.mean)\n",
    "stats.register(\"std\", np.std)\n",
    "stats.register(\"min\", np.min)\n",
    "stats.register(\"max\", np.max)"
   ],
   "execution_count": 16,
   "outputs": []
  },
  {
   "cell_type": "code",
   "metadata": {
    "colab": {
     "base_uri": "https://localhost:8080/",
     "height": 628
    },
    "id": "bnRPvBj8k6AB",
    "outputId": "44e93eaa-daa3-4276-c905-028f4daeaa94",
    "ExecuteTime": {
     "start_time": "2024-02-20T11:12:14.002195Z",
     "end_time": "2024-02-20T11:12:32.216859Z"
    }
   },
   "source": [
    "best = None\n",
    "history = []\n",
    "\n",
    "for g in range(NGEN):\n",
    "  pop, logbook = algorithms.eaSimple(pop, toolbox, \n",
    "            cxpb=CXPB, mutpb=MUTPB, ngen=RGEN, stats=stats, halloffame=hof, verbose=False)\n",
    "  best = hof[0] \n",
    "  clear_output()\n",
    "  print(f\"Gen ({(g+1)*RGEN})\")\n",
    "  show_predictions(model, X, Y, \"Neural Network\") \n",
    "  print(\"Neural Network accuracy : \", model.evaluate(X,Y)[1])\n",
    "  plt.show()\n",
    "\n",
    "  set_parameters(best)\n",
    "  show_predictions(model, X, Y, \"Best Neural Network\")\n",
    "  plt.show()  \n",
    "  acc = model.evaluate(X,Y)[1]\n",
    "  print(\"Best neural Network accuracy : \", acc)\n",
    "  if acc > .99: #stop condition\n",
    "    break"
   ],
   "execution_count": 17,
   "outputs": [
    {
     "name": "stdout",
     "output_type": "stream",
     "text": [
      "Gen (18)\n",
      "55/55 [==============================] - 0s 247us/step\n",
      "13/13 [==============================] - 0s 386us/step - loss: 0.2896 - accuracy: 0.9525\n",
      "Neural Network accuracy :  0.9524999856948853\n"
     ]
    },
    {
     "data": {
      "text/plain": "<Figure size 432x288 with 1 Axes>",
      "image/png": "[encoded data removed]"
     },
     "metadata": {
      "needs_background": "light"
     },
     "output_type": "display_data"
    },
    {
     "name": "stdout",
     "output_type": "stream",
     "text": [
      "55/55 [==============================] - 0s 439us/step\n"
     ]
    },
    {
     "data": {
      "text/plain": "<Figure size 432x288 with 1 Axes>",
      "image/png": "[encoded data removed]"
     },
     "metadata": {
      "needs_background": "light"
     },
     "output_type": "display_data"
    },
    {
     "name": "stdout",
     "output_type": "stream",
     "text": [
      "13/13 [==============================] - 0s 468us/step - loss: 0.3398 - accuracy: 0.9900\n",
      "Best neural Network accuracy :  0.9900000095367432\n"
     ]
    }
   ]
  },
  {
   "cell_type": "code",
   "execution_count": null,
   "outputs": [],
   "source": [],
   "metadata": {
    "collapsed": false
   }
  }
 ]
}
