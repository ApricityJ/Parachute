{
 "nbformat": 4,
 "nbformat_minor": 0,
 "metadata": {
  "colab": {
   "name": "EDL_6_5_Keras_GA.ipynb",
   "provenance": [],
   "authorship_tag": "ABX9TyOddJf+odUA6lN1B0svAMhC",
   "include_colab_link": true
  },
  "kernelspec": {
   "name": "python3",
   "language": "python",
   "display_name": "Python 3 (ipykernel)"
  },
  "language_info": {
   "name": "python"
  },
  "accelerator": "GPU"
 },
 "cells": [
  {
   "cell_type": "code",
   "metadata": {
    "id": "5XA9kA0OWra-",
    "ExecuteTime": {
     "start_time": "2024-02-20T11:28:55.411786Z",
     "end_time": "2024-02-20T11:28:58.588471Z"
    }
   },
   "source": [
    "#@title Imports\n",
    "import tensorflow as tf\n",
    "import numpy as np\n",
    "import sklearn\n",
    "import sklearn.datasets\n",
    "import sklearn.linear_model\n",
    "import matplotlib.pyplot as plt\n",
    "from IPython.display import clear_output\n",
    "\n",
    "#DEAP\n",
    "from deap import algorithms\n",
    "from deap import base\n",
    "from deap import benchmarks\n",
    "from deap import creator\n",
    "from deap import tools\n",
    "\n",
    "import random"
   ],
   "execution_count": 1,
   "outputs": []
  },
  {
   "cell_type": "code",
   "metadata": {
    "colab": {
     "base_uri": "https://localhost:8080/",
     "height": 334
    },
    "id": "Ka0P2qXFWx9F",
    "outputId": "e1048e7c-0071-4551-ce0a-25f69c73b33a",
    "ExecuteTime": {
     "start_time": "2024-02-20T11:32:57.356002Z",
     "end_time": "2024-02-20T11:32:59.740175Z"
    }
   },
   "source": [
    "#@title Dataset Parameters  { run: \"auto\" }\n",
    "import ssl\n",
    "ssl._create_default_https_context = ssl._create_unverified_context\n",
    "\n",
    "mnist = tf.keras.datasets.mnist\n",
    "\n",
    "(x_train, y_train), (x_test, y_test) = mnist.load_data()\n",
    "X, Y = x_train / 255.0, y_train\n",
    "\n",
    "plt.imshow(X[0])\n",
    "print(Y[0])"
   ],
   "execution_count": 3,
   "outputs": [
    {
     "name": "stdout",
     "output_type": "stream",
     "text": [
      "Downloading data from https://storage.googleapis.com/tensorflow/tf-keras-datasets/mnist.npz\n",
      "11490434/11490434 [==============================] - 1s 0us/step\n",
      "5\n"
     ]
    },
    {
     "data": {
      "text/plain": "<Figure size 432x288 with 1 Axes>",
      "image/png": "[encoded data removed]"
     },
     "metadata": {
      "needs_background": "light"
     },
     "output_type": "display_data"
    }
   ]
  },
  {
   "cell_type": "code",
   "metadata": {
    "id": "giVSaZoeXbOJ",
    "colab": {
     "base_uri": "https://localhost:8080/"
    },
    "outputId": "e95a83eb-7b29-465c-f31d-a32963ef7cbd",
    "ExecuteTime": {
     "start_time": "2024-02-20T11:41:00.247155Z",
     "end_time": "2024-02-20T11:41:00.345119Z"
    }
   },
   "source": [
    "#@title Define Keras Model\n",
    "middle_layer = 128 #@param {type:\"slider\", min:16, max:128, step:2}\n",
    "model = tf.keras.models.Sequential([\n",
    "  tf.keras.layers.Flatten(input_shape=(28, 28)),  \n",
    "  tf.keras.layers.Dense(middle_layer, activation='relu'),  \n",
    "  tf.keras.layers.Dense(10, activation='softmax')\n",
    "])\n",
    "\n",
    "optimizer = tf.keras.optimizers.Adam(learning_rate=.001)\n",
    "\n",
    "model.compile(optimizer=optimizer,\n",
    "              loss='sparse_categorical_crossentropy', \n",
    "              metrics=['accuracy'])\n",
    "\n",
    "model.summary()\n",
    "trainableParams = np.sum([np.prod(v.get_shape()) for v in model.trainable_weights])\n",
    "print(f\"Trainable parameters: {trainableParams}\")"
   ],
   "execution_count": 4,
   "outputs": [
    {
     "name": "stderr",
     "output_type": "stream",
     "text": [
      "WARNING:absl:At this time, the v2.11+ optimizer `tf.keras.optimizers.Adam` runs slowly on M1/M2 Macs, please use the legacy Keras optimizer instead, located at `tf.keras.optimizers.legacy.Adam`.\n",
      "WARNING:absl:There is a known slowdown when using v2.11+ Keras optimizers on M1/M2 Macs. Falling back to the legacy Keras optimizer, i.e., `tf.keras.optimizers.legacy.Adam`.\n"
     ]
    },
    {
     "name": "stdout",
     "output_type": "stream",
     "text": [
      "Model: \"sequential\"\n",
      "_________________________________________________________________\n",
      " Layer (type)                Output Shape              Param #   \n",
      "=================================================================\n",
      " flatten (Flatten)           (None, 784)               0         \n",
      "                                                                 \n",
      " dense (Dense)               (None, 128)               100480    \n",
      "                                                                 \n",
      " dense_1 (Dense)             (None, 10)                1290      \n",
      "                                                                 \n",
      "=================================================================\n",
      "Total params: 101770 (397.54 KB)\n",
      "Trainable params: 101770 (397.54 KB)\n",
      "Non-trainable params: 0 (0.00 Byte)\n",
      "_________________________________________________________________\n",
      "Trainable parameters: 101770\n"
     ]
    }
   ]
  },
  {
   "cell_type": "code",
   "metadata": {
    "id": "cD3k8sIxdcx8",
    "colab": {
     "base_uri": "https://localhost:8080/"
    },
    "outputId": "c195811e-5c3e-453c-bbd0-b38d2b94b27b",
    "ExecuteTime": {
     "start_time": "2024-02-20T11:41:39.743909Z",
     "end_time": "2024-02-20T11:41:40.063970Z"
    }
   },
   "source": [
    "def score_model():\n",
    "  y_hat = model.predict(x_test)\n",
    "  acc = [np.argmax(y)==y_test[i] for i,y in enumerate(y_hat)]\n",
    "  return sum(acc)/len(acc)\n",
    "\n",
    "def print_parameters():\n",
    "  for layer in model.layers:\n",
    "    for na in layer.get_weights():\n",
    "      print(na)\n",
    "\n",
    "def set_parameters(individual):\n",
    "  idx = 0\n",
    "  tensors=[]\n",
    "  for layer in model.layers:\n",
    "    for na in layer.get_weights():\n",
    "      size = na.size\n",
    "      sh = na.shape\n",
    "      t = individual[idx:idx+size]\n",
    "      t = np.array(t)\n",
    "      t = np.reshape(t, sh)      \n",
    "      idx += size\n",
    "      tensors.append(t)\n",
    "  model.set_weights(tensors)\n",
    "\n",
    "individual = np.random.rand(trainableParams)\n",
    "set_parameters(individual)\n",
    "print(score_model())\n",
    "print_parameters()"
   ],
   "execution_count": 5,
   "outputs": [
    {
     "name": "stdout",
     "output_type": "stream",
     "text": [
      "313/313 [==============================] - 0s 385us/step\n",
      "0.098\n",
      "[[0.62457246 0.09763408 0.26822162 ... 0.38459474 0.34840584 0.6782648 ]\n",
      " [0.80898476 0.69060904 0.884177   ... 0.1772345  0.06859347 0.10480792]\n",
      " [0.3534129  0.6184891  0.06532703 ... 0.9641773  0.65461093 0.6459789 ]\n",
      " ...\n",
      " [0.81260484 0.6964573  0.52095133 ... 0.02298968 0.06397466 0.46109673]\n",
      " [0.11194891 0.32835907 0.13198192 ... 0.67215663 0.7323331  0.8357183 ]\n",
      " [0.55434865 0.45123184 0.42429006 ... 0.70114046 0.23776299 0.84347814]]\n",
      "[0.8057998  0.5864213  0.04142505 0.7080274  0.6241028  0.02702383\n",
      " 0.8678448  0.5310195  0.7005147  0.47058687 0.74376553 0.53099966\n",
      " 0.86088824 0.7464734  0.30202425 0.39514697 0.27712145 0.89048964\n",
      " 0.2019514  0.869441   0.19916534 0.90168166 0.52932805 0.11170942\n",
      " 0.25670475 0.9320451  0.76089174 0.92060137 0.47448474 0.8466756\n",
      " 0.1073546  0.3876979  0.9311739  0.3749236  0.07736449 0.72494984\n",
      " 0.2113145  0.7499951  0.6581127  0.8941745  0.9373214  0.0562938\n",
      " 0.24056157 0.86477894 0.41139418 0.81949157 0.19169809 0.49278232\n",
      " 0.00349201 0.28473136 0.8103574  0.47815084 0.7238916  0.421999\n",
      " 0.12329384 0.6658387  0.368639   0.64682555 0.03710682 0.04806083\n",
      " 0.52513283 0.10920522 0.88643044 0.27682102 0.285419   0.8222933\n",
      " 0.38058624 0.7231683  0.44243127 0.29434744 0.7573812  0.29586005\n",
      " 0.05410815 0.43389577 0.00554952 0.45768523 0.19927193 0.90195256\n",
      " 0.78214294 0.14621894 0.126411   0.88248825 0.9573178  0.26789847\n",
      " 0.273096   0.62020344 0.6879506  0.00923187 0.6651385  0.33406857\n",
      " 0.46991572 0.7875615  0.41909158 0.1490669  0.11793245 0.10970212\n",
      " 0.32057554 0.09392944 0.88142574 0.9136109  0.9298892  0.8715285\n",
      " 0.11074492 0.26901945 0.14649539 0.07701651 0.01214822 0.9389481\n",
      " 0.06016826 0.73801833 0.7557603  0.45326376 0.7852335  0.86225176\n",
      " 0.30651116 0.31186795 0.18077695 0.4679087  0.1216538  0.09592582\n",
      " 0.46801296 0.34977904 0.36120224 0.72069824 0.09746929 0.38880098\n",
      " 0.4157178  0.9354467 ]\n",
      "[[0.3380831  0.16621286 0.40404454 ... 0.3931379  0.82302386 0.5519954 ]\n",
      " [0.8287841  0.8254855  0.627955   ... 0.47752172 0.73362803 0.10659843]\n",
      " [0.5133587  0.6758935  0.08043189 ... 0.97140044 0.06531227 0.96610826]\n",
      " ...\n",
      " [0.8939436  0.01275706 0.64192563 ... 0.4469913  0.9887581  0.1616891 ]\n",
      " [0.3239434  0.5889382  0.43674004 ... 0.68726355 0.01339339 0.8198926 ]\n",
      " [0.77923846 0.85784036 0.03580712 ... 0.1630362  0.42863932 0.50950336]]\n",
      "[0.00931435 0.74420995 0.3449275  0.7980757  0.50427634 0.63174105\n",
      " 0.71288687 0.02105973 0.2821063  0.8337721 ]\n"
     ]
    }
   ]
  },
  {
   "cell_type": "code",
   "metadata": {
    "id": "di5W37p6c-Pl",
    "ExecuteTime": {
     "start_time": "2024-02-20T11:41:47.056490Z",
     "end_time": "2024-02-20T11:41:47.061415Z"
    }
   },
   "source": [
    "#@title Setting up the Creator\n",
    "creator.create(\"FitnessMax\", base.Fitness, weights=(-1.0,))\n",
    "creator.create(\"Individual\", list, fitness=creator.FitnessMax)"
   ],
   "execution_count": 6,
   "outputs": []
  },
  {
   "cell_type": "code",
   "metadata": {
    "id": "qpoZXhoLdJun",
    "ExecuteTime": {
     "start_time": "2024-02-20T11:41:50.374537Z",
     "end_time": "2024-02-20T11:41:50.377698Z"
    }
   },
   "source": [
    "#@title Create Individual and Population\n",
    "def uniform(low, up, size=None):\n",
    "  try:\n",
    "    return [random.uniform(a, b) for a, b in zip(low, up)]\n",
    "  except TypeError:\n",
    "    return [random.uniform(a, b) for a, b in zip([low] * size, [up] * size)]\n",
    "\n",
    "toolbox = base.Toolbox()\n",
    "toolbox.register(\"attr_float\", uniform, -1, 1, trainableParams)\n",
    "toolbox.register(\"individual\", tools.initIterate, creator.Individual, toolbox.attr_float)\n",
    "toolbox.register(\"population\", tools.initRepeat, list, toolbox.individual)\n",
    "\n",
    "toolbox.register(\"select\", tools.selTournament, tournsize=5)"
   ],
   "execution_count": 7,
   "outputs": []
  },
  {
   "cell_type": "code",
   "metadata": {
    "id": "ncwEt_TPvFvH",
    "ExecuteTime": {
     "start_time": "2024-02-20T11:41:54.689873Z",
     "end_time": "2024-02-20T11:41:54.694422Z"
    }
   },
   "source": [
    "def customBlend(ind1, ind2):\n",
    "  for i, (x1, x2) in enumerate(zip(ind1, ind2)):        \n",
    "        ind1[i] = (x1 + x2) / 2\n",
    "        ind2[i] = (x1 + x2) / 2\n",
    "  return ind1, ind2\n",
    "\n",
    "#toolbox.register(\"mate\", tools.cxBlend, alpha=.5)\n",
    "toolbox.register(\"mate\", customBlend)\n",
    "toolbox.register(\"mutate\", tools.mutGaussian, mu=0.0, sigma=.1, indpb=.25)"
   ],
   "execution_count": 8,
   "outputs": []
  },
  {
   "cell_type": "code",
   "metadata": {
    "id": "I6eGOtxCjjey",
    "ExecuteTime": {
     "start_time": "2024-02-20T11:41:57.515858Z",
     "end_time": "2024-02-20T11:41:57.521441Z"
    }
   },
   "source": [
    "def evaluate(individual):  \n",
    "  set_parameters(individual)\n",
    "  print('.', end='')\n",
    "  return 1./score_model(),   \n",
    "\n",
    "toolbox.register(\"evaluate\", evaluate)   "
   ],
   "execution_count": 9,
   "outputs": []
  },
  {
   "cell_type": "code",
   "metadata": {
    "id": "TIMumyi2kNqr",
    "ExecuteTime": {
     "start_time": "2024-02-20T11:42:05.286074Z",
     "end_time": "2024-02-20T11:42:05.894472Z"
    }
   },
   "source": [
    "#@title Optimize the Weights { run: \"auto\" }\n",
    "MU = 25 #@param {type:\"slider\", min:5, max:1000, step:5}\n",
    "NGEN = 1000 #@param {type:\"slider\", min:100, max:1000, step:10}\n",
    "RGEN = 10 #@param {type:\"slider\", min:1, max:100, step:1}\n",
    "CXPB = .6\n",
    "MUTPB = .3\n",
    "\n",
    "random.seed(64)\n",
    "\n",
    "pop = toolbox.population(n=MU)\n",
    "hof = tools.HallOfFame(1)\n",
    "stats = tools.Statistics(lambda ind: ind.fitness.values)\n",
    "stats.register(\"avg\", np.mean)\n",
    "stats.register(\"std\", np.std)\n",
    "stats.register(\"min\", np.min)\n",
    "stats.register(\"max\", np.max)"
   ],
   "execution_count": 10,
   "outputs": []
  },
  {
   "cell_type": "code",
   "metadata": {
    "id": "bnRPvBj8k6AB",
    "colab": {
     "base_uri": "https://localhost:8080/",
     "height": 612
    },
    "outputId": "7964a1b8-3861-4904-9c95-ff20cc75deef"
   },
   "source": [
    "from sklearn.metrics import classification_report \n",
    "best = None\n",
    "history = []\n",
    "\n",
    "for g in range(NGEN):\n",
    "  pop, logbook = algorithms.eaSimple(pop, toolbox, \n",
    "            cxpb=CXPB, mutpb=MUTPB, ngen=RGEN, stats=stats, halloffame=hof, verbose=False)\n",
    "  best = hof[0] \n",
    "\n",
    "  clear_output()\n",
    "  print(f\"Gen ({(g+1)*RGEN})\")    \n",
    "  history.extend([1/l[\"min\"] for l in logbook])\n",
    "  plt.plot(history)\n",
    "  plt.show()\n",
    "  set_parameters(best)\n",
    "  accuracy = score_model()\n",
    "  print(\"Best Neural Network accuracy : \", accuracy)\n",
    "  if accuracy > .99999: #stop condition\n",
    "    break  \n",
    "  y_pred = model.predict(x_test)\n",
    "  y_pred = np.argmax(y_pred, axis=1)   \n",
    "  print(classification_report(y_test, y_pred))"
   ],
   "execution_count": 11,
   "outputs": [
    {
     "name": "stdout",
     "output_type": "stream",
     "text": [
      "Gen (1040)\n"
     ]
    },
    {
     "data": {
      "text/plain": "<Figure size 432x288 with 1 Axes>",
      "image/png": "[encoded data removed]"
     },
     "metadata": {
      "needs_background": "light"
     },
     "output_type": "display_data"
    },
    {
     "name": "stdout",
     "output_type": "stream",
     "text": [
      "313/313 [==============================] - 0s 369us/step\n",
      "Best Neural Network accuracy :  0.5701\n",
      "313/313 [==============================] - 0s 331us/step\n",
      "              precision    recall  f1-score   support\n",
      "\n",
      "           0       0.06      0.00      0.00       980\n",
      "           1       0.84      0.95      0.89      1135\n",
      "           2       0.62      0.79      0.69      1032\n",
      "           3       0.42      0.81      0.55      1010\n",
      "           4       0.54      0.71      0.61       982\n",
      "           5       0.22      0.02      0.04       892\n",
      "           6       0.67      0.87      0.76       958\n",
      "           7       0.00      0.00      0.00      1028\n",
      "           8       0.56      0.72      0.63       974\n",
      "           9       0.49      0.74      0.59      1009\n",
      "\n",
      "    accuracy                           0.57     10000\n",
      "   macro avg       0.44      0.56      0.48     10000\n",
      "weighted avg       0.45      0.57      0.48     10000\n",
      "\n",
      "313/313 [==============================] - 0s 323us/step\n",
      "313/313 [==============================] - 0s 416us/step\n",
      "313/313 [==============================] - 0s 320us/step\n",
      "313/313 [==============================] - 0s 322us/step\n",
      "313/313 [==============================] - 0s 318us/step\n",
      "313/313 [==============================] - 0s 313us/step\n",
      "313/313 [==============================] - 0s 322us/step\n",
      "313/313 [==============================] - 0s 316us/step\n",
      "313/313 [==============================] - 0s 317us/step\n",
      "313/313 [==============================] - 0s 321us/step\n",
      "313/313 [==============================] - 0s 321us/step\n",
      "313/313 [==============================] - 0s 321us/step\n",
      "313/313 [==============================] - 0s 323us/step\n",
      "313/313 [==============================] - 0s 336us/step\n",
      "313/313 [==============================] - 0s 320us/step\n",
      "313/313 [==============================] - 0s 319us/step\n",
      "313/313 [==============================] - 0s 318us/step\n",
      "313/313 [==============================] - 0s 318us/step\n",
      "313/313 [==============================] - 0s 323us/step\n",
      "313/313 [==============================] - 0s 314us/step\n",
      "313/313 [==============================] - 0s 317us/step\n",
      "313/313 [==============================] - 0s 320us/step\n",
      "313/313 [==============================] - 0s 320us/step\n",
      "313/313 [==============================] - 0s 320us/step\n",
      "313/313 [==============================] - 0s 319us/step\n",
      "313/313 [==============================] - 0s 315us/step\n",
      "313/313 [==============================] - 0s 324us/step\n",
      "313/313 [==============================] - 0s 318us/step\n",
      "313/313 [==============================] - 0s 321us/step\n",
      "313/313 [==============================] - 0s 318us/step\n",
      "313/313 [==============================] - 0s 314us/step\n",
      "313/313 [==============================] - 0s 320us/step\n",
      "313/313 [==============================] - 0s 323us/step\n",
      "313/313 [==============================] - 0s 324us/step\n",
      "313/313 [==============================] - 0s 320us/step\n",
      "313/313 [==============================] - 0s 322us/step\n",
      "313/313 [==============================] - 0s 319us/step\n",
      "313/313 [==============================] - 0s 322us/step\n",
      "313/313 [==============================] - 0s 320us/step\n",
      "313/313 [==============================] - 0s 316us/step\n",
      "313/313 [==============================] - 0s 322us/step\n",
      "313/313 [==============================] - 0s 315us/step\n",
      "313/313 [==============================] - 0s 319us/step\n",
      "313/313 [==============================] - 0s 320us/step\n",
      "313/313 [==============================] - 0s 322us/step\n",
      "313/313 [==============================] - 0s 317us/step\n",
      "313/313 [==============================] - 0s 319us/step\n",
      "313/313 [==============================] - 0s 318us/step\n",
      "313/313 [==============================] - 0s 321us/step\n",
      "313/313 [==============================] - 0s 318us/step\n",
      "313/313 [==============================] - 0s 318us/step\n",
      "313/313 [==============================] - 0s 320us/step\n",
      "313/313 [==============================] - 0s 317us/step\n",
      "313/313 [==============================] - 0s 322us/step\n",
      "313/313 [==============================] - 0s 320us/step\n",
      "313/313 [==============================] - 0s 322us/step\n",
      "313/313 [==============================] - 0s 319us/step\n",
      "313/313 [==============================] - 0s 323us/step\n",
      "313/313 [==============================] - 0s 370us/step\n",
      "313/313 [==============================] - 0s 323us/step\n",
      "313/313 [==============================] - 0s 318us/step\n",
      "313/313 [==============================] - 0s 323us/step\n",
      "313/313 [==============================] - 0s 320us/step\n",
      "313/313 [==============================] - 0s 307us/step\n",
      "313/313 [==============================] - 0s 318us/step\n",
      "313/313 [==============================] - 0s 325us/step\n",
      "313/313 [==============================] - 0s 322us/step\n",
      "313/313 [==============================] - 0s 318us/step\n",
      "313/313 [==============================] - 0s 322us/step\n",
      "313/313 [==============================] - 0s 314us/step\n",
      "313/313 [==============================] - 0s 320us/step\n",
      "313/313 [==============================] - 0s 386us/step\n",
      "313/313 [==============================] - 0s 321us/step\n",
      "313/313 [==============================] - 0s 319us/step\n",
      "313/313 [==============================] - 0s 320us/step\n",
      "313/313 [==============================] - 0s 323us/step\n",
      "313/313 [==============================] - 0s 323us/step\n",
      "313/313 [==============================] - 0s 402us/step\n",
      "313/313 [==============================] - 0s 338us/step\n",
      "313/313 [==============================] - 0s 735us/step\n",
      "313/313 [==============================] - 0s 350us/step\n",
      "313/313 [==============================] - 0s 352us/step\n",
      "313/313 [==============================] - 0s 374us/step\n",
      "313/313 [==============================] - 0s 330us/step\n",
      "313/313 [==============================] - 0s 320us/step\n",
      "313/313 [==============================] - 0s 319us/step\n",
      "313/313 [==============================] - 0s 329us/step\n",
      "313/313 [==============================] - 0s 325us/step\n",
      "313/313 [==============================] - 0s 338us/step\n",
      "313/313 [==============================] - 0s 340us/step\n",
      "313/313 [==============================] - 0s 340us/step\n",
      "313/313 [==============================] - 0s 352us/step\n",
      "313/313 [==============================] - 0s 392us/step\n",
      "313/313 [==============================] - 0s 395us/step\n",
      "313/313 [==============================] - 0s 372us/step\n",
      "313/313 [==============================] - 0s 361us/step\n",
      "313/313 [==============================] - 0s 389us/step\n",
      "313/313 [==============================] - 0s 350us/step\n",
      "313/313 [==============================] - 0s 341us/step\n",
      "313/313 [==============================] - 0s 323us/step\n",
      "313/313 [==============================] - 0s 327us/step\n",
      "313/313 [==============================] - 0s 333us/step\n",
      "313/313 [==============================] - 0s 324us/step\n",
      "313/313 [==============================] - 0s 333us/step\n",
      "313/313 [==============================] - 0s 345us/step\n",
      "313/313 [==============================] - 0s 343us/step\n",
      "313/313 [==============================] - 0s 336us/step\n",
      "313/313 [==============================] - 0s 351us/step\n",
      "313/313 [==============================] - 0s 331us/step\n",
      "313/313 [==============================] - 0s 359us/step\n",
      "313/313 [==============================] - 0s 382us/step\n",
      "313/313 [==============================] - 0s 346us/step\n",
      "313/313 [==============================] - 0s 1ms/step\n",
      "313/313 [==============================] - 0s 390us/step\n",
      "313/313 [==============================] - 0s 387us/step\n",
      "313/313 [==============================] - 0s 377us/step\n",
      "313/313 [==============================] - 0s 369us/step\n",
      "313/313 [==============================] - 0s 360us/step\n",
      "313/313 [==============================] - 0s 346us/step\n"
     ]
    },
    {
     "ename": "KeyboardInterrupt",
     "evalue": "",
     "output_type": "error",
     "traceback": [
      "\u001B[0;31m---------------------------------------------------------------------------\u001B[0m",
      "\u001B[0;31mKeyboardInterrupt\u001B[0m                         Traceback (most recent call last)",
      "\u001B[0;32m/var/folders/15/v4m8ny29795fzy6379yrfgz40000gn/T/ipykernel_99361/1713248194.py\u001B[0m in \u001B[0;36m<module>\u001B[0;34m\u001B[0m\n\u001B[1;32m      4\u001B[0m \u001B[0;34m\u001B[0m\u001B[0m\n\u001B[1;32m      5\u001B[0m \u001B[0;32mfor\u001B[0m \u001B[0mg\u001B[0m \u001B[0;32min\u001B[0m \u001B[0mrange\u001B[0m\u001B[0;34m(\u001B[0m\u001B[0mNGEN\u001B[0m\u001B[0;34m)\u001B[0m\u001B[0;34m:\u001B[0m\u001B[0;34m\u001B[0m\u001B[0;34m\u001B[0m\u001B[0m\n\u001B[0;32m----> 6\u001B[0;31m   pop, logbook = algorithms.eaSimple(pop, toolbox, \n\u001B[0m\u001B[1;32m      7\u001B[0m             cxpb=CXPB, mutpb=MUTPB, ngen=RGEN, stats=stats, halloffame=hof, verbose=False)\n\u001B[1;32m      8\u001B[0m   \u001B[0mbest\u001B[0m \u001B[0;34m=\u001B[0m \u001B[0mhof\u001B[0m\u001B[0;34m[\u001B[0m\u001B[0;36m0\u001B[0m\u001B[0;34m]\u001B[0m\u001B[0;34m\u001B[0m\u001B[0;34m\u001B[0m\u001B[0m\n",
      "\u001B[0;32m/Library/Frameworks/Python.framework/Versions/3.8/lib/python3.8/site-packages/deap/algorithms.py\u001B[0m in \u001B[0;36meaSimple\u001B[0;34m(population, toolbox, cxpb, mutpb, ngen, stats, halloffame, verbose)\u001B[0m\n\u001B[1;32m    171\u001B[0m         \u001B[0minvalid_ind\u001B[0m \u001B[0;34m=\u001B[0m \u001B[0;34m[\u001B[0m\u001B[0mind\u001B[0m \u001B[0;32mfor\u001B[0m \u001B[0mind\u001B[0m \u001B[0;32min\u001B[0m \u001B[0moffspring\u001B[0m \u001B[0;32mif\u001B[0m \u001B[0;32mnot\u001B[0m \u001B[0mind\u001B[0m\u001B[0;34m.\u001B[0m\u001B[0mfitness\u001B[0m\u001B[0;34m.\u001B[0m\u001B[0mvalid\u001B[0m\u001B[0;34m]\u001B[0m\u001B[0;34m\u001B[0m\u001B[0;34m\u001B[0m\u001B[0m\n\u001B[1;32m    172\u001B[0m         \u001B[0mfitnesses\u001B[0m \u001B[0;34m=\u001B[0m \u001B[0mtoolbox\u001B[0m\u001B[0;34m.\u001B[0m\u001B[0mmap\u001B[0m\u001B[0;34m(\u001B[0m\u001B[0mtoolbox\u001B[0m\u001B[0;34m.\u001B[0m\u001B[0mevaluate\u001B[0m\u001B[0;34m,\u001B[0m \u001B[0minvalid_ind\u001B[0m\u001B[0;34m)\u001B[0m\u001B[0;34m\u001B[0m\u001B[0;34m\u001B[0m\u001B[0m\n\u001B[0;32m--> 173\u001B[0;31m         \u001B[0;32mfor\u001B[0m \u001B[0mind\u001B[0m\u001B[0;34m,\u001B[0m \u001B[0mfit\u001B[0m \u001B[0;32min\u001B[0m \u001B[0mzip\u001B[0m\u001B[0;34m(\u001B[0m\u001B[0minvalid_ind\u001B[0m\u001B[0;34m,\u001B[0m \u001B[0mfitnesses\u001B[0m\u001B[0;34m)\u001B[0m\u001B[0;34m:\u001B[0m\u001B[0;34m\u001B[0m\u001B[0;34m\u001B[0m\u001B[0m\n\u001B[0m\u001B[1;32m    174\u001B[0m             \u001B[0mind\u001B[0m\u001B[0;34m.\u001B[0m\u001B[0mfitness\u001B[0m\u001B[0;34m.\u001B[0m\u001B[0mvalues\u001B[0m \u001B[0;34m=\u001B[0m \u001B[0mfit\u001B[0m\u001B[0;34m\u001B[0m\u001B[0;34m\u001B[0m\u001B[0m\n\u001B[1;32m    175\u001B[0m \u001B[0;34m\u001B[0m\u001B[0m\n",
      "\u001B[0;32m/var/folders/15/v4m8ny29795fzy6379yrfgz40000gn/T/ipykernel_99361/2121976572.py\u001B[0m in \u001B[0;36mevaluate\u001B[0;34m(individual)\u001B[0m\n\u001B[1;32m      1\u001B[0m \u001B[0;32mdef\u001B[0m \u001B[0mevaluate\u001B[0m\u001B[0;34m(\u001B[0m\u001B[0mindividual\u001B[0m\u001B[0;34m)\u001B[0m\u001B[0;34m:\u001B[0m\u001B[0;34m\u001B[0m\u001B[0;34m\u001B[0m\u001B[0m\n\u001B[0;32m----> 2\u001B[0;31m   \u001B[0mset_parameters\u001B[0m\u001B[0;34m(\u001B[0m\u001B[0mindividual\u001B[0m\u001B[0;34m)\u001B[0m\u001B[0;34m\u001B[0m\u001B[0;34m\u001B[0m\u001B[0m\n\u001B[0m\u001B[1;32m      3\u001B[0m   \u001B[0mprint\u001B[0m\u001B[0;34m(\u001B[0m\u001B[0;34m'.'\u001B[0m\u001B[0;34m,\u001B[0m \u001B[0mend\u001B[0m\u001B[0;34m=\u001B[0m\u001B[0;34m''\u001B[0m\u001B[0;34m)\u001B[0m\u001B[0;34m\u001B[0m\u001B[0;34m\u001B[0m\u001B[0m\n\u001B[1;32m      4\u001B[0m   \u001B[0;32mreturn\u001B[0m \u001B[0;36m1.\u001B[0m\u001B[0;34m/\u001B[0m\u001B[0mscore_model\u001B[0m\u001B[0;34m(\u001B[0m\u001B[0;34m)\u001B[0m\u001B[0;34m,\u001B[0m\u001B[0;34m\u001B[0m\u001B[0;34m\u001B[0m\u001B[0m\n\u001B[1;32m      5\u001B[0m \u001B[0;34m\u001B[0m\u001B[0m\n",
      "\u001B[0;32m/var/folders/15/v4m8ny29795fzy6379yrfgz40000gn/T/ipykernel_99361/168632087.py\u001B[0m in \u001B[0;36mset_parameters\u001B[0;34m(individual)\u001B[0m\n\u001B[1;32m     17\u001B[0m       \u001B[0msh\u001B[0m \u001B[0;34m=\u001B[0m \u001B[0mna\u001B[0m\u001B[0;34m.\u001B[0m\u001B[0mshape\u001B[0m\u001B[0;34m\u001B[0m\u001B[0;34m\u001B[0m\u001B[0m\n\u001B[1;32m     18\u001B[0m       \u001B[0mt\u001B[0m \u001B[0;34m=\u001B[0m \u001B[0mindividual\u001B[0m\u001B[0;34m[\u001B[0m\u001B[0midx\u001B[0m\u001B[0;34m:\u001B[0m\u001B[0midx\u001B[0m\u001B[0;34m+\u001B[0m\u001B[0msize\u001B[0m\u001B[0;34m]\u001B[0m\u001B[0;34m\u001B[0m\u001B[0;34m\u001B[0m\u001B[0m\n\u001B[0;32m---> 19\u001B[0;31m       \u001B[0mt\u001B[0m \u001B[0;34m=\u001B[0m \u001B[0mnp\u001B[0m\u001B[0;34m.\u001B[0m\u001B[0marray\u001B[0m\u001B[0;34m(\u001B[0m\u001B[0mt\u001B[0m\u001B[0;34m)\u001B[0m\u001B[0;34m\u001B[0m\u001B[0;34m\u001B[0m\u001B[0m\n\u001B[0m\u001B[1;32m     20\u001B[0m       \u001B[0mt\u001B[0m \u001B[0;34m=\u001B[0m \u001B[0mnp\u001B[0m\u001B[0;34m.\u001B[0m\u001B[0mreshape\u001B[0m\u001B[0;34m(\u001B[0m\u001B[0mt\u001B[0m\u001B[0;34m,\u001B[0m \u001B[0msh\u001B[0m\u001B[0;34m)\u001B[0m\u001B[0;34m\u001B[0m\u001B[0;34m\u001B[0m\u001B[0m\n\u001B[1;32m     21\u001B[0m       \u001B[0midx\u001B[0m \u001B[0;34m+=\u001B[0m \u001B[0msize\u001B[0m\u001B[0;34m\u001B[0m\u001B[0;34m\u001B[0m\u001B[0m\n",
      "\u001B[0;31mKeyboardInterrupt\u001B[0m: "
     ]
    }
   ]
  },
  {
   "cell_type": "code",
   "execution_count": null,
   "outputs": [],
   "source": [],
   "metadata": {
    "collapsed": false
   }
  }
 ]
}
