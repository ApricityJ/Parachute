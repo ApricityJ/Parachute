{
 "nbformat": 4,
 "nbformat_minor": 0,
 "metadata": {
  "colab": {
   "name": "EDL_11_2_NEAT_GYMs.ipynb",
   "provenance": [],
   "collapsed_sections": [],
   "authorship_tag": "ABX9TyPkXmlnodmU13etAI8nMHAL",
   "include_colab_link": true
  },
  "kernelspec": {
   "name": "python3",
   "display_name": "Python 3"
  },
  "language_info": {
   "name": "python"
  }
 },
 "cells": [
  {
   "cell_type": "code",
   "source": [
    "from pyvirtualdisplay import Display\n",
    "display = Display(visible=0, size=(1400, 900))\n",
    "display.start()"
   ],
   "metadata": {
    "colab": {
     "base_uri": "https://localhost:8080/"
    },
    "id": "jpWForNjXesx",
    "outputId": "f8f3cf43-4a04-451a-9d19-7b19ca773638"
   },
   "execution_count": null,
   "outputs": []
  },
  {
   "cell_type": "code",
   "source": [
    "import gym.wrappers\n",
    "import matplotlib.pyplot as plt\n",
    "import multiprocessing\n",
    "import os\n",
    "import pickle\n",
    "import numpy as np\n",
    "import mediapy \n",
    "import random\n",
    "\n",
    "import neat\n",
    "\n",
    "NUM_CORES = 8"
   ],
   "metadata": {
    "id": "aGu3z6Q5oDn4"
   },
   "execution_count": null,
   "outputs": []
  },
  {
   "cell_type": "code",
   "source": [
    "#@title Setup Environment { run: \"auto\" }\n",
    "ENVIRONMENT = \"CartPole-v1\" #@param [\"CartPole-v1\", \"Acrobot-v1\", \"CubeCrash-v0\", \"MountainCar-v0\", \"LunarLander-v2\"]\n",
    "\n",
    "env = gym.make(ENVIRONMENT)\n",
    "\n",
    "state = env.reset()\n",
    "plt.imshow(env.render(mode='rgb_array'))\n",
    "\n",
    "print(\"action space: {0!r}\".format(env.action_space))\n",
    "print(\"observation space: {0!r}\".format(env.observation_space))"
   ],
   "metadata": {
    "colab": {
     "base_uri": "https://localhost:8080/",
     "height": 304
    },
    "id": "_Qzcx4MpWjtd",
    "outputId": "4a1e49a9-5200-4af2-fd90-21492c42bc57"
   },
   "execution_count": null,
   "outputs": [
    {
     "output_type": "stream",
     "name": "stdout",
     "text": [
      "action space: Discrete(2)\n",
      "observation space: Box(-3.4028234663852886e+38, 3.4028234663852886e+38, (4,), float32)\n"
     ]
    },
    {
     "output_type": "display_data",
     "data": {
      "text/plain": [
       "<Figure size 432x288 with 1 Axes>"
      ],
      "image/png": "[encoded data removed]"
     },
     "metadata": {
      "needs_background": "light"
     }
    }
   ]
  },
  {
   "cell_type": "code",
   "source": [
    "#@title Siumlate Environment Run { run: \"auto\" }\n",
    "ENVIRONMENT = \"CartPole-v1\" #@param [\"CartPole-v1\", \"Acrobot-v1\", \"MountainCar-v0\", \"LunarLander-v2\"]\n",
    "SIMULATION_RUNS = 10 #@param {type:\"slider\", min:1, max:10, step:1}\n",
    "SIMULATION_ITERATIONS = 200 #@param {type:\"slider\", min:50, max:200, step:1}\n",
    "\n",
    "env = gym.make(ENVIRONMENT)\n",
    "\n",
    "fitnesses = []\n",
    "frames = []\n",
    "\n",
    "for run in range(SIMULATION_RUNS):  \n",
    "  state = env.reset()\n",
    "  fitness = 0\n",
    "  for i in range(SIMULATION_ITERATIONS):\n",
    "    action = env.action_space.sample()\n",
    "    state, reward, done, info = env.step(np.argmax(action))  \n",
    "    frames.append(env.render(mode='rgb_array'))  \n",
    "    fitness += reward       \n",
    "    if done: \n",
    "      fitnesses.append(fitness) \n",
    "      break \n",
    "\n",
    "mediapy.show_video(frames, fps=30)\n",
    "print(fitnesses)"
   ],
   "metadata": {
    "colab": {
     "base_uri": "https://localhost:8080/",
     "height": 441
    },
    "id": "OijWAhygyaQi",
    "outputId": "cf984946-b7d2-4d88-e62e-32822512e644"
   },
   "execution_count": null,
   "outputs": []
  },
  {
   "cell_type": "code",
   "source": [
    "print(env.observation_space.shape[0])"
   ],
   "metadata": {
    "colab": {
     "base_uri": "https://localhost:8080/"
    },
    "id": "N_T0dn4n6JpZ",
    "outputId": "e97cd3f0-dd4e-46f1-e5a8-e8613d0d78fa"
   },
   "execution_count": null,
   "outputs": [
    {
     "output_type": "stream",
     "name": "stdout",
     "text": [
      "4\n"
     ]
    }
   ]
  },
  {
   "cell_type": "code",
   "source": [
    "inputs = env.observation_space.shape[0]\n",
    "outputs = env.action_space.n\n",
    "\n",
    "config = f'''\n",
    "# NEAT configuration for the bit-sequence memory experiment.\n",
    "\n",
    "# The `NEAT` section specifies parameters particular to the NEAT algorithm\n",
    "# or the experiment itself.  This is the only required section.\n",
    "[NEAT]\n",
    "fitness_criterion     = max\n",
    "fitness_threshold     = 175.0\n",
    "pop_size              = 250\n",
    "reset_on_extinction   = 0\n",
    "\n",
    "[DefaultGenome]\n",
    "num_inputs              = {inputs}\n",
    "num_hidden              = 1\n",
    "num_outputs             = {outputs}\n",
    "initial_connection      = partial_direct 0.5\n",
    "feed_forward            = True\n",
    "compatibility_disjoint_coefficient    = 1.0\n",
    "compatibility_weight_coefficient      = 0.6\n",
    "conn_add_prob           = 0.2\n",
    "conn_delete_prob        = 0.2\n",
    "node_add_prob           = 0.2\n",
    "node_delete_prob        = 0.2\n",
    "activation_default      = sigmoid\n",
    "activation_options      = sigmoid\n",
    "activation_mutate_rate  = 0.0\n",
    "aggregation_default     = sum\n",
    "aggregation_options     = sum\n",
    "aggregation_mutate_rate = 0.0\n",
    "bias_init_mean          = 0.0\n",
    "bias_init_stdev         = 1.0\n",
    "bias_replace_rate       = 0.1\n",
    "bias_mutate_rate        = 0.7\n",
    "bias_mutate_power       = 0.5\n",
    "bias_max_value          = 30.0\n",
    "bias_min_value          = -30.0\n",
    "response_init_mean      = 1.0\n",
    "response_init_stdev     = 0.0\n",
    "response_replace_rate   = 0.0\n",
    "response_mutate_rate    = 0.0\n",
    "response_mutate_power   = 0.0\n",
    "response_max_value      = 30.0\n",
    "response_min_value      = -30.0\n",
    "\n",
    "weight_max_value        = 30\n",
    "weight_min_value        = -30\n",
    "weight_init_mean        = 0.0\n",
    "weight_init_stdev       = 1.0\n",
    "weight_mutate_rate      = 0.8\n",
    "weight_replace_rate     = 0.1\n",
    "weight_mutate_power     = 0.5\n",
    "enabled_default         = True\n",
    "enabled_mutate_rate     = 0.01\n",
    "\n",
    "[DefaultSpeciesSet]\n",
    "compatibility_threshold = 3.0\n",
    "\n",
    "[DefaultStagnation]\n",
    "species_fitness_func = max\n",
    "max_stagnation  = 20\n",
    "\n",
    "[DefaultReproduction]\n",
    "elitism            = 2\n",
    "survival_threshold = 0.2\n",
    "'''\n",
    "print(config, file=open('config', 'w'))"
   ],
   "metadata": {
    "id": "489233lARlQY"
   },
   "execution_count": null,
   "outputs": []
  },
  {
   "cell_type": "code",
   "source": [
    "config = neat.Config(neat.DefaultGenome, neat.DefaultReproduction,\n",
    "                     neat.DefaultSpeciesSet, neat.DefaultStagnation,\n",
    "                     'config')\n",
    "\n",
    "print(config.genome_type, config.genome_config,config.pop_size)"
   ],
   "metadata": {
    "colab": {
     "base_uri": "https://localhost:8080/"
    },
    "id": "rTRXVnUZd8ER",
    "outputId": "cd417442-4ce6-4f95-d190-d6752a14eb93"
   },
   "execution_count": null,
   "outputs": [
    {
     "output_type": "stream",
     "name": "stdout",
     "text": [
      "<class 'neat.genome.DefaultGenome'> <neat.genome.DefaultGenomeConfig object at 0x7fd6678914d0> 250\n"
     ]
    }
   ]
  },
  {
   "cell_type": "code",
   "source": [
    "env = gym.make(ENVIRONMENT)\n",
    "state = env.reset()\n",
    "print(state)"
   ],
   "metadata": {
    "colab": {
     "base_uri": "https://localhost:8080/"
    },
    "id": "J8EWNqx3c9RB",
    "outputId": "0685e43c-68bd-4d26-cc28-ce0da5ee55a6"
   },
   "execution_count": null,
   "outputs": [
    {
     "output_type": "stream",
     "name": "stdout",
     "text": [
      "[ 0.02360643 -0.0344307   0.03319153  0.01143438]\n"
     ]
    }
   ]
  },
  {
   "cell_type": "code",
   "source": [
    "key = \"fred\"\n",
    "fred = config.genome_type(key)\n",
    "fred.configure_new(config.genome_config)\n",
    "\n",
    "net = neat.nn.FeedForwardNetwork.create(fred, config)\n",
    "action = net.activate(state)\n",
    "print(action)"
   ],
   "metadata": {
    "colab": {
     "base_uri": "https://localhost:8080/"
    },
    "id": "k5ZawSB6d0OW",
    "outputId": "82036dc1-09fe-4177-8d57-91f30c194732"
   },
   "execution_count": null,
   "outputs": [
    {
     "output_type": "stream",
     "name": "stdout",
     "text": [
      "[0.5734153944672369, 9.269329709997257e-08]\n"
     ]
    }
   ]
  },
  {
   "cell_type": "code",
   "source": [
    "env.reset()\n",
    "state, reward, done, info = env.step(np.argmax(action))\n",
    "print(state, reward, done, info)"
   ],
   "metadata": {
    "colab": {
     "base_uri": "https://localhost:8080/"
    },
    "id": "0cL5-7Ajeygp",
    "outputId": "05e99174-42f1-49b8-8499-311d34018c80"
   },
   "execution_count": null,
   "outputs": [
    {
     "output_type": "stream",
     "name": "stdout",
     "text": [
      "[ 0.04871109 -0.22649328  0.03976029  0.31144807] 1.0 False {}\n"
     ]
    }
   ]
  },
  {
   "cell_type": "code",
   "source": [
    "#@title Simulation Options { run: \"auto\" }\n",
    "SIMULATION_ITERATIONS = 200\n",
    "SIMULATION_RUNS = 10 #@param {type:\"slider\", min:1, max:10, step:1}\n",
    "\n",
    "frames = []\n",
    "fitnesses = []\n",
    "for run in range(SIMULATION_RUNS):  \n",
    "  state = env.reset()\n",
    "  fitness = 0\n",
    "  for i in range(SIMULATION_ITERATIONS):\n",
    "    action = net.activate(state)\n",
    "    state, reward, done, info = env.step(np.argmax(action))  \n",
    "    frames.append(env.render(mode='rgb_array'))  \n",
    "    fitness += reward       \n",
    "    if done: \n",
    "      fitnesses.append(fitness) \n",
    "      break \n",
    "\n",
    "print(fitnesses)\n",
    "mediapy.show_video(frames, fps=30)"
   ],
   "metadata": {
    "colab": {
     "base_uri": "https://localhost:8080/",
     "height": 441
    },
    "id": "L5Mm0dwAfmlT",
    "outputId": "32bc66ca-b4ac-4661-ce51-f4bb25d4f2a2"
   },
   "execution_count": null,
   "outputs": []
  },
  {
   "cell_type": "code",
   "source": [
    "def eval_genome(genome, config):\n",
    "  net = neat.nn.FeedForwardNetwork.create(genome, config)\n",
    "  fitnesses = []\n",
    "  for run in range(SIMULATION_RUNS):  \n",
    "    state = env.reset()\n",
    "    fitness = 0\n",
    "    for i in range(SIMULATION_ITERATIONS):\n",
    "      action = net.activate(state)\n",
    "      state, reward, done, info = env.step(np.argmax(action))  \n",
    "      fitness += reward       \n",
    "      if done: \n",
    "        fitnesses.append(fitness) \n",
    "        break \n",
    "  return 0.0 if len(fitnesses) < 1 else min(fitnesses)\n",
    "\n",
    "def eval_genomes(genomes, config):\n",
    "  for genome_id, genome in genomes:    \n",
    "    genome.fitness = eval_genome(genome, config)\n",
    "\n",
    "print(eval_genome(fred, config))"
   ],
   "metadata": {
    "colab": {
     "base_uri": "https://localhost:8080/"
    },
    "id": "eXzm5rBaipFg",
    "outputId": "ca001f4a-22a5-4d7e-c9c9-977501ef6bed"
   },
   "execution_count": null,
   "outputs": [
    {
     "output_type": "stream",
     "name": "stdout",
     "text": [
      "9.0\n"
     ]
    }
   ]
  },
  {
   "cell_type": "code",
   "source": [
    "pop = neat.Population(config)\n",
    "stats = neat.StatisticsReporter()\n",
    "pop.add_reporter(stats)\n",
    "pop.add_reporter(neat.StdOutReporter(True))\n",
    "\n",
    "pe = neat.ParallelEvaluator(multiprocessing.cpu_count(), eval_genome)\n",
    "winner = pop.run(pe.evaluate)\n",
    "#winner = pop.run(eval_genomes)"
   ],
   "metadata": {
    "colab": {
     "base_uri": "https://localhost:8080/"
    },
    "id": "FsvEhWKGnib6",
    "outputId": "ed389de9-c7c6-46a0-e022-fbf683064856"
   },
   "execution_count": null,
   "outputs": [
    {
     "output_type": "stream",
     "name": "stdout",
     "text": [
      "\n",
      " ****** Running generation 0 ****** \n",
      "\n",
      "Population's average fitness: 10.91600 stdev: 9.95495\n",
      "Best fitness: 109.00000 - size: (3, 7) - species 2 - id 17\n",
      "Average adjusted fitness: 0.094\n",
      "Mean genetic distance 2.409, standard deviation 0.596\n",
      "Population of 251 members in 5 species:\n",
      "   ID   age  size   fitness   adj fit  stag\n",
      "  ====  ===  ====  =========  =======  ====\n",
      "     1    0    95     73.000    0.114     0\n",
      "     2    0    71    109.000    0.098     0\n",
      "     3    0    44     31.000    0.094     0\n",
      "     4    0    23     22.000    0.084     0\n",
      "     5    0    18      9.000    0.078     0\n",
      "Total extinctions: 0\n",
      "Generation time: 2.318 sec\n",
      "\n",
      " ****** Running generation 1 ****** \n",
      "\n",
      "Population's average fitness: 15.87251 stdev: 14.83991\n",
      "Best fitness: 109.00000 - size: (3, 6) - species 1 - id 313\n",
      "Average adjusted fitness: 0.059\n",
      "Mean genetic distance 2.040, standard deviation 0.493\n",
      "Population of 250 members in 5 species:\n",
      "   ID   age  size   fitness   adj fit  stag\n",
      "  ====  ===  ====  =========  =======  ====\n",
      "     1    1   124    109.000    0.117     0\n",
      "     2    1    30    103.000    0.062     1\n",
      "     3    1    62     31.000    0.065     1\n",
      "     4    1    23     31.000    0.045     0\n",
      "     5    1    11     17.000    0.008     0\n",
      "Total extinctions: 0\n",
      "Generation time: 3.112 sec (2.715 average)\n",
      "\n",
      " ****** Running generation 2 ****** \n",
      "\n",
      "Population's average fitness: 27.33600 stdev: 29.14253\n",
      "Best fitness: 194.00000 - size: (3, 7) - species 2 - id 584\n",
      "\n",
      "Best individual in generation 2 meets fitness threshold - complexity: (3, 7)\n"
     ]
    }
   ]
  },
  {
   "cell_type": "code",
   "source": [
    "winner_net = neat.nn.FeedForwardNetwork.create(winner, config)\n",
    "state = env.reset()\n",
    "frames = []\n",
    "for _ in range(SIMULATION_RUNS):\n",
    "  for i in range(SIMULATION_ITERATIONS):\n",
    "    action = winner_net.activate(state)\n",
    "    state, reward, done, info = env.step(np.argmax(action)) \n",
    "    img = env.render(mode='rgb_array')\n",
    "    frames.append(img)\n",
    "    if done: break \n",
    "\n",
    "mediapy.show_video(frames, fps=30)"
   ],
   "metadata": {
    "colab": {
     "base_uri": "https://localhost:8080/",
     "height": 478
    },
    "id": "Jz5kkfoBu3f9",
    "outputId": "bc3fb3cc-6573-42a5-e3fd-ce93be1d45e1"
   },
   "execution_count": null,
   "outputs": []
  }
 ]
}
