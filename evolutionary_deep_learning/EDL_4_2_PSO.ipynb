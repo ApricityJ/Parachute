{
 "cells": [
  {
   "cell_type": "code",
   "execution_count": 1,
   "metadata": {
    "collapsed": true,
    "ExecuteTime": {
     "start_time": "2024-01-29T14:44:25.310322Z",
     "end_time": "2024-01-29T14:44:25.402162Z"
    }
   },
   "outputs": [],
   "source": [
    "import operator\n",
    "import random\n",
    "import math\n",
    "import time\n",
    "\n",
    "import numpy as np\n",
    "\n",
    "from deap import base\n",
    "from deap import benchmarks\n",
    "from deap import creator\n",
    "from deap import tools\n",
    "from IPython.display import clear_output"
   ]
  },
  {
   "cell_type": "code",
   "execution_count": 2,
   "outputs": [],
   "source": [
    "#@title Setup Fitness Criteria\n",
    "creator.create(\"FitnessMax\", base.Fitness, weights=(1.0,))\n",
    "creator.create(\"Particle\", np.ndarray, fitness=creator.FitnessMax, speed=list,\n",
    "    smin=None, smax=None, best=None)\n"
   ],
   "metadata": {
    "collapsed": false,
    "ExecuteTime": {
     "start_time": "2024-01-29T14:44:40.537955Z",
     "end_time": "2024-01-29T14:44:40.545456Z"
    }
   }
  },
  {
   "cell_type": "code",
   "execution_count": 3,
   "outputs": [],
   "source": [
    "#@title PSO Functions\n",
    "def generate(size, pmin, pmax, smin, smax):\n",
    "  part = creator.Particle(np.random.uniform(pmin, pmax, size))\n",
    "  part.speed = np.random.uniform(smin, smax, size)\n",
    "  part.smin = smin\n",
    "  part.smax = smax\n",
    "  return part\n",
    "\n",
    "def updateParticle(part, best, phi1, phi2):\n",
    "  u1 = np.random.uniform(0, phi1, len(part))\n",
    "  u2 = np.random.uniform(0, phi2, len(part))\n",
    "  v_u1 = u1 * (part.best - part)\n",
    "  v_u2 = u2 * (best - part)\n",
    "  part.speed += v_u1 + v_u2\n",
    "  for i, speed in enumerate(part.speed):\n",
    "    if abs(speed) < part.smin:\n",
    "      part.speed[i] = math.copysign(part.smin, speed)\n",
    "    elif abs(speed) > part.smax:\n",
    "      part.speed[i] = math.copysign(part.smax, speed)\n",
    "  part += part.speed"
   ],
   "metadata": {
    "collapsed": false,
    "ExecuteTime": {
     "start_time": "2024-01-29T14:44:55.819320Z",
     "end_time": "2024-01-29T14:44:55.824443Z"
    }
   }
  },
  {
   "cell_type": "code",
   "execution_count": 4,
   "outputs": [],
   "source": [
    "#@title Evaluation Function\n",
    "distance = 575 #@param {type:\"slider\", min:10, max:1000, step:5}\n",
    "def evaluate(individual):\n",
    "  v = individual[0] if individual[0] > 0 else 0  #velocity\n",
    "  a = individual[1] * math.pi / 180  #angle to radians\n",
    "  return ((2*v**2 * math.sin(a) * math.cos(a))/9.8 - distance)**2,"
   ],
   "metadata": {
    "collapsed": false,
    "ExecuteTime": {
     "start_time": "2024-01-29T14:45:13.234076Z",
     "end_time": "2024-01-29T14:45:13.248146Z"
    }
   }
  },
  {
   "cell_type": "code",
   "execution_count": 5,
   "outputs": [],
   "source": [
    "#@title Add Functions to Toolbox\n",
    "toolbox = base.Toolbox()\n",
    "toolbox.register(\"particle\",\n",
    "                 generate, size=2, pmin=-6, pmax=6, smin=-3, smax=3)\n",
    "toolbox.register(\"population\",\n",
    "                 tools.initRepeat, list, toolbox.particle)\n",
    "toolbox.register(\"update\",\n",
    "                 updateParticle, phi1=200, phi2=200)\n",
    "toolbox.register(\"evaluate\", evaluate)"
   ],
   "metadata": {
    "collapsed": false,
    "ExecuteTime": {
     "start_time": "2024-01-29T14:45:33.805178Z",
     "end_time": "2024-01-29T14:45:33.812230Z"
    }
   }
  },
  {
   "cell_type": "code",
   "execution_count": 6,
   "outputs": [],
   "source": [
    "#@title Code to Plot the Expression Tree\n",
    "import matplotlib.pyplot as plt\n",
    "\n",
    "def plot_population(pop):\n",
    "  xs = [x for x,_ in pop]\n",
    "  ys = [y for _,y in pop]\n",
    "  plt.scatter(xs,ys)\n",
    "  plt.show()"
   ],
   "metadata": {
    "collapsed": false,
    "ExecuteTime": {
     "start_time": "2024-01-29T14:45:45.968464Z",
     "end_time": "2024-01-29T14:45:46.250344Z"
    }
   }
  },
  {
   "cell_type": "code",
   "execution_count": 7,
   "outputs": [
    {
     "name": "stdout",
     "output_type": "stream",
     "text": [
      "[75.37042873 41.36550401]\n"
     ]
    },
    {
     "data": {
      "text/plain": "<Figure size 432x288 with 1 Axes>",
      "image/png": "[encoded data removed]"
     },
     "metadata": {
      "needs_background": "light"
     },
     "output_type": "display_data"
    },
    {
     "name": "stdout",
     "output_type": "stream",
     "text": [
      "99 \t500  \t-626.534\t512.782\t-2418.67\t-0.496032 \n"
     ]
    }
   ],
   "source": [
    "#@title Run the Evolution\n",
    "random.seed(64)\n",
    "\n",
    "pop = toolbox.population(n=500)\n",
    "stats = tools.Statistics(lambda ind: ind.fitness.values)\n",
    "stats.register(\"avg\", np.mean)\n",
    "stats.register(\"std\", np.std)\n",
    "stats.register(\"min\", np.min)\n",
    "stats.register(\"max\", np.max)\n",
    "\n",
    "logbook = tools.Logbook()\n",
    "logbook.header = [\"gen\", \"evals\"] + stats.fields\n",
    "\n",
    "GEN = 100\n",
    "best = None\n",
    "\n",
    "for g in range(GEN):\n",
    "  for part in pop:\n",
    "    part.fitness.values = tuple(np.subtract((0,), toolbox.evaluate(part)))\n",
    "    if part.best is None or part.best.fitness < part.fitness:\n",
    "      part.best = creator.Particle(part)\n",
    "      part.best.fitness.values = part.fitness.values\n",
    "    if best is None or best.fitness < part.fitness:\n",
    "      best = creator.Particle(part)\n",
    "      best.fitness.values = part.fitness.values\n",
    "  for part in pop:\n",
    "    toolbox.update(part, best)\n",
    "\n",
    "  if (g+1) % 10 == 0:\n",
    "    logbook.record(gen=g, evals=len(pop), **stats.compile(pop))\n",
    "    clear_output()\n",
    "    print(best)\n",
    "    plot_population(pop)\n",
    "    print(logbook.stream)\n",
    "    time.sleep(1)"
   ],
   "metadata": {
    "collapsed": false,
    "ExecuteTime": {
     "start_time": "2024-01-29T14:46:00.776356Z",
     "end_time": "2024-01-29T14:46:12.646287Z"
    }
   }
  },
  {
   "cell_type": "code",
   "execution_count": 8,
   "outputs": [
    {
     "name": "stdout",
     "output_type": "stream",
     "text": [
      "575.0047031186579\n"
     ]
    }
   ],
   "source": [
    "v, a = best\n",
    "a = a * math.pi / 180  #angle to radians\n",
    "distance = (2*v**2 * math.sin(a) * math.cos(a))/9.8\n",
    "print(distance)"
   ],
   "metadata": {
    "collapsed": false,
    "ExecuteTime": {
     "start_time": "2024-01-29T14:47:21.469453Z",
     "end_time": "2024-01-29T14:47:21.486302Z"
    }
   }
  },
  {
   "cell_type": "code",
   "execution_count": null,
   "outputs": [],
   "source": [],
   "metadata": {
    "collapsed": false
   }
  }
 ],
 "metadata": {
  "kernelspec": {
   "display_name": "Python 3",
   "language": "python",
   "name": "python3"
  },
  "language_info": {
   "codemirror_mode": {
    "name": "ipython",
    "version": 2
   },
   "file_extension": ".py",
   "mimetype": "text/x-python",
   "name": "python",
   "nbconvert_exporter": "python",
   "pygments_lexer": "ipython2",
   "version": "2.7.6"
  }
 },
 "nbformat": 4,
 "nbformat_minor": 0
}
