{
 "nbformat": 4,
 "nbformat_minor": 0,
 "metadata": {
  "colab": {
   "name": "EDL_12_4_DEAP_Ant.ipynb",
   "provenance": [],
   "collapsed_sections": [],
   "authorship_tag": "ABX9TyP2l13sMRDw1vAS0nZN2+Hx",
   "include_colab_link": true
  },
  "kernelspec": {
   "name": "python3",
   "display_name": "Python 3"
  },
  "language_info": {
   "name": "python"
  }
 },
 "cells": [
  {
   "cell_type": "code",
   "source": [
    "#@title Import imports\n",
    "import copy\n",
    "import random\n",
    "import time\n",
    "\n",
    "import numpy\n",
    "\n",
    "from functools import partial\n",
    "from IPython.display import clear_output\n",
    "\n",
    "from deap import algorithms\n",
    "from deap import base\n",
    "from deap import creator\n",
    "from deap import tools\n",
    "from deap import gp"
   ],
   "metadata": {
    "id": "hzx3gLzoRTkj"
   },
   "execution_count": null,
   "outputs": []
  },
  {
   "cell_type": "code",
   "execution_count": null,
   "metadata": {
    "id": "LAmNISvuCtja"
   },
   "outputs": [],
   "source": [
    "#@title Define the Ant Simulator (Environment)\n",
    "def progn(*args):\n",
    "    for arg in args:\n",
    "        arg()\n",
    "\n",
    "def prog2(out1, out2): \n",
    "    return partial(progn,out1,out2)\n",
    "\n",
    "def prog3(out1, out2, out3):     \n",
    "    return partial(progn,out1,out2,out3)\n",
    "\n",
    "def if_then_else(condition, out1, out2):\n",
    "    out1() if condition() else out2()\n",
    "\n",
    "class AntSimulator(object):\n",
    "    direction = [\"north\",\"east\",\"south\",\"west\"]\n",
    "    dir_row = [1, 0, -1, 0]\n",
    "    dir_col = [0, 1, 0, -1]\n",
    "\n",
    "    def __init__(self, max_moves):\n",
    "        self.max_moves = max_moves\n",
    "        self._moves = 0       \n",
    "        self.eaten = 0\n",
    "        self.routine = None   \n",
    "        self.row_start = 0\n",
    "        self.col_start = 0\n",
    "        self.visualize=False  \n",
    "        self.matrix = list()\n",
    "        self.matrix_list = []\n",
    "\n",
    "    def _reset(self):\n",
    "        self.row = self.row_start \n",
    "        self.col = self.col_start \n",
    "        self.dir = 1\n",
    "        #self.moves = 0 \n",
    "        self._moves = 0        \n",
    "        self.eaten = 0        \n",
    "        self.matrix_exc = copy.deepcopy(random.choice(self.matrix_list))\n",
    "\n",
    "    @property\n",
    "    def position(self):\n",
    "        return (self.row, self.col, self.direction[self.dir])\n",
    "\n",
    "    @property\n",
    "    def moves(self):\n",
    "      return self._moves\n",
    "\n",
    "    @moves.setter\n",
    "    def moves(self, move):  \n",
    "      self._moves = move\n",
    "      if self.visualize:        \n",
    "        self.render()\n",
    "   \n",
    "    def render(self):      \n",
    "      print(f\"Ant:{self.position}, moves:{self.moves}, eaten:{self.eaten} \")\n",
    "      map = self.render_map(self.matrix_exc)\n",
    "      clear_output()\n",
    "      print(self.render_ant(map))\n",
    "      time.sleep(1)\n",
    "      pass\n",
    "\n",
    "    def turn_left(self): \n",
    "        if self.moves < self.max_moves:\n",
    "            self.moves += 1            \n",
    "            self.dir = (self.dir - 1) % 4\n",
    "\n",
    "    def turn_right(self):\n",
    "        if self.moves < self.max_moves:\n",
    "            self.moves += 1             \n",
    "            self.dir = (self.dir + 1) % 4\n",
    "\n",
    "    def move_forward(self):\n",
    "        if self.moves < self.max_moves:\n",
    "            self.moves += 1           \n",
    "            self.row = (self.row + self.dir_row[self.dir]) % self.matrix_row\n",
    "            self.col = (self.col + self.dir_col[self.dir]) % self.matrix_col\n",
    "            if self.matrix_exc[self.row][self.col] == \"food\":\n",
    "                self.eaten += 1               \n",
    "                self.matrix_exc[self.row][self.col] = \"empty\"\n",
    "            self.matrix_exc[self.row][self.col] = \"passed\"\n",
    "\n",
    "    def sense_food(self):\n",
    "        ahead_row = (self.row + self.dir_row[self.dir]) % self.matrix_row\n",
    "        ahead_col = (self.col + self.dir_col[self.dir]) % self.matrix_col \n",
    "        return self.matrix_exc[ahead_row][ahead_col] == \"food\"\n",
    "\n",
    "    def if_food_ahead(self, out1, out2):\n",
    "        return partial(if_then_else, self.sense_food, out1, out2)\n",
    "\n",
    "    def run(self,routine):\n",
    "        self._reset()\n",
    "        while self.moves < self.max_moves:\n",
    "            routine()\n",
    "\n",
    "    def visualize_run(self, routine):\n",
    "      self._reset()      \n",
    "      while self.moves < self.max_moves:\n",
    "        self.visualize=True\n",
    "        routine()\n",
    "      self.visualize = False\n",
    "\n",
    "    def add_matrix(self, matrix):        \n",
    "        self.matrix = list()\n",
    "        for i, line in enumerate(matrix):\n",
    "            self.matrix.append(list())\n",
    "            for j, col in enumerate(line):\n",
    "                if col == \"#\":\n",
    "                    self.matrix[-1].append(\"food\")\n",
    "                elif col == \".\":\n",
    "                    self.matrix[-1].append(\"empty\")\n",
    "                elif col == \"S\":\n",
    "                    self.matrix[-1].append(\"empty\")\n",
    "                    self.row_start = self.row = i\n",
    "                    self.col_start = self.col = j\n",
    "                    self.dir = 1\n",
    "        self.matrix_row = len(self.matrix)\n",
    "        self.matrix_col = len(self.matrix[0])\n",
    "        #self.matrix_exc = copy.deepcopy(self.matrix) \n",
    "        self.matrix_list.append(self.matrix) \n",
    "\n",
    "    def clear_matrix(self):\n",
    "      self.matrix_list.clear()      \n",
    "\n",
    "    def render_map(self, matrix):\n",
    "      map = \"\"\n",
    "      for row in matrix:        \n",
    "        map += self.render_row(row) + \"\\n\"\n",
    "      return map\\\n",
    "\n",
    "    def render_ant(self, map):\n",
    "      idx = self.row * (self.matrix_col+1) + self.col \n",
    "      return map[:idx] + '☺' + map[idx+1:]\n",
    "    \n",
    "    def render_row(self, row):\n",
    "      data = []\n",
    "      for r in row:  \n",
    "        if r == \"food\":\n",
    "          data.append(\"#\") \n",
    "        elif r == \"passed\":\n",
    "          data.append(\"_\") \n",
    "        elif r == \"empty\":\n",
    "          data.append('.')\n",
    "      return ''.join(data)"
   ]
  },
  {
   "cell_type": "code",
   "source": [
    "#@title Defining the program function set\n",
    "ant = AntSimulator(600)\n",
    "\n",
    "pset = gp.PrimitiveSet(\"MAIN\", 0)\n",
    "pset.addPrimitive(ant.if_food_ahead, 2)\n",
    "pset.addPrimitive(prog2, 2)\n",
    "pset.addPrimitive(prog3, 3)\n",
    "pset.addTerminal(ant.move_forward)\n",
    "pset.addTerminal(ant.turn_left)\n",
    "pset.addTerminal(ant.turn_right)\n",
    "\n",
    "creator.create(\"FitnessMax\", base.Fitness, weights=(1.0,))\n",
    "creator.create(\"Individual\", gp.PrimitiveTree, fitness=creator.FitnessMax)"
   ],
   "metadata": {
    "id": "bHoX8AYyRmvV"
   },
   "execution_count": null,
   "outputs": []
  },
  {
   "cell_type": "code",
   "source": [
    "#@title Create the Toolbox and populate\n",
    "toolbox = base.Toolbox()\n",
    "\n",
    "# Attribute generator\n",
    "toolbox.register(\"expr_init\", gp.genFull, pset=pset, min_=1, max_=2)\n",
    "\n",
    "# Structure initializers\n",
    "toolbox.register(\"individual\", tools.initIterate, creator.Individual, toolbox.expr_init)\n",
    "toolbox.register(\"population\", tools.initRepeat, list, toolbox.individual)\n",
    "\n",
    "def evalArtificialAnt(individual):\n",
    "    # Transform the tree expression to functional Python code\n",
    "    routine = gp.compile(individual, pset)\n",
    "    # Run the generated routine\n",
    "    ant.run(routine)\n",
    "    return ant.eaten,\n",
    "\n",
    "toolbox.register(\"evaluate\", evalArtificialAnt)\n",
    "toolbox.register(\"select\", tools.selDoubleTournament, fitness_size=100, parsimony_size=2, fitness_first=True)\n",
    "toolbox.register(\"mate\", gp.cxOnePoint)\n",
    "toolbox.register(\"expr_mut\", gp.genFull, min_=0, max_=2)\n",
    "toolbox.register(\"mutate\", gp.mutUniform, expr=toolbox.expr_mut, pset=pset)"
   ],
   "metadata": {
    "id": "nDc0Eio-RulC"
   },
   "execution_count": null,
   "outputs": []
  },
  {
   "cell_type": "code",
   "source": [
    "%%writefile santafe_trail1.txt\n",
    "S###............................\n",
    "...#............................\n",
    "...#.....................###....\n",
    "...#....................#....#..\n",
    "...#....................#....#..\n",
    "...####.#####........##.........\n",
    "............#................#..\n",
    "............#.......#...........\n",
    "............#.......#........#..\n",
    "............#.......#...........\n",
    "....................#...........\n",
    "............#................#..\n",
    "............#...................\n",
    "............#.......#.....###...\n",
    "............#.......#..#........\n",
    ".................#..............\n",
    "................................\n",
    "............#...........#.......\n",
    "............#...#..........#....\n",
    "............#...#...............\n",
    "............#...#...............\n",
    "............#...#.........#.....\n",
    "............#..........#........\n",
    "............#...................\n",
    "...##. .#####....#...............\n",
    ".#..............#...............\n",
    ".#..............#...............\n",
    ".#......#######.................\n",
    ".#.....#........................\n",
    ".......#........................\n",
    "..####..........................\n",
    "................................"
   ],
   "metadata": {
    "colab": {
     "base_uri": "https://localhost:8080/"
    },
    "id": "5bmkRnlmK0Ls",
    "outputId": "d1f26e24-0a39-4430-e822-f83acf87a4f6"
   },
   "execution_count": null,
   "outputs": [
    {
     "output_type": "stream",
     "name": "stdout",
     "text": [
      "Writing santafe_trail1.txt\n"
     ]
    }
   ]
  },
  {
   "cell_type": "code",
   "source": [
    "#@title Setup for Evolution\n",
    "random.seed(222)\n",
    "\n",
    "with  open(\"santafe_trail1.txt\") as trail_file:\n",
    "  ant.add_matrix(trail_file) \n",
    "\n",
    "pop = toolbox.population(n=300)\n",
    "hof = tools.HallOfFame(1)\n",
    "stats = tools.Statistics(lambda ind: ind.fitness.values)\n",
    "stats.register(\"avg\", numpy.mean)\n",
    "stats.register(\"std\", numpy.std)\n",
    "stats.register(\"min\", numpy.min)\n",
    "stats.register(\"max\", numpy.max)"
   ],
   "metadata": {
    "id": "adKjQUYeR4Nm"
   },
   "execution_count": null,
   "outputs": []
  },
  {
   "cell_type": "code",
   "source": [
    "#@title Run Evolution\n",
    "GENERATIONS = 100 #@param {type:\"slider\", min:10, max:1000, step:5}\n",
    "algorithms.eaSimple(pop, toolbox, 0.5, 0.2, GENERATIONS, stats, halloffame=hof) "
   ],
   "metadata": {
    "colab": {
     "base_uri": "https://localhost:8080/"
    },
    "id": "gdfTliFdhjP3",
    "outputId": "a484f85e-6367-4fa2-c258-a5fd6abe15e4"
   },
   "execution_count": null,
   "outputs": []
  },
  {
   "cell_type": "code",
   "source": [
    "#@title Show the Ant Running\n",
    "# Run the generated routine  \n",
    "best = hof[0]\n",
    "routine = gp.compile(best, pset)\n",
    "ant.visualize_run(routine)"
   ],
   "metadata": {
    "colab": {
     "base_uri": "https://localhost:8080/",
     "height": 919
    },
    "id": "dunywdH-Vrg2",
    "outputId": "0eb23bc8-fb7d-4c63-eaea-335124d7bff6"
   },
   "execution_count": null,
   "outputs": []
  },
  {
   "cell_type": "code",
   "source": [
    "%%writefile santafe_trail2.txt\n",
    "S###............................\n",
    "...#............................\n",
    "...#............................\n",
    "...#............................\n",
    "...#............................\n",
    "...##########...................\n",
    "............#...................\n",
    "............#...................\n",
    "............#...................\n",
    "............#...................\n",
    "............#...................\n",
    "............#...................\n",
    "............#...................\n",
    "............#...................\n",
    "............#########...........\n",
    "............#########...........\n",
    "............#########...........\n",
    "............#########...........\n",
    "............#...................\n",
    "............#...................\n",
    "............#...................\n",
    "............#...................\n",
    "............#...................\n",
    "............#...................\n",
    ".......######...................\n",
    ".......#........................\n",
    ".......#........................\n",
    ".......########.................\n",
    "................................\n",
    "................................\n",
    "................................\n",
    "................................"
   ],
   "metadata": {
    "colab": {
     "base_uri": "https://localhost:8080/"
    },
    "id": "Z6iRwVGMfiD8",
    "outputId": "c054b881-0e12-4ddc-fd04-3389fc88cf6f"
   },
   "execution_count": null,
   "outputs": [
    {
     "output_type": "stream",
     "name": "stdout",
     "text": [
      "Writing santafe_trail2.txt\n"
     ]
    }
   ]
  },
  {
   "cell_type": "code",
   "source": [
    "%%writefile santafe_trail3.txt\n",
    "S...............................\n",
    "................................\n",
    "................................\n",
    "................................\n",
    "................................\n",
    "................................\n",
    "................................\n",
    "............###############.....\n",
    "............################....\n",
    "............################....\n",
    "............#...................\n",
    "............########............\n",
    "............#...................\n",
    "............#...................\n",
    "......###############...........\n",
    "......###############...........\n",
    "......#...........###...........\n",
    "......###############...........\n",
    "............#...................\n",
    "............#...................\n",
    "............#...................\n",
    "............#...................\n",
    "............#...................\n",
    "............#...................\n",
    "................................\n",
    "................................\n",
    "................................\n",
    "................................\n",
    "................................\n",
    "................................\n",
    "................................\n",
    "................................"
   ],
   "metadata": {
    "colab": {
     "base_uri": "https://localhost:8080/"
    },
    "id": "XilflI6RqTxW",
    "outputId": "2ffb0bc5-f9ef-4cd8-bc25-30589cf929ef"
   },
   "execution_count": null,
   "outputs": [
    {
     "output_type": "stream",
     "name": "stdout",
     "text": [
      "Writing santafe_trail3.txt\n"
     ]
    }
   ]
  },
  {
   "cell_type": "code",
   "source": [
    "#@title Load New Environments\n",
    "ant.clear_matrix()  #clear out old environment\n",
    "with  open(\"santafe_trail2.txt\") as trail_file:\n",
    "  ant.add_matrix(trail_file) \n",
    "\n",
    "with  open(\"santafe_trail3.txt\") as trail_file:\n",
    "  ant.add_matrix(trail_file) "
   ],
   "metadata": {
    "id": "phuI3VzwgXIo"
   },
   "execution_count": null,
   "outputs": []
  },
  {
   "cell_type": "code",
   "source": [
    "#@title Test Best Ant on New Environments\n",
    "ant.visualize_run(routine)"
   ],
   "metadata": {
    "colab": {
     "base_uri": "https://localhost:8080/"
    },
    "id": "cDj70Z3Tsp_G",
    "outputId": "e8296a96-6dba-45da-99e2-67182ce1d8ce"
   },
   "execution_count": null,
   "outputs": [
    {
     "output_type": "stream",
     "name": "stdout",
     "text": [
      "______._......_._______....._...\n",
      "_......_......_._.._______.._...\n",
      "_......_.______._☺___._.._.._...\n",
      "_......_._......_..._._.._.._...\n",
      "_.______._......_..._._______...\n",
      "_._......_......________._......\n",
      "_._......_......__.._.._._._____\n",
      "_._......_________##_##_#_______\n",
      "_._._______.#####_##________....\n",
      "_._._....._.#####_#####_###_....\n",
      "___._....._.#...._______..._.___\n",
      "_..._....._._______#......._._..\n",
      "_______..._._....._...______._..\n",
      "__.._______._....._..._...._____\n",
      "_______###______##_##._......_._\n",
      "._...__###_#_##_##_##._......_._\n",
      "._...__..._._.._.._##._.______._\n",
      "._...______________##._._......_\n",
      ".____________.._.______._......_\n",
      "________.._.#.._._......_......_\n",
      "_....___________._......_.______\n",
      "_....___.._.#...._......_._.....\n",
      "_....___.._.#...._.______._.....\n",
      "_...._________..._._......_.....\n",
      "_______..._.______._......_.....\n",
      "__..._...._.__....._......______\n",
      "___________.__....._._______....\n",
      "__..._......__....._._....._....\n",
      "__..._......________._....._....\n",
      "__..._......_._...._._....._....\n",
      "__..._.______._...._._....._____\n",
      "_...._._......_...._.________...\n"
     ]
    }
   ]
  },
  {
   "cell_type": "code",
   "source": [
    "#@title Train with All 3 Environments\n",
    "ant.clear_matrix()  #clear out old environments\n",
    "\n",
    "with  open(\"santafe_trail1.txt\") as trail_file:\n",
    "  ant.add_matrix(trail_file) \n",
    "\n",
    "with  open(\"santafe_trail2.txt\") as trail_file:\n",
    "  ant.add_matrix(trail_file) \n",
    "\n",
    "with  open(\"santafe_trail3.txt\") as trail_file:\n",
    "  ant.add_matrix(trail_file) "
   ],
   "metadata": {
    "id": "A351zlSes5Q_"
   },
   "execution_count": null,
   "outputs": []
  },
  {
   "cell_type": "code",
   "source": [
    "#@title Run Evolution - \"Transfer Evolution\"\n",
    "GENERATIONS = 100 #@param {type:\"slider\", min:10, max:1000, step:5}\n",
    "algorithms.eaSimple(pop, toolbox, 0.5, 0.2, GENERATIONS, stats, halloffame=hof)\n",
    "\n",
    "#@title Show the Ant Running\n",
    "# Run the generated routine  \n",
    "best = hof[0]\n",
    "routine = gp.compile(best, pset)\n",
    "ant.visualize_run(routine)"
   ],
   "metadata": {
    "colab": {
     "base_uri": "https://localhost:8080/",
     "height": 919
    },
    "id": "4RwaRv5hsask",
    "outputId": "39ee2c09-1f62-473f-e3a0-2de0cbee5c10"
   },
   "execution_count": null,
   "outputs": []
  }
 ]
}
