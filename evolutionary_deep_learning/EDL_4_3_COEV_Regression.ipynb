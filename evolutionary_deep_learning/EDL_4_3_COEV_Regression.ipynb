{
 "cells": [
  {
   "cell_type": "code",
   "execution_count": 1,
   "metadata": {
    "collapsed": true,
    "ExecuteTime": {
     "start_time": "2024-01-30T14:15:19.166993Z",
     "end_time": "2024-01-30T14:15:19.461925Z"
    }
   },
   "outputs": [],
   "source": [
    "import operator\n",
    "import math\n",
    "import random\n",
    "import sys\n",
    "import time\n",
    "\n",
    "import numpy as np\n",
    "from deap import algorithms\n",
    "from deap import base\n",
    "from deap import creator\n",
    "from deap import tools\n",
    "from deap import gp\n",
    "\n",
    "from IPython.display import clear_output"
   ]
  },
  {
   "cell_type": "code",
   "execution_count": 2,
   "outputs": [],
   "source": [
    "#@title Setup Fitness Criteria\n",
    "#GA\n",
    "creator.create(\"FitnessMax\", base.Fitness, weights=(1.0,))\n",
    "creator.create(\"IndGA\", list, fitness=creator.FitnessMax)\n",
    "#GP\n",
    "creator.create(\"FitnessMin\", base.Fitness, weights=(-1.0,))\n",
    "creator.create(\"Individual\", gp.PrimitiveTree, fitness=creator.FitnessMin)"
   ],
   "metadata": {
    "collapsed": false,
    "ExecuteTime": {
     "start_time": "2024-01-30T14:15:40.158571Z",
     "end_time": "2024-01-30T14:15:40.184690Z"
    }
   }
  },
  {
   "cell_type": "code",
   "execution_count": 3,
   "outputs": [
    {
     "name": "stderr",
     "output_type": "stream",
     "text": [
      "/Library/Frameworks/Python.framework/Versions/3.8/lib/python3.8/site-packages/sklearn/utils/deprecation.py:87: FutureWarning: Function load_boston is deprecated; `load_boston` is deprecated in 1.0 and will be removed in 1.2.\n",
      "\n",
      "    The Boston housing prices dataset has an ethical problem. You can refer to\n",
      "    the documentation of this function for further details.\n",
      "\n",
      "    The scikit-learn maintainers therefore strongly discourage the use of this\n",
      "    dataset unless the purpose of the code is to study and educate about\n",
      "    ethical issues in data science and machine learning.\n",
      "\n",
      "    In this special case, you can fetch the dataset from the original\n",
      "    source::\n",
      "\n",
      "        import pandas as pd\n",
      "        import numpy as np\n",
      "\n",
      "        data_url = \"http://lib.stat.cmu.edu/datasets/boston\"\n",
      "        raw_df = pd.read_csv(data_url, sep=\"\\s+\", skiprows=22, header=None)\n",
      "        data = np.hstack([raw_df.values[::2, :], raw_df.values[1::2, :2]])\n",
      "        target = raw_df.values[1::2, 2]\n",
      "\n",
      "    Alternative datasets include the California housing dataset (i.e.\n",
      "    :func:`~sklearn.datasets.fetch_california_housing`) and the Ames housing\n",
      "    dataset. You can load the datasets as follows::\n",
      "\n",
      "        from sklearn.datasets import fetch_california_housing\n",
      "        housing = fetch_california_housing()\n",
      "\n",
      "    for the California housing dataset and::\n",
      "\n",
      "        from sklearn.datasets import fetch_openml\n",
      "        housing = fetch_openml(name=\"house_prices\", as_frame=True)\n",
      "\n",
      "    for the Ames housing dataset.\n",
      "  warnings.warn(msg, category=FutureWarning)\n"
     ]
    }
   ],
   "source": [
    "#@title Use Boston Housing dataset as input regression set\n",
    "from sklearn.datasets import load_boston\n",
    "X, y = load_boston(return_X_y=True)\n",
    "X = np.swapaxes(X,0,1)\n",
    "inputs = X.shape[0]"
   ],
   "metadata": {
    "collapsed": false,
    "ExecuteTime": {
     "start_time": "2024-01-30T14:15:52.526183Z",
     "end_time": "2024-01-30T14:15:53.194289Z"
    }
   }
  },
  {
   "cell_type": "code",
   "execution_count": 4,
   "outputs": [
    {
     "data": {
      "text/plain": "      CRIM    ZN  INDUS  CHAS    NOX     RM   AGE     DIS  RAD    TAX  \\\n0  0.00632  18.0   2.31   0.0  0.538  6.575  65.2  4.0900  1.0  296.0   \n1  0.02731   0.0   7.07   0.0  0.469  6.421  78.9  4.9671  2.0  242.0   \n2  0.02729   0.0   7.07   0.0  0.469  7.185  61.1  4.9671  2.0  242.0   \n3  0.03237   0.0   2.18   0.0  0.458  6.998  45.8  6.0622  3.0  222.0   \n4  0.06905   0.0   2.18   0.0  0.458  7.147  54.2  6.0622  3.0  222.0   \n\n   PTRATIO       B  LSTAT  \n0     15.3  396.90   4.98  \n1     17.8  396.90   9.14  \n2     17.8  392.83   4.03  \n3     18.7  394.63   2.94  \n4     18.7  396.90   5.33  ",
      "text/html": "<div>\n<style scoped>\n    .dataframe tbody tr th:only-of-type {\n        vertical-align: middle;\n    }\n\n    .dataframe tbody tr th {\n        vertical-align: top;\n    }\n\n    .dataframe thead th {\n        text-align: right;\n    }\n</style>\n<table border=\"1\" class=\"dataframe\">\n  <thead>\n    <tr style=\"text-align: right;\">\n      <th></th>\n      <th>CRIM</th>\n      <th>ZN</th>\n      <th>INDUS</th>\n      <th>CHAS</th>\n      <th>NOX</th>\n      <th>RM</th>\n      <th>AGE</th>\n      <th>DIS</th>\n      <th>RAD</th>\n      <th>TAX</th>\n      <th>PTRATIO</th>\n      <th>B</th>\n      <th>LSTAT</th>\n    </tr>\n  </thead>\n  <tbody>\n    <tr>\n      <th>0</th>\n      <td>0.00632</td>\n      <td>18.0</td>\n      <td>2.31</td>\n      <td>0.0</td>\n      <td>0.538</td>\n      <td>6.575</td>\n      <td>65.2</td>\n      <td>4.0900</td>\n      <td>1.0</td>\n      <td>296.0</td>\n      <td>15.3</td>\n      <td>396.90</td>\n      <td>4.98</td>\n    </tr>\n    <tr>\n      <th>1</th>\n      <td>0.02731</td>\n      <td>0.0</td>\n      <td>7.07</td>\n      <td>0.0</td>\n      <td>0.469</td>\n      <td>6.421</td>\n      <td>78.9</td>\n      <td>4.9671</td>\n      <td>2.0</td>\n      <td>242.0</td>\n      <td>17.8</td>\n      <td>396.90</td>\n      <td>9.14</td>\n    </tr>\n    <tr>\n      <th>2</th>\n      <td>0.02729</td>\n      <td>0.0</td>\n      <td>7.07</td>\n      <td>0.0</td>\n      <td>0.469</td>\n      <td>7.185</td>\n      <td>61.1</td>\n      <td>4.9671</td>\n      <td>2.0</td>\n      <td>242.0</td>\n      <td>17.8</td>\n      <td>392.83</td>\n      <td>4.03</td>\n    </tr>\n    <tr>\n      <th>3</th>\n      <td>0.03237</td>\n      <td>0.0</td>\n      <td>2.18</td>\n      <td>0.0</td>\n      <td>0.458</td>\n      <td>6.998</td>\n      <td>45.8</td>\n      <td>6.0622</td>\n      <td>3.0</td>\n      <td>222.0</td>\n      <td>18.7</td>\n      <td>394.63</td>\n      <td>2.94</td>\n    </tr>\n    <tr>\n      <th>4</th>\n      <td>0.06905</td>\n      <td>0.0</td>\n      <td>2.18</td>\n      <td>0.0</td>\n      <td>0.458</td>\n      <td>7.147</td>\n      <td>54.2</td>\n      <td>6.0622</td>\n      <td>3.0</td>\n      <td>222.0</td>\n      <td>18.7</td>\n      <td>396.90</td>\n      <td>5.33</td>\n    </tr>\n  </tbody>\n</table>\n</div>"
     },
     "execution_count": 4,
     "metadata": {},
     "output_type": "execute_result"
    }
   ],
   "source": [
    "#@title Code to Inspect Dataset\n",
    "import pandas as pd\n",
    "boston_dataset = load_boston()\n",
    "boston = pd.DataFrame(boston_dataset.data, columns=boston_dataset.feature_names)\n",
    "boston.head()"
   ],
   "metadata": {
    "collapsed": false,
    "ExecuteTime": {
     "start_time": "2024-01-30T14:16:07.903900Z",
     "end_time": "2024-01-30T14:16:08.152484Z"
    }
   }
  },
  {
   "cell_type": "code",
   "execution_count": 5,
   "outputs": [],
   "source": [
    "#@title Add Genetic Operators to Toolbox for GA feature selection\n",
    "toolbox_ga = base.Toolbox()\n",
    "toolbox_ga.register(\"float\", random.uniform, -1, 1)\n",
    "toolbox_ga.register(\"individual\", tools.initRepeat, creator.IndGA, toolbox_ga.float, inputs)\n",
    "toolbox_ga.register(\"population\", tools.initRepeat, list, toolbox_ga.individual)\n",
    "\n",
    "toolbox_ga.register(\"select\", tools.selTournament, tournsize=3)\n",
    "toolbox_ga.register(\"mate\", tools.cxTwoPoint)\n",
    "toolbox_ga.register(\"mutate\", tools.mutGaussian, mu=0, sigma=0.01, indpb=0.05)"
   ],
   "metadata": {
    "collapsed": false,
    "ExecuteTime": {
     "start_time": "2024-01-30T14:16:24.032164Z",
     "end_time": "2024-01-30T14:16:24.037997Z"
    }
   }
  },
  {
   "cell_type": "code",
   "execution_count": 6,
   "outputs": [],
   "source": [
    "def protectedDiv(left, right):\n",
    "  with np.errstate(divide='ignore',invalid='ignore'):\n",
    "    x = np.divide(left, right)\n",
    "    if isinstance(x, np.ndarray):\n",
    "      x[np.isinf(x)] = 1\n",
    "      x[np.isnan(x)] = 1\n",
    "    elif np.isinf(x) or np.isnan(x):\n",
    "      x = 1\n",
    "  return x\n",
    "\n",
    "#@title Create Set of Operators\n",
    "pset = gp.PrimitiveSet(\"MAIN\", inputs)\n",
    "pset.addPrimitive(np.add, 2, name=\"vadd\")\n",
    "pset.addPrimitive(np.subtract, 2, name=\"vsub\")\n",
    "pset.addPrimitive(np.multiply, 2, name=\"vmul\")\n",
    "pset.addPrimitive(protectedDiv, 2)\n",
    "pset.addPrimitive(np.negative, 1, name=\"vneg\")\n",
    "#pset.addPrimitive(np.cos, 1, name=\"vcos\")\n",
    "#pset.addPrimitive(np.sin, 1, name=\"vsin\")\n",
    "#pset.addEphemeralConstant(\"rand101\", lambda: random.randrange(-1000,1000))\n",
    "\n",
    "toolbox_gp = base.Toolbox()\n",
    "toolbox_gp.register(\"expr\", gp.genHalfAndHalf, pset=pset, min_=1, max_=2)\n",
    "toolbox_gp.register(\"individual\", tools.initIterate, creator.Individual, toolbox_gp.expr)\n",
    "toolbox_gp.register(\"population\", tools.initRepeat, list, toolbox_gp.individual)\n",
    "toolbox_gp.register(\"compile\", gp.compile, pset=pset)\n",
    "\n",
    "def evalSymbReg(individual, points):\n",
    "    # Transform the tree expression in a callable function\n",
    "    func = toolbox_gp.compile(expr=individual)\n",
    "    # Evaluate the mean squared error between the expression\n",
    "    p = np.expand_dims(points, axis=1)\n",
    "    x = X * np.asarray(p)\n",
    "    diff = math.sqrt(np.sum((func(*x.tolist()) - y)**2))\n",
    "    return diff,\n",
    "\n",
    "toolbox_gp.register(\"evaluate\", evalSymbReg, points=[x/10. for x in range(-10,10)])\n",
    "toolbox_gp.register(\"select\", tools.selTournament, tournsize=3)\n",
    "toolbox_gp.register(\"mate\", gp.cxOnePoint)\n",
    "toolbox_gp.register(\"expr_mut\", gp.genFull, min_=0, max_=2)\n",
    "toolbox_gp.register(\"mutate\", gp.mutUniform, expr=toolbox_gp.expr_mut, pset=pset)\n",
    "\n",
    "toolbox_gp.decorate(\"mate\", gp.staticLimit(key=operator.attrgetter(\"height\"), max_value=5))\n",
    "toolbox_gp.decorate(\"mutate\", gp.staticLimit(key=operator.attrgetter(\"height\"), max_value=5))"
   ],
   "metadata": {
    "collapsed": false,
    "ExecuteTime": {
     "start_time": "2024-01-30T14:16:50.111219Z",
     "end_time": "2024-01-30T14:16:50.128002Z"
    }
   }
  },
  {
   "cell_type": "code",
   "execution_count": 7,
   "outputs": [],
   "source": [
    "#@title Code to Plot the Expression Tree\n",
    "import matplotlib.pyplot as plt\n",
    "import networkx as nx\n",
    "\n",
    "def plot_expression(individual):\n",
    "  options = {\"node_size\": 500, \"alpha\": 0.8}\n",
    "  nodes, edges, labels = gp.graph(individual)\n",
    "\n",
    "  g = nx.Graph()\n",
    "  g.add_nodes_from(nodes)\n",
    "  g.add_edges_from(edges)\n",
    "\n",
    "  pos = nx.spring_layout(g)\n",
    "  nx.draw_networkx_nodes(g, pos, **options)\n",
    "  nx.draw_networkx_edges(g, pos, width=1.0, alpha=0.5)\n",
    "  nx.draw_networkx_labels(g, pos, labels, font_size=9, font_color='k')\n",
    "  plt.show()"
   ],
   "metadata": {
    "collapsed": false,
    "ExecuteTime": {
     "start_time": "2024-01-30T14:17:03.437013Z",
     "end_time": "2024-01-30T14:17:03.888740Z"
    }
   }
  },
  {
   "cell_type": "code",
   "execution_count": 8,
   "outputs": [],
   "source": [
    "#@title Run the Evolution\n",
    "GA_GEN, GP_GEN, BASE_POP = 1, 10, 10000\n",
    "pop_ga = toolbox_ga.population(n=BASE_POP*GA_GEN)\n",
    "pop_gp = toolbox_gp.population(n=BASE_POP*GP_GEN)\n",
    "\n",
    "stats = tools.Statistics(lambda ind: ind.fitness.values)\n",
    "stats.register(\"avg\", np.mean)\n",
    "stats.register(\"std\", np.std)\n",
    "stats.register(\"min\", np.min)\n",
    "stats.register(\"max\", np.max)\n",
    "\n",
    "logbook = tools.Logbook()\n",
    "logbook.header = \"gen\", \"type\", \"evals\", \"std\", \"min\", \"avg\", \"max\"\n",
    "\n",
    "best_ga = tools.selRandom(pop_ga, 1)[0]\n",
    "best_gp = tools.selRandom(pop_gp, 1)[0]\n",
    "\n",
    "for ind in pop_gp:\n",
    "    ind.fitness.values = toolbox_gp.evaluate(ind, points=best_ga)\n",
    "\n",
    "for ind in pop_ga:\n",
    "    ind.fitness.values = toolbox_gp.evaluate(best_gp, points=ind)\n",
    "\n",
    "record = stats.compile(pop_ga)\n",
    "logbook.record(gen=0, type='ga', evals=len(pop_ga), **record)\n",
    "\n",
    "record = stats.compile(pop_gp)\n",
    "logbook.record(gen=0, type='gp', evals=len(pop_gp), **record)"
   ],
   "metadata": {
    "collapsed": false,
    "ExecuteTime": {
     "start_time": "2024-01-30T14:17:18.121792Z",
     "end_time": "2024-01-30T14:17:37.522638Z"
    }
   }
  },
  {
   "cell_type": "code",
   "execution_count": 9,
   "outputs": [
    {
     "name": "stdout",
     "output_type": "stream",
     "text": [
      "8  \tga  \t10000 \t47295.8    \t174.922\t18141.2    \t773422     \n",
      "8  \tgp  \t100000\t1.35642e+07\t134.291\t191824     \t3.27352e+09\n"
     ]
    },
    {
     "data": {
      "text/plain": "<Figure size 432x288 with 1 Axes>",
      "image/png": "[encoded data removed]"
     },
     "metadata": {},
     "output_type": "display_data"
    },
    {
     "name": "stdout",
     "output_type": "stream",
     "text": [
      "Best GA ['-0.23', '0.84', '0.49', '0.02', '-0.05', '-0.51', '-0.82', '0.59', '0.97', '-0.64', '-0.00', '-0.93', '-1.00']\n",
      "Best individual GA is [-0.2280018402641022, 0.8420403277476478, 0.4932921435059261, 0.023567737160838043, -0.054957321074538656, -0.5065200645927588, -0.8181038163600538, 0.5908868768300104, 0.9652662504536682, -0.6431143784503617, -0.0005570454889307977, -0.9308796921188041, -0.9972440719290232], (773422.3278990088,)\n",
      "Best individual GP is vmul(protectedDiv(ARG5, ARG10), vneg(ARG5)), (134.29073125883824,)\n"
     ]
    },
    {
     "data": {
      "text/plain": "<Figure size 432x288 with 1 Axes>",
      "image/png": "[encoded data removed]"
     },
     "metadata": {},
     "output_type": "display_data"
    }
   ],
   "source": [
    "\n",
    "print(logbook.stream)\n",
    "\n",
    "CXPB, MUTPB, NGEN = 0.5, 0.2, 100\n",
    "\n",
    "done = False\n",
    "# Begin the evolution\n",
    "for g in range(1, NGEN):\n",
    "    if done: break\n",
    "\n",
    "    if (g+1) % GA_GEN == 0:\n",
    "      # Select and clone the offspring\n",
    "      off_ga = toolbox_ga.select(pop_ga, len(pop_ga))\n",
    "      off_ga = [toolbox_ga.clone(ind) for ind in off_ga]\n",
    "\n",
    "      # Apply crossover and mutation\n",
    "      for ind1, ind2 in zip(off_ga[::2], off_ga[1::2]):\n",
    "          if random.random() < CXPB:\n",
    "              toolbox_ga.mate(ind1, ind2)\n",
    "              del ind1.fitness.values\n",
    "              del ind2.fitness.values\n",
    "\n",
    "      for ind in off_ga:\n",
    "          if random.random() < MUTPB:\n",
    "              toolbox_ga.mutate(ind)\n",
    "              del ind.fitness.values\n",
    "\n",
    "      pop_ga = off_ga\n",
    "\n",
    "    if (g+1) % GP_GEN == 0:\n",
    "      off_gp = toolbox_gp.select(pop_gp, len(pop_gp))\n",
    "      off_gp = [toolbox_gp.clone(ind) for ind in off_gp]\n",
    "\n",
    "      for ind1, ind2 in zip(off_gp[::2], off_gp[1::2]):\n",
    "          if random.random() < CXPB:\n",
    "              toolbox_gp.mate(ind1, ind2)\n",
    "              del ind1.fitness.values\n",
    "              del ind2.fitness.values\n",
    "\n",
    "      for ind in off_gp:\n",
    "          if random.random() < MUTPB:\n",
    "              toolbox_gp.mutate(ind)\n",
    "              del ind.fitness.values\n",
    "\n",
    "      # Replace the old population by the offspring\n",
    "      pop_gp = off_gp\n",
    "\n",
    "    # Evaluate the individuals with an invalid fitness\n",
    "    for ind in pop_gp:\n",
    "        ind.fitness.values = toolbox_gp.evaluate(ind, points=best_ga)\n",
    "    for ind in pop_ga:\n",
    "        ind.fitness.values = toolbox_gp.evaluate(best_gp, points=ind)\n",
    "\n",
    "    record = stats.compile(pop_ga)\n",
    "    best_ga_min = record[\"min\"]\n",
    "    logbook.record(gen=g, type='ga', evals=len(pop_ga), **record)\n",
    "\n",
    "    record = stats.compile(pop_gp)\n",
    "    best_gp_min = record[\"min\"]\n",
    "    logbook.record(gen=g, type='gp', evals=len(pop_gp), **record)\n",
    "    #print(logbook.stream)\n",
    "    print(record)\n",
    "\n",
    "    best_ga = tools.selBest(pop_ga, 1)[0]\n",
    "    best_gp = tools.selBest(pop_gp, 1)[0]\n",
    "\n",
    "    if best_gp_min < 135:\n",
    "        done = True\n",
    "        print(\"Sovled\")\n",
    "\n",
    "    if (g+1) % 1 == 0:\n",
    "      clear_output()\n",
    "      print(logbook.stream)\n",
    "      plot_expression(best_gp)\n",
    "      output = [\"%.2f\" % e for e in best_ga]\n",
    "      print(f\"Best GA {output}\")\n",
    "      time.sleep(1)\n",
    "\n",
    "print(\"Best individual GA is %s, %s\" % (best_ga, best_ga.fitness.values))\n",
    "print(\"Best individual GP is %s, %s\" % (best_gp, best_gp.fitness.values))\n",
    "plot_expression(best_gp)"
   ],
   "metadata": {
    "collapsed": false,
    "ExecuteTime": {
     "start_time": "2024-01-30T14:18:28.902629Z",
     "end_time": "2024-01-30T14:21:10.608509Z"
    }
   }
  },
  {
   "cell_type": "code",
   "execution_count": null,
   "outputs": [],
   "source": [],
   "metadata": {
    "collapsed": false
   }
  }
 ],
 "metadata": {
  "kernelspec": {
   "display_name": "Python 3",
   "language": "python",
   "name": "python3"
  },
  "language_info": {
   "codemirror_mode": {
    "name": "ipython",
    "version": 2
   },
   "file_extension": ".py",
   "mimetype": "text/x-python",
   "name": "python",
   "nbconvert_exporter": "python",
   "pygments_lexer": "ipython2",
   "version": "2.7.6"
  }
 },
 "nbformat": 4,
 "nbformat_minor": 0
}
