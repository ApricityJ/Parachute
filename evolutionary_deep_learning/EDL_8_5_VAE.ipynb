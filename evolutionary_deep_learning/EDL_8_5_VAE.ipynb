{
 "nbformat": 4,
 "nbformat_minor": 0,
 "metadata": {
  "colab": {
   "name": "EDL_8_5_VAE.ipynb",
   "provenance": [],
   "collapsed_sections": [],
   "authorship_tag": "ABX9TyNjowxyaHq0rGFMwzH6VM7k",
   "include_colab_link": true
  },
  "kernelspec": {
   "name": "python3",
   "language": "python",
   "display_name": "Python 3 (ipykernel)"
  },
  "language_info": {
   "name": "python"
  },
  "accelerator": "GPU"
 },
 "cells": [
  {
   "cell_type": "code",
   "execution_count": null,
   "metadata": {
    "colab": {
     "base_uri": "https://localhost:8080/",
     "height": 34
    },
    "id": "bCDEKxYciSl6",
    "outputId": "add5b369-f5c5-4cbf-f8da-214e3b61f49d",
    "ExecuteTime": {
     "start_time": "2024-03-04T14:38:56.815163Z",
     "end_time": "2024-03-04T14:39:04.320959Z"
    }
   },
   "outputs": [],
   "source": [
    "import math\n",
    "\n",
    "from keras.layers import Dense, Input\n",
    "from keras.layers import Conv2D, Flatten, Lambda\n",
    "from keras.layers import Reshape, Conv2DTranspose\n",
    "from keras.layers import LayerNormalization\n",
    "from keras.models import Model\n",
    "from keras.datasets import fashion_mnist\n",
    "from keras.losses import mse, binary_crossentropy\n",
    "from tensorflow.keras.utils import plot_model\n",
    "from keras import backend as K\n",
    "import tensorflow as tf\n",
    "\n",
    "#from plot import plot_results\n",
    "import numpy as np\n",
    "import matplotlib.pyplot as plt\n",
    "from IPython import display\n",
    "from IPython.display import clear_output\n",
    "plt.gray()"
   ]
  },
  {
   "cell_type": "code",
   "source": [
    "#@title VAE Sampling\n",
    "# reparameterization trick\n",
    "# instead of sampling from Q(z|X), sample eps = N(0,I)\n",
    "# then z = z_mean + sqrt(var)*eps\n",
    "def sampling(args):\n",
    "    \"\"\"Reparameterization trick by sampling fr an isotropic unit Gaussian.\n",
    "    # Arguments\n",
    "        args (tensor): mean and log of variance of Q(z|X)\n",
    "    # Returns\n",
    "        z (tensor): sampled latent vector\n",
    "    \"\"\"\n",
    "\n",
    "    z_mean, z_log_var = args\n",
    "    batch = K.shape(z_mean)[0]\n",
    "    dim = K.int_shape(z_mean)[1]\n",
    "    # by default, random_normal has mean=0 and std=1.0\n",
    "    epsilon = K.random_normal(shape=(batch, dim))\n",
    "    #epsilon = K.random_binomial(shape=(batch, dim))\n",
    "    #epsilon = K.random_bernoulli(shape=(batch, dim))\n",
    "    return z_mean + K.exp(0.5 * z_log_var) * epsilon"
   ],
   "metadata": {
    "id": "YmFDbJOtj1Ql",
    "ExecuteTime": {
     "start_time": "2024-03-04T14:39:20.442264Z",
     "end_time": "2024-03-04T14:39:20.449684Z"
    }
   },
   "execution_count": null,
   "outputs": []
  },
  {
   "cell_type": "code",
   "source": [
    "#@title Load Fashion dataset\n",
    "(x_train, y_train), (x_test, y_test) = fashion_mnist.load_data()\n",
    "image_size = x_train.shape[1]\n",
    "x_train = np.reshape(x_train, [-1, image_size, image_size, 1])\n",
    "x_test = np.reshape(x_test, [-1, image_size, image_size, 1])\n",
    "x_train = x_train.astype('float32') / 255\n",
    "x_test = x_test.astype('float32') / 255\n",
    "\n",
    "class_names = ['T-shirt/top', 'Trouser', 'Pullover', 'Dress', 'Coat',\n",
    "               'Sandal', 'Shirt', 'Sneaker', 'Bag', 'Ankle boot']\n",
    "\n",
    "def plot_data(num_images, images, labels):\n",
    "  grid = math.ceil(math.sqrt(num_images))\n",
    "  plt.figure(figsize=(grid*2,grid*2))\n",
    "  for i in range(num_images):\n",
    "      plt.subplot(grid,grid,i+1)\n",
    "      plt.xticks([])\n",
    "      plt.yticks([])\n",
    "      plt.grid(False)     \n",
    "      plt.imshow(images[i].reshape(image_size,image_size))\n",
    "      plt.xlabel(class_names[labels[i]])      \n",
    "  plt.show()\n",
    "\n",
    "plot_data(25, x_train, y_train)"
   ],
   "metadata": {
    "colab": {
     "base_uri": "https://localhost:8080/",
     "height": 780
    },
    "id": "miwkymp6j8WZ",
    "outputId": "51ca071f-74fb-4a43-ea21-c8dfd48a349a",
    "ExecuteTime": {
     "start_time": "2024-03-04T14:39:23.999756Z",
     "end_time": "2024-03-04T14:39:26.546388Z"
    }
   },
   "execution_count": null,
   "outputs": []
  },
  {
   "cell_type": "code",
   "source": [
    "#@title Network Hyperparameters\n",
    "input_shape = (image_size, image_size, 1)\n",
    "batch_size = 128\n",
    "kernel_size = 3\n",
    "filters = 16\n",
    "latent_dim = 2\n",
    "epochs = 5"
   ],
   "metadata": {
    "id": "KWepULXKkFYS",
    "ExecuteTime": {
     "start_time": "2024-03-04T14:39:30.688734Z",
     "end_time": "2024-03-04T14:39:30.798390Z"
    }
   },
   "execution_count": null,
   "outputs": []
  },
  {
   "cell_type": "code",
   "source": [
    "#@title Start Encoder Convolution Layers\n",
    "# VAE model = encoder + decoder\n",
    "# build encoder model\n",
    "inputs = Input(shape=input_shape, name='encoder_input')\n",
    "x = inputs\n",
    "for i in range(2):\n",
    "    filters *= 2\n",
    "    x = Conv2D(filters=filters,\n",
    "               kernel_size=kernel_size,\n",
    "               activation='relu',\n",
    "               strides=2,\n",
    "               padding='same')(x)\n",
    "\n",
    "# shape info needed to build decoder model\n",
    "shape = K.int_shape(x)"
   ],
   "metadata": {
    "id": "L-i5yoyokKFK",
    "ExecuteTime": {
     "start_time": "2024-03-04T14:39:35.017879Z",
     "end_time": "2024-03-04T14:39:36.007924Z"
    }
   },
   "execution_count": null,
   "outputs": []
  },
  {
   "cell_type": "code",
   "source": [
    "#@title Generate Sampling Inputs and Layer\n",
    "# generate latent vector Q(z|X)\n",
    "x = Flatten()(x)\n",
    "x = Dense(16, activation='relu')(x)\n",
    "z_mean = Dense(latent_dim, name='z_mean')(x)\n",
    "z_log_var = Dense(latent_dim, name='z_log_var')(x)\n",
    "\n",
    "# use reparameterization trick to push the sampling out as input\n",
    "# note that \"output_shape\" isn't necessary with the TensorFlow backend\n",
    "z = Lambda(\n",
    "    sampling, \n",
    "    output_shape=(latent_dim,), \n",
    "    name='z')([z_mean, z_log_var])\n",
    "\n",
    "# instantiate encoder model\n",
    "encoder = Model(inputs, [z_mean, z_log_var, z], name='encoder')\n",
    "encoder.summary()"
   ],
   "metadata": {
    "colab": {
     "base_uri": "https://localhost:8080/"
    },
    "id": "BEyQdMgFkZ1T",
    "outputId": "983e7d36-f21b-401f-b500-a1e2720ea805",
    "ExecuteTime": {
     "start_time": "2024-03-04T14:39:39.888539Z",
     "end_time": "2024-03-04T14:39:40.042637Z"
    }
   },
   "execution_count": null,
   "outputs": []
  },
  {
   "cell_type": "code",
   "source": [
    "#@title Build the Decoder Model\n",
    "latent_inputs = Input(shape=(latent_dim,), name='z_sampling')\n",
    "x = Dense(shape[1] * shape[2] * shape[3], activation='relu')(latent_inputs)\n",
    "x = Reshape((shape[1], shape[2], shape[3]))(x)\n",
    "\n",
    "for i in range(2):\n",
    "    x = Conv2DTranspose(filters=filters,\n",
    "                        kernel_size=kernel_size,\n",
    "                        activation='relu',\n",
    "                        strides=2,\n",
    "                        padding='same')(x)\n",
    "    filters //= 2\n",
    "\n",
    "outputs = Conv2DTranspose(filters=1,\n",
    "                          kernel_size=kernel_size,\n",
    "                          activation='sigmoid',\n",
    "                          padding='same',\n",
    "                          name='decoder_output')(x)\n",
    "\n",
    "# instantiate decoder model\n",
    "decoder = Model(latent_inputs, outputs, name='decoder')\n",
    "decoder.summary()"
   ],
   "metadata": {
    "colab": {
     "base_uri": "https://localhost:8080/"
    },
    "id": "CCPDxwmJkg0y",
    "outputId": "08ee98de-bae5-49d2-8a78-a83e58e6c02b",
    "ExecuteTime": {
     "start_time": "2024-03-04T14:39:45.481943Z",
     "end_time": "2024-03-04T14:39:45.940540Z"
    }
   },
   "execution_count": null,
   "outputs": []
  },
  {
   "cell_type": "code",
   "source": [
    "#@title Instantiate VAE model\n",
    "outputs = decoder(encoder(inputs)[2])\n",
    "vae = Model(inputs, outputs, name='vae')\n",
    "\n",
    "use_mse = False\n",
    "if use_mse:\n",
    "  reconstruction_loss = mse(\n",
    "      K.flatten(inputs), K.flatten(outputs))\n",
    "else:\n",
    "  reconstruction_loss = binary_crossentropy(\n",
    "      K.flatten(inputs), K.flatten(outputs))\n",
    "\n",
    "reconstruction_loss *= image_size * image_size\n",
    "kl_loss = 1 + z_log_var - K.square(z_mean) - K.exp(z_log_var)\n",
    "kl_loss = K.sum(kl_loss, axis=-1)\n",
    "kl_loss *= -0.5\n",
    "\n",
    "vae_loss = K.mean(tf.math.add(reconstruction_loss, kl_loss))\n",
    "vae.add_loss(vae_loss)\n",
    "\n",
    "vae.compile(optimizer='adam')\n",
    "vae.summary()"
   ],
   "metadata": {
    "colab": {
     "base_uri": "https://localhost:8080/"
    },
    "id": "LsF6pWAJkpMA",
    "outputId": "f18fec80-34d5-4560-92fd-aa3ee11543e8",
    "ExecuteTime": {
     "start_time": "2024-03-04T14:39:52.179601Z",
     "end_time": "2024-03-04T14:39:52.455498Z"
    }
   },
   "execution_count": null,
   "outputs": []
  },
  {
   "cell_type": "code",
   "source": [
    "#@title History and Plot helpers\n",
    "history_loss = []\n",
    "history_val_loss = []\n",
    "\n",
    "def add_history(history):  \n",
    "  history_loss.append(history.history[\"loss\"])\n",
    "  history_val_loss.append(history.history[\"val_loss\"])  \n",
    "\n",
    "def reset_history():\n",
    "  global history_loss\n",
    "  global history_val_loss\n",
    "  history_loss = []\n",
    "  history_val_loss = []\n",
    "  return []\n",
    "\n",
    "def plot_results(num_images, images, labels, history):\n",
    "  add_history(history)\n",
    "  grid = math.ceil(math.sqrt(num_images))\n",
    "  plt.figure(figsize=(grid*2,grid*2))\n",
    "  for i in range(num_images):\n",
    "      plt.subplot(grid,grid,i+1)\n",
    "      plt.xticks([])\n",
    "      plt.yticks([])\n",
    "      plt.grid(False)     \n",
    "      plt.imshow(images[i].reshape(image_size,image_size))\n",
    "      plt.xlabel(class_names[labels[i]])      \n",
    "  plt.show()\n",
    "  plt.plot(np.array(history_loss)/max(history_loss), label='normalized loss')\n",
    "  plt.plot(np.array(history_val_loss)/max(history_val_loss), label='normalized val_loss')  \n",
    "  plt.legend()\n",
    "  plt.show()  "
   ],
   "metadata": {
    "id": "b6dTfFSKl-PA",
    "ExecuteTime": {
     "start_time": "2024-03-04T14:39:59.106443Z",
     "end_time": "2024-03-04T14:39:59.113365Z"
    }
   },
   "execution_count": null,
   "outputs": []
  },
  {
   "cell_type": "code",
   "source": [
    "#@title Training the VAE\n",
    "history = reset_history()\n",
    "\n",
    "for i in range(epochs):\n",
    "  history = vae.fit(x_train,x_train, epochs=1, batch_size=batch_size, validation_data=(x_test, x_test, None))\n",
    "  pred_images = vae.predict(x_test[:25])\n",
    "  clear_output()\n",
    "  plot_results(25, pred_images[:25], y_test[:25], history)"
   ],
   "metadata": {
    "colab": {
     "base_uri": "https://localhost:8080/",
     "height": 837
    },
    "id": "kX1dhBCMmG72",
    "outputId": "a702cf20-85bb-4d22-df1f-4c710b50db1e",
    "ExecuteTime": {
     "start_time": "2024-03-04T14:40:18.823666Z",
     "end_time": "2024-03-04T14:43:21.670797Z"
    }
   },
   "execution_count": null,
   "outputs": []
  },
  {
   "cell_type": "code",
   "source": [
    "#@title Display a 30x30 2D manifold of digits\n",
    "n = 10\n",
    "digit_size = 28\n",
    "figure = np.zeros((digit_size * n, digit_size * n))\n",
    "# linearly spaced coordinates corresponding to the 2D plot\n",
    "# of digit classes in the latent space\n",
    "grid_x = np.linspace(-4, 4, n)\n",
    "grid_y = np.linspace(-1, 1, n)[::-1]\n",
    "\n",
    "for i, yi in enumerate(grid_y):\n",
    "    for j, xi in enumerate(grid_x):\n",
    "        z_sample = np.array([[xi, yi]])\n",
    "        x_decoded = decoder.predict(z_sample)\n",
    "        digit = x_decoded[0].reshape(digit_size, digit_size)\n",
    "        figure[i * digit_size: (i + 1) * digit_size,\n",
    "                j * digit_size: (j + 1) * digit_size] = digit\n",
    "\n",
    "plt.figure(figsize=(10, 10))\n",
    "start_range = digit_size // 2\n",
    "end_range = n * digit_size + start_range + 1\n",
    "pixel_range = np.arange(start_range, end_range, digit_size)\n",
    "sample_range_x = np.round(grid_x, 1)\n",
    "sample_range_y = np.round(grid_y, 1)\n",
    "plt.xticks(pixel_range, sample_range_x)\n",
    "plt.yticks(pixel_range, sample_range_y)\n",
    "plt.xlabel(\"mean\")\n",
    "plt.ylabel(\"variance\")\n",
    "plt.imshow(figure)\n",
    "plt.show()"
   ],
   "metadata": {
    "colab": {
     "base_uri": "https://localhost:8080/",
     "height": 606
    },
    "id": "WS84Aawq-zVm",
    "outputId": "fb04cbe9-8d3d-47ad-922c-73252b77aa05"
   },
   "execution_count": null,
   "outputs": []
  },
  {
   "cell_type": "code",
   "execution_count": null,
   "outputs": [],
   "source": [],
   "metadata": {
    "collapsed": false
   }
  }
 ]
}
