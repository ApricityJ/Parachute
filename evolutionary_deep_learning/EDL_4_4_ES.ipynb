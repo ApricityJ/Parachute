{
 "cells": [
  {
   "cell_type": "code",
   "execution_count": 1,
   "metadata": {
    "collapsed": true,
    "ExecuteTime": {
     "start_time": "2024-01-30T14:28:46.916272Z",
     "end_time": "2024-01-30T14:28:47.285855Z"
    }
   },
   "outputs": [],
   "source": [
    "import array\n",
    "import random\n",
    "import time\n",
    "\n",
    "import numpy as np\n",
    "\n",
    "from deap import algorithms\n",
    "from deap import base\n",
    "from deap import benchmarks\n",
    "from deap import creator\n",
    "from deap import tools\n",
    "\n",
    "%matplotlib inline\n",
    "import matplotlib.pyplot as plt\n",
    "from IPython.display import clear_output"
   ]
  },
  {
   "cell_type": "code",
   "execution_count": 2,
   "outputs": [],
   "source": [
    "#@title ES Bounding Hyperparameters\n",
    "IND_SIZE = 6\n",
    "NGEN = 1000\n",
    "MIN_VALUE = 4\n",
    "MAX_VALUE = 5\n",
    "MIN_STRATEGY = 0.5\n",
    "MAX_STRATEGY = 3\n",
    "\n",
    "CXPB = .6\n",
    "MUTPB = .3\n",
    "GEN_OUTPUT = 25\n",
    "MAX_TIME = 5"
   ],
   "metadata": {
    "collapsed": false,
    "ExecuteTime": {
     "start_time": "2024-01-30T14:29:00.842577Z",
     "end_time": "2024-01-30T14:29:00.847847Z"
    }
   }
  },
  {
   "cell_type": "code",
   "execution_count": 3,
   "outputs": [
    {
     "data": {
      "text/plain": "[<matplotlib.lines.Line2D at 0x10eb6c1f0>]"
     },
     "execution_count": 3,
     "metadata": {},
     "output_type": "execute_result"
    },
    {
     "data": {
      "text/plain": "<Figure size 432x288 with 1 Axes>",
      "image/png": "[encoded data removed]"
     },
     "metadata": {
      "needs_background": "light"
     },
     "output_type": "display_data"
    }
   ],
   "source": [
    "#@title Generate regression data\n",
    "equation_form = \"polynomial\" #@param [\"polynomial\", \"abs\", \"step\"]\n",
    "\n",
    "X_START = -5\n",
    "X_END = 5\n",
    "X_STEP = 0.5\n",
    "\n",
    "def equation(x):\n",
    "  if equation_form == \"polynomial\":\n",
    "    return (2*x + 3*x**2 + 4*x**3 + 5*x**4 + 6*x**5 + 10)\n",
    "  elif equation_form == \"abs\":\n",
    "    return abs(x)\n",
    "  else:\n",
    "    return np.where(x>1, 1, 0)\n",
    "\n",
    "X = np.array([x for x in np.arange(X_START, X_END, X_STEP)])\n",
    "Y = equation(X)\n",
    "data = list(zip(X, Y))\n",
    "\n",
    "plt.plot(X,Y)"
   ],
   "metadata": {
    "collapsed": false,
    "ExecuteTime": {
     "start_time": "2024-01-30T14:29:14.729994Z",
     "end_time": "2024-01-30T14:29:14.824743Z"
    }
   }
  },
  {
   "cell_type": "code",
   "execution_count": 4,
   "outputs": [],
   "source": [
    "#@title Create the Creator\n",
    "creator.create(\"FitnessMin\", base.Fitness, weights=(-1.0,))\n",
    "creator.create(\"Individual\", array.array, typecode=\"d\", fitness=creator.FitnessMin, strategy=None)\n",
    "creator.create(\"Strategy\", array.array, typecode=\"d\")"
   ],
   "metadata": {
    "collapsed": false,
    "ExecuteTime": {
     "start_time": "2024-01-30T14:29:28.864098Z",
     "end_time": "2024-01-30T14:29:28.873757Z"
    }
   }
  },
  {
   "cell_type": "code",
   "execution_count": 5,
   "outputs": [],
   "source": [
    "#@title Individual generator and decorate functions\n",
    "def generateES(icls, scls, size, imin, imax, smin, smax):\n",
    "  ind = icls(random.uniform(imin, imax) for _ in range(size))\n",
    "  ind.strategy = scls(random.uniform(smin, smax) for _ in range(size))\n",
    "  return ind\n",
    "\n",
    "def checkStrategy(minstrategy):\n",
    "  def decorator(func):\n",
    "    def wrappper(*args, **kargs):\n",
    "      children = func(*args, **kargs)\n",
    "      for child in children:\n",
    "        for i, s in enumerate(child.strategy):\n",
    "          if s < minstrategy:\n",
    "            child.strategy[i] = minstrategy\n",
    "      return children\n",
    "    return wrappper\n",
    "  return decorator"
   ],
   "metadata": {
    "collapsed": false,
    "ExecuteTime": {
     "start_time": "2024-01-30T14:29:47.090437Z",
     "end_time": "2024-01-30T14:29:47.099178Z"
    }
   }
  },
  {
   "cell_type": "code",
   "execution_count": 6,
   "outputs": [
    {
     "name": "stdout",
     "output_type": "stream",
     "text": [
      "<function checkStrategy.<locals>.decorator at 0x10ec35f70>\n"
     ]
    }
   ],
   "source": [
    "#@title Setup the Toolbox\n",
    "print(checkStrategy(MIN_STRATEGY))\n",
    "toolbox = base.Toolbox()\n",
    "toolbox.register(\"individual\", generateES, creator.Individual, creator.Strategy,\n",
    "    IND_SIZE, MIN_VALUE, MAX_VALUE, MIN_STRATEGY, MAX_STRATEGY)\n",
    "toolbox.register(\"population\", tools.initRepeat, list, toolbox.individual)\n",
    "toolbox.register(\"mate\", tools.cxESBlend, alpha=0.1)\n",
    "toolbox.register(\"mutate\", tools.mutESLogNormal, c=1.0, indpb=0.03)\n",
    "toolbox.register(\"select\", tools.selTournament, tournsize=3)\n",
    "\n",
    "toolbox.decorate(\"mate\", checkStrategy(MIN_STRATEGY))\n",
    "toolbox.decorate(\"mutate\", checkStrategy(MIN_STRATEGY))"
   ],
   "metadata": {
    "collapsed": false,
    "ExecuteTime": {
     "start_time": "2024-01-30T14:30:14.671707Z",
     "end_time": "2024-01-30T14:30:14.685835Z"
    }
   }
  },
  {
   "cell_type": "code",
   "execution_count": 7,
   "outputs": [],
   "source": [
    "#@title Evaluation of fitness\n",
    "def pred(ind, x):\n",
    "  y_ = 0.0\n",
    "  for i in range(1,IND_SIZE):\n",
    "    y_ += ind[i-1]*x**i\n",
    "  y_ += ind[IND_SIZE-1]\n",
    "  return y_\n",
    "\n",
    "def fitness(ind, data):\n",
    "  mse = 0.0\n",
    "  for x, y in data:\n",
    "    y_ = pred(ind, x)\n",
    "    mse += (y - y_)**2\n",
    "  return mse/len(data),\n",
    "\n",
    "# fitness eval\n",
    "toolbox.register(\"evaluate\", fitness, data=data)"
   ],
   "metadata": {
    "collapsed": false,
    "ExecuteTime": {
     "start_time": "2024-01-30T14:30:28.425403Z",
     "end_time": "2024-01-30T14:30:28.435607Z"
    }
   }
  },
  {
   "cell_type": "code",
   "execution_count": 8,
   "outputs": [],
   "source": [
    "#@title Plot Fitness\n",
    "def plot_fitness(g, best, pop, logbook):\n",
    "  Y_ = np.array([pred(best, x) for x in X])\n",
    "  clear_output()\n",
    "  best = [round(b,1) for b in best]\n",
    "  print(f\"Generation {g}, Best {best}\")\n",
    "  print(logbook.stream)\n",
    "  fits = [f.fitness.values[0] for f in pop]\n",
    "  plt.hist(fits)\n",
    "  plt.show()\n",
    "  plt.scatter(X,Y)\n",
    "  plt.plot(X,Y_, 'r')\n",
    "  plt.show()"
   ],
   "metadata": {
    "collapsed": false,
    "ExecuteTime": {
     "start_time": "2024-01-30T14:30:41.110099Z",
     "end_time": "2024-01-30T14:30:41.124348Z"
    }
   }
  },
  {
   "cell_type": "code",
   "execution_count": 9,
   "outputs": [
    {
     "name": "stdout",
     "output_type": "stream",
     "text": [
      "Generation 99, Best [2.7, 4.3, 4.0, 4.9, 6.0, 6.8]\n",
      "gen\tnevals\tavg    \tstd       \tmin    \tmax    \n",
      "0  \t0     \t8.89512\t0.00124024\t8.89244\t8.90194\n",
      "1  \t892   \t8.91306\t0.297534  \t8.89162\t13.608 \n"
     ]
    },
    {
     "data": {
      "text/plain": "<Figure size 432x288 with 1 Axes>",
      "image/png": "[encoded data removed]"
     },
     "metadata": {
      "needs_background": "light"
     },
     "output_type": "display_data"
    },
    {
     "data": {
      "text/plain": "<Figure size 432x288 with 1 Axes>",
      "image/png": "[encoded data removed]"
     },
     "metadata": {
      "needs_background": "light"
     },
     "output_type": "display_data"
    },
    {
     "name": "stdout",
     "output_type": "stream",
     "text": [
      "Best individual is  [2.7, 4.3, 4.0, 4.9, 6.0, 6.8] 8.88\n"
     ]
    }
   ],
   "source": [
    "#@title Run the Evolution\n",
    "random.seed(64)\n",
    "\n",
    "MU, LAMBDA = 250, 1000\n",
    "pop = toolbox.population(n=MU)\n",
    "hof = tools.HallOfFame(1)\n",
    "stats = tools.Statistics(lambda ind: ind.fitness.values)\n",
    "stats.register(\"avg\", np.mean)\n",
    "stats.register(\"std\", np.std)\n",
    "stats.register(\"min\", np.min)\n",
    "stats.register(\"max\", np.max)\n",
    "\n",
    "start = time.time()\n",
    "for g in range(NGEN):\n",
    "  pop, logbook = algorithms.eaMuCommaLambda(pop, toolbox, mu=MU, lambda_=LAMBDA,\n",
    "            cxpb=CXPB, mutpb=MUTPB, ngen=1, stats=stats, halloffame=hof, verbose=False)\n",
    "  if (g+1) % GEN_OUTPUT == 0:\n",
    "    plot_fitness(g, hof[0], pop, logbook)\n",
    "    end = time.time()\n",
    "    if end-start > MAX_TIME:\n",
    "      break\n",
    "\n",
    "best = [round(i,1) for i in hof[0]]\n",
    "print(\"Best individual is \", best, round(hof[0].fitness.values[0],2))"
   ],
   "metadata": {
    "collapsed": false,
    "ExecuteTime": {
     "start_time": "2024-01-30T14:30:55.956319Z",
     "end_time": "2024-01-30T14:31:01.175149Z"
    }
   }
  },
  {
   "cell_type": "code",
   "execution_count": null,
   "outputs": [],
   "source": [],
   "metadata": {
    "collapsed": false
   }
  }
 ],
 "metadata": {
  "kernelspec": {
   "display_name": "Python 3",
   "language": "python",
   "name": "python3"
  },
  "language_info": {
   "codemirror_mode": {
    "name": "ipython",
    "version": 2
   },
   "file_extension": ".py",
   "mimetype": "text/x-python",
   "name": "python",
   "nbconvert_exporter": "python",
   "pygments_lexer": "ipython2",
   "version": "2.7.6"
  }
 },
 "nbformat": 4,
 "nbformat_minor": 0
}
