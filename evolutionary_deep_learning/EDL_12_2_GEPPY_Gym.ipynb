{
 "cells": [
  {
   "cell_type": "code",
   "execution_count": null,
   "metadata": {
    "colab": {
     "base_uri": "https://localhost:8080/"
    },
    "id": "638e4Vps_AS9",
    "outputId": "6faa30d7-efe4-422d-d810-c079fd9a5d32"
   },
   "outputs": [
    {
     "data": {
      "text/plain": [
       "<Display cmd_param=['Xvfb', '-br', '-nolisten', 'tcp', '-screen', '0', '1400x900x24', ':1001'] cmd=['Xvfb', '-br', '-nolisten', 'tcp', '-screen', '0', '1400x900x24', ':1001'] oserror=None return_code=None stdout=\"None\" stderr=\"None\" timeout_happened=False>"
      ]
     },
     "execution_count": 4,
     "metadata": {},
     "output_type": "execute_result"
    }
   ],
   "source": [
    "from pyvirtualdisplay import Display\n",
    "display = Display(visible=0, size=(1400, 900))\n",
    "display.start()"
   ]
  },
  {
   "cell_type": "code",
   "execution_count": null,
   "metadata": {
    "id": "PFEXb-Nb-j4l"
   },
   "outputs": [],
   "source": [
    "import geppy as gep\n",
    "from deap import creator, base, tools\n",
    "import numpy as np\n",
    "import random\n",
    "\n",
    "import gym.wrappers\n",
    "import os\n",
    "import mediapy \n",
    "import matplotlib.pyplot as plt\n",
    "from IPython.display import clear_output\n",
    "\n",
    "import gym\n",
    "\n",
    "# for reproduction\n",
    "s = 0\n",
    "random.seed(s)\n",
    "np.random.seed(s)"
   ]
  },
  {
   "cell_type": "code",
   "execution_count": null,
   "metadata": {
    "colab": {
     "base_uri": "https://localhost:8080/",
     "height": 304
    },
    "id": "SmGiH6qAZdxB",
    "outputId": "87967baa-8f4c-4cf8-fd07-f86a39651060"
   },
   "outputs": [
    {
     "name": "stdout",
     "output_type": "stream",
     "text": [
      "action space: Box(-1.0, 1.0, (1,), float32)\n",
      "observation space: Box(-1.2000000476837158, 0.6000000238418579, (2,), float32)\n"
     ]
    },
    {
     "data": {
      "image/png": "[encoded data removed]",
      "text/plain": [
       "<Figure size 432x288 with 1 Axes>"
      ]
     },
     "metadata": {
      "needs_background": "light"
     },
     "output_type": "display_data"
    }
   ],
   "source": [
    "#@title Siumlate Environment Run { run: \"auto\" }\n",
    "ENVIRONMENT = \"MountainCarContinuous-v0\" #@param ['Pendulum-v0', 'MountainCarContinuous-v0']\n",
    "\n",
    "env = gym.make(ENVIRONMENT)\n",
    "\n",
    "env.reset()\n",
    "plt.imshow(env.render(mode='rgb_array'))\n",
    "\n",
    "print(\"action space: {0!r}\".format(env.action_space))\n",
    "print(\"observation space: {0!r}\".format(env.observation_space))"
   ]
  },
  {
   "cell_type": "code",
   "execution_count": null,
   "metadata": {
    "id": "jOTzbnM7-6BU"
   },
   "outputs": [],
   "source": [
    "def protected_div(x1, x2):\n",
    "    if abs(x2) < 1e-6:\n",
    "        return 1\n",
    "    return x1 / x2"
   ]
  },
  {
   "cell_type": "code",
   "execution_count": null,
   "metadata": {
    "id": "U5fMx_pA-9L8"
   },
   "outputs": [],
   "source": [
    "import operator \n",
    "\n",
    "if ENVIRONMENT == \"Pendulum-v0\":\n",
    "  pset = gep.PrimitiveSet('Main', input_names=['x', 'y', 'velocity'])\n",
    "elif ENVIRONMENT == \"MountainCarContinuous-v0\":\n",
    "  pset = gep.PrimitiveSet('Main', input_names=['x', 'y'])\n",
    "pset.add_function(operator.add, 2)\n",
    "pset.add_function(operator.sub, 2)\n",
    "pset.add_function(operator.mul, 2)\n",
    "pset.add_function(protected_div, 2)\n",
    "pset.add_ephemeral_terminal(name='enc', gen=lambda: random.randint(-10, 10)) # each ENC is a random integer within [-10, 10]"
   ]
  },
  {
   "cell_type": "code",
   "execution_count": null,
   "metadata": {
    "id": "fqCYCd8T_CNk"
   },
   "outputs": [],
   "source": [
    "from deap import creator, base, tools\n",
    "\n",
    "creator.create(\"FitnessMax\", base.Fitness, weights=(1,))  # to minimize the objective (fitness)\n",
    "creator.create(\"Individual\", gep.Chromosome, fitness=creator.FitnessMax)"
   ]
  },
  {
   "cell_type": "code",
   "execution_count": null,
   "metadata": {
    "id": "RutDOOsL_E3s"
   },
   "outputs": [],
   "source": [
    "h = 7 # head length\n",
    "n_genes = 2   # number of genes in a chromosome"
   ]
  },
  {
   "cell_type": "code",
   "execution_count": null,
   "metadata": {
    "id": "Ya1PRxkx_HtE"
   },
   "outputs": [],
   "source": [
    "toolbox = gep.Toolbox()\n",
    "toolbox.register('gene_gen', gep.Gene, pset=pset, head_length=h)\n",
    "toolbox.register('individual', creator.Individual, gene_gen=toolbox.gene_gen, n_genes=n_genes, linker=operator.add)\n",
    "toolbox.register(\"population\", tools.initRepeat, list, toolbox.individual)\n",
    "\n",
    "# compile utility: which translates an individual into an executable function (Lambda)\n",
    "toolbox.register('compile', gep.compile_, pset=pset)"
   ]
  },
  {
   "cell_type": "code",
   "execution_count": null,
   "metadata": {
    "id": "k41Ua4tZadOx"
   },
   "outputs": [],
   "source": [
    "#@title Simulation Options { run: \"auto\" }\n",
    "SIMULATION_STEPS = 99\n",
    "SIMULATION_RUNS = 10 #@param {type:\"slider\", min:1, max:10, step:1}"
   ]
  },
  {
   "cell_type": "code",
   "execution_count": null,
   "metadata": {
    "colab": {
     "base_uri": "https://localhost:8080/"
    },
    "id": "HrXi_929oXGq",
    "outputId": "9f1a026b-7eb4-4a0b-9178-e4e4d1a9fb26"
   },
   "outputs": [
    {
     "name": "stdout",
     "output_type": "stream",
     "text": [
      "[-1.]\n"
     ]
    }
   ],
   "source": [
    "print(env.action_space.low)"
   ]
  },
  {
   "cell_type": "code",
   "execution_count": null,
   "metadata": {
    "colab": {
     "base_uri": "https://localhost:8080/",
     "height": 441
    },
    "id": "hpmINhQ95vvj",
    "outputId": "a24e5b7b-c99f-4a39-d6c5-fdb10379d582"
   },
   "outputs": [],
   "source": [
    "def func_random(state):\n",
    "  return env.action_space.sample()\n",
    "\n",
    "frames = []\n",
    "fitness = 0\n",
    "for run in range(SIMULATION_RUNS):  \n",
    "  state = env.reset()\n",
    "  for i in range(SIMULATION_STEPS):\n",
    "    action = func_random(state)      \n",
    "    state, reward, done, info = env.step(action)     \n",
    "    fitness += reward # reward for each step   \n",
    "    frames.append(env.render(mode='rgb_array'))    \n",
    "    if done:       \n",
    "      break \n",
    "\n",
    "print(fitness)\n",
    "mediapy.show_video(frames, fps=30)"
   ]
  },
  {
   "cell_type": "code",
   "execution_count": null,
   "metadata": {
    "colab": {
     "base_uri": "https://localhost:8080/",
     "height": 441
    },
    "id": "ZgFtzmKndN8N",
    "outputId": "6c7a276b-132e-4cae-ef11-680e2ac1d5ad"
   },
   "outputs": [],
   "source": [
    "if ENVIRONMENT == \"Pendulum-v0\":\n",
    "  def func(x, y, velocity):\n",
    "    return x * y / velocity\n",
    "elif ENVIRONMENT == \"MountainCarContinuous-v0\":\n",
    "  def func(x, y):\n",
    "    return x * y \n",
    "\n",
    "def func_random(state):\n",
    "  env.action_space.sample()\n",
    "\n",
    "def clamp(minv, maxv, val):\n",
    "  return min(max(minv, val), maxv)\n",
    "\n",
    "def convert_to_action(act, env):\n",
    "  #convert act space to within environment action space     \n",
    "  return clamp(env.action_space.low, env.action_space.high, act)\n",
    "\n",
    "frames = []\n",
    "fitness = 0\n",
    "  \n",
    "state = env.reset()  \n",
    "for i in range(SIMULATION_STEPS):\n",
    "  action = convert_to_action(func(*state), env) \n",
    "  state, reward, done, info = env.step([action])     \n",
    "  fitness += reward # reward for each step \n",
    "  frames.append(env.render(mode='rgb_array')) \n",
    "  if done:       \n",
    "    break \n",
    "\n",
    "print(fitness)\n",
    "mediapy.show_video(frames, fps=30)"
   ]
  },
  {
   "cell_type": "code",
   "execution_count": null,
   "metadata": {
    "id": "44x6LiQg_K10"
   },
   "outputs": [],
   "source": [
    "def evaluate(individual):\n",
    "    \"\"\"Evalute the fitness of an individual\"\"\"\n",
    "    func = toolbox.compile(individual)\n",
    "    fitness = 0\n",
    "    for run in range(SIMULATION_RUNS):  \n",
    "      state = env.reset()   \n",
    "      actions=[]   \n",
    "      for i in range(SIMULATION_STEPS):\n",
    "        action = convert_to_action(func(*state), env)\n",
    "        state, reward, done, info = env.step([action])             \n",
    "        fitness += reward       \n",
    "        if done:                              \n",
    "          break      \n",
    "    \n",
    "    return fitness, \n",
    "\n",
    "toolbox.register('evaluate', evaluate)"
   ]
  },
  {
   "cell_type": "code",
   "execution_count": null,
   "metadata": {
    "id": "q3asJCb7_mi9"
   },
   "outputs": [],
   "source": [
    "toolbox.register('select', tools.selTournament, tournsize=3)\n",
    "# 1. general operators\n",
    "toolbox.register('mut_uniform', gep.mutate_uniform, pset=pset, ind_pb=0.05, pb=1)\n",
    "toolbox.register('mut_invert', gep.invert, pb=0.1)\n",
    "toolbox.register('mut_is_transpose', gep.is_transpose, pb=0.1)\n",
    "toolbox.register('mut_ris_transpose', gep.ris_transpose, pb=0.1)\n",
    "toolbox.register('mut_gene_transpose', gep.gene_transpose, pb=0.1)\n",
    "toolbox.register('cx_1p', gep.crossover_one_point, pb=0.4)\n",
    "toolbox.register('cx_2p', gep.crossover_two_point, pb=0.2)\n",
    "toolbox.register('cx_gene', gep.crossover_gene, pb=0.1)\n",
    "toolbox.register('mut_ephemeral', gep.mutate_uniform_ephemeral, ind_pb='1p')  # 1p: expected one point mutation in an individual\n",
    "toolbox.pbs['mut_ephemeral'] = 1  # we can also give the probability via the pbs property"
   ]
  },
  {
   "cell_type": "code",
   "execution_count": null,
   "metadata": {
    "id": "ztOYvQHk_qiN"
   },
   "outputs": [],
   "source": [
    "stats = tools.Statistics(key=lambda ind: ind.fitness.values[0])\n",
    "stats.register(\"avg\", np.mean)\n",
    "stats.register(\"std\", np.std)\n",
    "stats.register(\"min\", np.min)\n",
    "stats.register(\"max\", np.max)"
   ]
  },
  {
   "cell_type": "code",
   "execution_count": null,
   "metadata": {
    "id": "rTDmVZdyRRGu"
   },
   "outputs": [],
   "source": [
    "def show_best(best):\n",
    "  func = toolbox.compile(best)\n",
    "  frames = []\n",
    "  fitness = 0\n",
    "  state = env.reset()\n",
    "  for i in range(SIMULATION_STEPS):\n",
    "    action = convert_to_action(func(*state), env)         \n",
    "    state, reward, done, info = env.step([action])    \n",
    "    frames.append(env.render(mode='rgb_array')) \n",
    "    fitness += reward\n",
    "    if done:       \n",
    "      break \n",
    "  \n",
    "  mediapy.show_video(frames, fps=30)  \n",
    "  try:\n",
    "    symplified_best = gep.simplify(best)\n",
    "    print(f'Symplified best individual: {fitness}')\n",
    "    print(symplified_best)\n",
    "  except:\n",
    "    pass"
   ]
  },
  {
   "cell_type": "code",
   "execution_count": null,
   "metadata": {
    "colab": {
     "base_uri": "https://localhost:8080/",
     "height": 475
    },
    "id": "QCqOB-v5_vXd",
    "outputId": "f1b86d7e-1815-43e2-9ee0-8a28c95fefe1"
   },
   "outputs": [],
   "source": [
    "#@title Evolve the Equation\n",
    "# size of population and number of generations\n",
    "POPULATION = 1000 #@param {type:\"slider\", min:10, max:1000, step:5}\n",
    "GENERATIONS = 250 #@param {type:\"slider\", min:10, max:250, step:1}\n",
    "\n",
    "pop = toolbox.population(n=POPULATION)\n",
    "hof = tools.HallOfFame(3)   # only record the best three individuals ever found in all generations\n",
    "\n",
    "# start evolution\n",
    "for gen in range(GENERATIONS):\n",
    "  pop, log = gep.gep_simple(pop, toolbox, n_generations=1, n_elites=1,\n",
    "                            stats=stats, hall_of_fame=hof, verbose=True)  \n",
    "  clear_output()\n",
    "  print(f\"GENERATION: {gen}\")\n",
    "  best = hof[0]\n",
    "  show_best(best)  "
   ]
  },
  {
   "cell_type": "code",
   "execution_count": null,
   "metadata": {
    "colab": {
     "base_uri": "https://localhost:8080/"
    },
    "id": "DwwTBLlfALMd",
    "outputId": "c0ba11ec-be33-44ab-befc-cf36fe4a45bd"
   },
   "outputs": [
    {
     "data": {
      "image/png": "[encoded data removed]",
      "text/plain": [
       "<IPython.core.display.Image object>"
      ]
     },
     "execution_count": 21,
     "metadata": {},
     "output_type": "execute_result"
    }
   ],
   "source": [
    "# we want use symbol labels instead of words in the tree graph\n",
    "best = hof[0]\n",
    "rename_labels = {'add': '+', 'sub': '-', 'mul': '*', 'protected_div': '/'}  \n",
    "gep.export_expression_tree(best, rename_labels, 'data/numerical_expression_tree.png')\n",
    "\n",
    "# show the above image here for convenience\n",
    "from IPython.display import Image\n",
    "Image(filename='data/numerical_expression_tree.png')"
   ]
  }
 ],
 "metadata": {
  "colab": {
   "authorship_tag": "ABX9TyMoNvLd86wWNO9M4F359WvM",
   "collapsed_sections": [],
   "include_colab_link": true,
   "name": "EDL_12_2_GEPPY_Gym.ipynb",
   "provenance": []
  },
  "kernelspec": {
   "display_name": "Python 3",
   "name": "python3"
  }
 },
 "nbformat": 4,
 "nbformat_minor": 0
}
